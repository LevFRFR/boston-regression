{
  "nbformat": 4,
  "nbformat_minor": 0,
  "metadata": {
    "colab": {
      "provenance": [],
      "toc_visible": true,
      "mount_file_id": "1YDXiNwM5VJNbx94HdSTIB2ck3Wm3J_xd",
      "authorship_tag": "ABX9TyMV16TnePMI53zOxI9SirWG",
      "include_colab_link": true
    },
    "kernelspec": {
      "name": "python3",
      "display_name": "Python 3"
    },
    "language_info": {
      "name": "python"
    }
  },
  "cells": [
    {
      "cell_type": "markdown",
      "metadata": {
        "id": "view-in-github",
        "colab_type": "text"
      },
      "source": [
        "<a href=\"https://colab.research.google.com/github/LevFRFR/boston-regression/blob/main/boston_housing.ipynb\" target=\"_parent\"><img src=\"https://colab.research.google.com/assets/colab-badge.svg\" alt=\"Open In Colab\"/></a>"
      ]
    },
    {
      "cell_type": "markdown",
      "source": [
        "## The Problem\n",
        "\n",
        "### Objective\n",
        "Accurately predict the median housing value of owner-occupied homes in Boston."
      ],
      "metadata": {
        "id": "ZQ6xIvS03BR2"
      }
    },
    {
      "cell_type": "markdown",
      "source": [
        "\n",
        "## The Data"
      ],
      "metadata": {
        "id": "xFpL26JH4BDC"
      }
    },
    {
      "cell_type": "markdown",
      "source": [
        "### Get the Data"
      ],
      "metadata": {
        "id": "RhhTSEhH8s1X"
      }
    },
    {
      "cell_type": "code",
      "source": [
        "from sklearn.datasets import load_boston\n",
        "\n",
        "boston = load_boston()"
      ],
      "metadata": {
        "colab": {
          "base_uri": "https://localhost:8080/"
        },
        "id": "jD3dvdry3F_L",
        "outputId": "7717e9c7-318b-4b43-f98f-a69e9b89dac5"
      },
      "execution_count": null,
      "outputs": [
        {
          "output_type": "stream",
          "name": "stderr",
          "text": [
            "/usr/local/lib/python3.8/dist-packages/sklearn/utils/deprecation.py:87: FutureWarning: Function load_boston is deprecated; `load_boston` is deprecated in 1.0 and will be removed in 1.2.\n",
            "\n",
            "    The Boston housing prices dataset has an ethical problem. You can refer to\n",
            "    the documentation of this function for further details.\n",
            "\n",
            "    The scikit-learn maintainers therefore strongly discourage the use of this\n",
            "    dataset unless the purpose of the code is to study and educate about\n",
            "    ethical issues in data science and machine learning.\n",
            "\n",
            "    In this special case, you can fetch the dataset from the original\n",
            "    source::\n",
            "\n",
            "        import pandas as pd\n",
            "        import numpy as np\n",
            "\n",
            "\n",
            "        data_url = \"http://lib.stat.cmu.edu/datasets/boston\"\n",
            "        raw_df = pd.read_csv(data_url, sep=\"\\s+\", skiprows=22, header=None)\n",
            "        data = np.hstack([raw_df.values[::2, :], raw_df.values[1::2, :2]])\n",
            "        target = raw_df.values[1::2, 2]\n",
            "\n",
            "    Alternative datasets include the California housing dataset (i.e.\n",
            "    :func:`~sklearn.datasets.fetch_california_housing`) and the Ames housing\n",
            "    dataset. You can load the datasets as follows::\n",
            "\n",
            "        from sklearn.datasets import fetch_california_housing\n",
            "        housing = fetch_california_housing()\n",
            "\n",
            "    for the California housing dataset and::\n",
            "\n",
            "        from sklearn.datasets import fetch_openml\n",
            "        housing = fetch_openml(name=\"house_prices\", as_frame=True)\n",
            "\n",
            "    for the Ames housing dataset.\n",
            "    \n",
            "  warnings.warn(msg, category=FutureWarning)\n"
          ]
        }
      ]
    },
    {
      "cell_type": "markdown",
      "source": [
        "### Convert into a format for easy manipulation"
      ],
      "metadata": {
        "id": "-dTADHN08l_O"
      }
    },
    {
      "cell_type": "code",
      "source": [
        "import pandas as pd\n",
        "\n",
        "boston_df = pd.DataFrame(boston.data, columns=boston.feature_names)\n",
        "boston_df.head()"
      ],
      "metadata": {
        "colab": {
          "base_uri": "https://localhost:8080/",
          "height": 206
        },
        "id": "H9InskYk3y85",
        "outputId": "6ab98434-c9a0-42fa-9447-e7a339bd4455"
      },
      "execution_count": null,
      "outputs": [
        {
          "output_type": "execute_result",
          "data": {
            "text/plain": [
              "      CRIM    ZN  INDUS  CHAS    NOX     RM   AGE     DIS  RAD    TAX  \\\n",
              "0  0.00632  18.0   2.31   0.0  0.538  6.575  65.2  4.0900  1.0  296.0   \n",
              "1  0.02731   0.0   7.07   0.0  0.469  6.421  78.9  4.9671  2.0  242.0   \n",
              "2  0.02729   0.0   7.07   0.0  0.469  7.185  61.1  4.9671  2.0  242.0   \n",
              "3  0.03237   0.0   2.18   0.0  0.458  6.998  45.8  6.0622  3.0  222.0   \n",
              "4  0.06905   0.0   2.18   0.0  0.458  7.147  54.2  6.0622  3.0  222.0   \n",
              "\n",
              "   PTRATIO       B  LSTAT  \n",
              "0     15.3  396.90   4.98  \n",
              "1     17.8  396.90   9.14  \n",
              "2     17.8  392.83   4.03  \n",
              "3     18.7  394.63   2.94  \n",
              "4     18.7  396.90   5.33  "
            ],
            "text/html": [
              "\n",
              "  <div id=\"df-adf4f9a7-956a-42d6-a7a8-71e4e3ef1256\">\n",
              "    <div class=\"colab-df-container\">\n",
              "      <div>\n",
              "<style scoped>\n",
              "    .dataframe tbody tr th:only-of-type {\n",
              "        vertical-align: middle;\n",
              "    }\n",
              "\n",
              "    .dataframe tbody tr th {\n",
              "        vertical-align: top;\n",
              "    }\n",
              "\n",
              "    .dataframe thead th {\n",
              "        text-align: right;\n",
              "    }\n",
              "</style>\n",
              "<table border=\"1\" class=\"dataframe\">\n",
              "  <thead>\n",
              "    <tr style=\"text-align: right;\">\n",
              "      <th></th>\n",
              "      <th>CRIM</th>\n",
              "      <th>ZN</th>\n",
              "      <th>INDUS</th>\n",
              "      <th>CHAS</th>\n",
              "      <th>NOX</th>\n",
              "      <th>RM</th>\n",
              "      <th>AGE</th>\n",
              "      <th>DIS</th>\n",
              "      <th>RAD</th>\n",
              "      <th>TAX</th>\n",
              "      <th>PTRATIO</th>\n",
              "      <th>B</th>\n",
              "      <th>LSTAT</th>\n",
              "    </tr>\n",
              "  </thead>\n",
              "  <tbody>\n",
              "    <tr>\n",
              "      <th>0</th>\n",
              "      <td>0.00632</td>\n",
              "      <td>18.0</td>\n",
              "      <td>2.31</td>\n",
              "      <td>0.0</td>\n",
              "      <td>0.538</td>\n",
              "      <td>6.575</td>\n",
              "      <td>65.2</td>\n",
              "      <td>4.0900</td>\n",
              "      <td>1.0</td>\n",
              "      <td>296.0</td>\n",
              "      <td>15.3</td>\n",
              "      <td>396.90</td>\n",
              "      <td>4.98</td>\n",
              "    </tr>\n",
              "    <tr>\n",
              "      <th>1</th>\n",
              "      <td>0.02731</td>\n",
              "      <td>0.0</td>\n",
              "      <td>7.07</td>\n",
              "      <td>0.0</td>\n",
              "      <td>0.469</td>\n",
              "      <td>6.421</td>\n",
              "      <td>78.9</td>\n",
              "      <td>4.9671</td>\n",
              "      <td>2.0</td>\n",
              "      <td>242.0</td>\n",
              "      <td>17.8</td>\n",
              "      <td>396.90</td>\n",
              "      <td>9.14</td>\n",
              "    </tr>\n",
              "    <tr>\n",
              "      <th>2</th>\n",
              "      <td>0.02729</td>\n",
              "      <td>0.0</td>\n",
              "      <td>7.07</td>\n",
              "      <td>0.0</td>\n",
              "      <td>0.469</td>\n",
              "      <td>7.185</td>\n",
              "      <td>61.1</td>\n",
              "      <td>4.9671</td>\n",
              "      <td>2.0</td>\n",
              "      <td>242.0</td>\n",
              "      <td>17.8</td>\n",
              "      <td>392.83</td>\n",
              "      <td>4.03</td>\n",
              "    </tr>\n",
              "    <tr>\n",
              "      <th>3</th>\n",
              "      <td>0.03237</td>\n",
              "      <td>0.0</td>\n",
              "      <td>2.18</td>\n",
              "      <td>0.0</td>\n",
              "      <td>0.458</td>\n",
              "      <td>6.998</td>\n",
              "      <td>45.8</td>\n",
              "      <td>6.0622</td>\n",
              "      <td>3.0</td>\n",
              "      <td>222.0</td>\n",
              "      <td>18.7</td>\n",
              "      <td>394.63</td>\n",
              "      <td>2.94</td>\n",
              "    </tr>\n",
              "    <tr>\n",
              "      <th>4</th>\n",
              "      <td>0.06905</td>\n",
              "      <td>0.0</td>\n",
              "      <td>2.18</td>\n",
              "      <td>0.0</td>\n",
              "      <td>0.458</td>\n",
              "      <td>7.147</td>\n",
              "      <td>54.2</td>\n",
              "      <td>6.0622</td>\n",
              "      <td>3.0</td>\n",
              "      <td>222.0</td>\n",
              "      <td>18.7</td>\n",
              "      <td>396.90</td>\n",
              "      <td>5.33</td>\n",
              "    </tr>\n",
              "  </tbody>\n",
              "</table>\n",
              "</div>\n",
              "      <button class=\"colab-df-convert\" onclick=\"convertToInteractive('df-adf4f9a7-956a-42d6-a7a8-71e4e3ef1256')\"\n",
              "              title=\"Convert this dataframe to an interactive table.\"\n",
              "              style=\"display:none;\">\n",
              "        \n",
              "  <svg xmlns=\"http://www.w3.org/2000/svg\" height=\"24px\"viewBox=\"0 0 24 24\"\n",
              "       width=\"24px\">\n",
              "    <path d=\"M0 0h24v24H0V0z\" fill=\"none\"/>\n",
              "    <path d=\"M18.56 5.44l.94 2.06.94-2.06 2.06-.94-2.06-.94-.94-2.06-.94 2.06-2.06.94zm-11 1L8.5 8.5l.94-2.06 2.06-.94-2.06-.94L8.5 2.5l-.94 2.06-2.06.94zm10 10l.94 2.06.94-2.06 2.06-.94-2.06-.94-.94-2.06-.94 2.06-2.06.94z\"/><path d=\"M17.41 7.96l-1.37-1.37c-.4-.4-.92-.59-1.43-.59-.52 0-1.04.2-1.43.59L10.3 9.45l-7.72 7.72c-.78.78-.78 2.05 0 2.83L4 21.41c.39.39.9.59 1.41.59.51 0 1.02-.2 1.41-.59l7.78-7.78 2.81-2.81c.8-.78.8-2.07 0-2.86zM5.41 20L4 18.59l7.72-7.72 1.47 1.35L5.41 20z\"/>\n",
              "  </svg>\n",
              "      </button>\n",
              "      \n",
              "  <style>\n",
              "    .colab-df-container {\n",
              "      display:flex;\n",
              "      flex-wrap:wrap;\n",
              "      gap: 12px;\n",
              "    }\n",
              "\n",
              "    .colab-df-convert {\n",
              "      background-color: #E8F0FE;\n",
              "      border: none;\n",
              "      border-radius: 50%;\n",
              "      cursor: pointer;\n",
              "      display: none;\n",
              "      fill: #1967D2;\n",
              "      height: 32px;\n",
              "      padding: 0 0 0 0;\n",
              "      width: 32px;\n",
              "    }\n",
              "\n",
              "    .colab-df-convert:hover {\n",
              "      background-color: #E2EBFA;\n",
              "      box-shadow: 0px 1px 2px rgba(60, 64, 67, 0.3), 0px 1px 3px 1px rgba(60, 64, 67, 0.15);\n",
              "      fill: #174EA6;\n",
              "    }\n",
              "\n",
              "    [theme=dark] .colab-df-convert {\n",
              "      background-color: #3B4455;\n",
              "      fill: #D2E3FC;\n",
              "    }\n",
              "\n",
              "    [theme=dark] .colab-df-convert:hover {\n",
              "      background-color: #434B5C;\n",
              "      box-shadow: 0px 1px 3px 1px rgba(0, 0, 0, 0.15);\n",
              "      filter: drop-shadow(0px 1px 2px rgba(0, 0, 0, 0.3));\n",
              "      fill: #FFFFFF;\n",
              "    }\n",
              "  </style>\n",
              "\n",
              "      <script>\n",
              "        const buttonEl =\n",
              "          document.querySelector('#df-adf4f9a7-956a-42d6-a7a8-71e4e3ef1256 button.colab-df-convert');\n",
              "        buttonEl.style.display =\n",
              "          google.colab.kernel.accessAllowed ? 'block' : 'none';\n",
              "\n",
              "        async function convertToInteractive(key) {\n",
              "          const element = document.querySelector('#df-adf4f9a7-956a-42d6-a7a8-71e4e3ef1256');\n",
              "          const dataTable =\n",
              "            await google.colab.kernel.invokeFunction('convertToInteractive',\n",
              "                                                     [key], {});\n",
              "          if (!dataTable) return;\n",
              "\n",
              "          const docLinkHtml = 'Like what you see? Visit the ' +\n",
              "            '<a target=\"_blank\" href=https://colab.research.google.com/notebooks/data_table.ipynb>data table notebook</a>'\n",
              "            + ' to learn more about interactive tables.';\n",
              "          element.innerHTML = '';\n",
              "          dataTable['output_type'] = 'display_data';\n",
              "          await google.colab.output.renderOutput(dataTable, element);\n",
              "          const docLink = document.createElement('div');\n",
              "          docLink.innerHTML = docLinkHtml;\n",
              "          element.appendChild(docLink);\n",
              "        }\n",
              "      </script>\n",
              "    </div>\n",
              "  </div>\n",
              "  "
            ]
          },
          "metadata": {},
          "execution_count": 2
        }
      ]
    },
    {
      "cell_type": "code",
      "source": [
        "boston_target = pd.DataFrame(boston.target, columns=['MEDV'])\n",
        "boston_target.head()"
      ],
      "metadata": {
        "colab": {
          "base_uri": "https://localhost:8080/",
          "height": 206
        },
        "id": "n4aG8TFj5yUc",
        "outputId": "a6fd2abb-636d-43b9-ec0b-9c88c13ffc17"
      },
      "execution_count": null,
      "outputs": [
        {
          "output_type": "execute_result",
          "data": {
            "text/plain": [
              "   MEDV\n",
              "0  24.0\n",
              "1  21.6\n",
              "2  34.7\n",
              "3  33.4\n",
              "4  36.2"
            ],
            "text/html": [
              "\n",
              "  <div id=\"df-d9275ca1-8bd8-42c8-83f9-2b964a544933\">\n",
              "    <div class=\"colab-df-container\">\n",
              "      <div>\n",
              "<style scoped>\n",
              "    .dataframe tbody tr th:only-of-type {\n",
              "        vertical-align: middle;\n",
              "    }\n",
              "\n",
              "    .dataframe tbody tr th {\n",
              "        vertical-align: top;\n",
              "    }\n",
              "\n",
              "    .dataframe thead th {\n",
              "        text-align: right;\n",
              "    }\n",
              "</style>\n",
              "<table border=\"1\" class=\"dataframe\">\n",
              "  <thead>\n",
              "    <tr style=\"text-align: right;\">\n",
              "      <th></th>\n",
              "      <th>MEDV</th>\n",
              "    </tr>\n",
              "  </thead>\n",
              "  <tbody>\n",
              "    <tr>\n",
              "      <th>0</th>\n",
              "      <td>24.0</td>\n",
              "    </tr>\n",
              "    <tr>\n",
              "      <th>1</th>\n",
              "      <td>21.6</td>\n",
              "    </tr>\n",
              "    <tr>\n",
              "      <th>2</th>\n",
              "      <td>34.7</td>\n",
              "    </tr>\n",
              "    <tr>\n",
              "      <th>3</th>\n",
              "      <td>33.4</td>\n",
              "    </tr>\n",
              "    <tr>\n",
              "      <th>4</th>\n",
              "      <td>36.2</td>\n",
              "    </tr>\n",
              "  </tbody>\n",
              "</table>\n",
              "</div>\n",
              "      <button class=\"colab-df-convert\" onclick=\"convertToInteractive('df-d9275ca1-8bd8-42c8-83f9-2b964a544933')\"\n",
              "              title=\"Convert this dataframe to an interactive table.\"\n",
              "              style=\"display:none;\">\n",
              "        \n",
              "  <svg xmlns=\"http://www.w3.org/2000/svg\" height=\"24px\"viewBox=\"0 0 24 24\"\n",
              "       width=\"24px\">\n",
              "    <path d=\"M0 0h24v24H0V0z\" fill=\"none\"/>\n",
              "    <path d=\"M18.56 5.44l.94 2.06.94-2.06 2.06-.94-2.06-.94-.94-2.06-.94 2.06-2.06.94zm-11 1L8.5 8.5l.94-2.06 2.06-.94-2.06-.94L8.5 2.5l-.94 2.06-2.06.94zm10 10l.94 2.06.94-2.06 2.06-.94-2.06-.94-.94-2.06-.94 2.06-2.06.94z\"/><path d=\"M17.41 7.96l-1.37-1.37c-.4-.4-.92-.59-1.43-.59-.52 0-1.04.2-1.43.59L10.3 9.45l-7.72 7.72c-.78.78-.78 2.05 0 2.83L4 21.41c.39.39.9.59 1.41.59.51 0 1.02-.2 1.41-.59l7.78-7.78 2.81-2.81c.8-.78.8-2.07 0-2.86zM5.41 20L4 18.59l7.72-7.72 1.47 1.35L5.41 20z\"/>\n",
              "  </svg>\n",
              "      </button>\n",
              "      \n",
              "  <style>\n",
              "    .colab-df-container {\n",
              "      display:flex;\n",
              "      flex-wrap:wrap;\n",
              "      gap: 12px;\n",
              "    }\n",
              "\n",
              "    .colab-df-convert {\n",
              "      background-color: #E8F0FE;\n",
              "      border: none;\n",
              "      border-radius: 50%;\n",
              "      cursor: pointer;\n",
              "      display: none;\n",
              "      fill: #1967D2;\n",
              "      height: 32px;\n",
              "      padding: 0 0 0 0;\n",
              "      width: 32px;\n",
              "    }\n",
              "\n",
              "    .colab-df-convert:hover {\n",
              "      background-color: #E2EBFA;\n",
              "      box-shadow: 0px 1px 2px rgba(60, 64, 67, 0.3), 0px 1px 3px 1px rgba(60, 64, 67, 0.15);\n",
              "      fill: #174EA6;\n",
              "    }\n",
              "\n",
              "    [theme=dark] .colab-df-convert {\n",
              "      background-color: #3B4455;\n",
              "      fill: #D2E3FC;\n",
              "    }\n",
              "\n",
              "    [theme=dark] .colab-df-convert:hover {\n",
              "      background-color: #434B5C;\n",
              "      box-shadow: 0px 1px 3px 1px rgba(0, 0, 0, 0.15);\n",
              "      filter: drop-shadow(0px 1px 2px rgba(0, 0, 0, 0.3));\n",
              "      fill: #FFFFFF;\n",
              "    }\n",
              "  </style>\n",
              "\n",
              "      <script>\n",
              "        const buttonEl =\n",
              "          document.querySelector('#df-d9275ca1-8bd8-42c8-83f9-2b964a544933 button.colab-df-convert');\n",
              "        buttonEl.style.display =\n",
              "          google.colab.kernel.accessAllowed ? 'block' : 'none';\n",
              "\n",
              "        async function convertToInteractive(key) {\n",
              "          const element = document.querySelector('#df-d9275ca1-8bd8-42c8-83f9-2b964a544933');\n",
              "          const dataTable =\n",
              "            await google.colab.kernel.invokeFunction('convertToInteractive',\n",
              "                                                     [key], {});\n",
              "          if (!dataTable) return;\n",
              "\n",
              "          const docLinkHtml = 'Like what you see? Visit the ' +\n",
              "            '<a target=\"_blank\" href=https://colab.research.google.com/notebooks/data_table.ipynb>data table notebook</a>'\n",
              "            + ' to learn more about interactive tables.';\n",
              "          element.innerHTML = '';\n",
              "          dataTable['output_type'] = 'display_data';\n",
              "          await google.colab.output.renderOutput(dataTable, element);\n",
              "          const docLink = document.createElement('div');\n",
              "          docLink.innerHTML = docLinkHtml;\n",
              "          element.appendChild(docLink);\n",
              "        }\n",
              "      </script>\n",
              "    </div>\n",
              "  </div>\n",
              "  "
            ]
          },
          "metadata": {},
          "execution_count": 3
        }
      ]
    },
    {
      "cell_type": "code",
      "source": [
        "boston_df.info()\n",
        "\n",
        "# no need for imputing"
      ],
      "metadata": {
        "colab": {
          "base_uri": "https://localhost:8080/"
        },
        "id": "EJM7vqgt6CgT",
        "outputId": "44c6cc1c-99b7-4101-9e0d-6f0c6a3da01a"
      },
      "execution_count": null,
      "outputs": [
        {
          "output_type": "stream",
          "name": "stdout",
          "text": [
            "<class 'pandas.core.frame.DataFrame'>\n",
            "RangeIndex: 506 entries, 0 to 505\n",
            "Data columns (total 13 columns):\n",
            " #   Column   Non-Null Count  Dtype  \n",
            "---  ------   --------------  -----  \n",
            " 0   CRIM     506 non-null    float64\n",
            " 1   ZN       506 non-null    float64\n",
            " 2   INDUS    506 non-null    float64\n",
            " 3   CHAS     506 non-null    float64\n",
            " 4   NOX      506 non-null    float64\n",
            " 5   RM       506 non-null    float64\n",
            " 6   AGE      506 non-null    float64\n",
            " 7   DIS      506 non-null    float64\n",
            " 8   RAD      506 non-null    float64\n",
            " 9   TAX      506 non-null    float64\n",
            " 10  PTRATIO  506 non-null    float64\n",
            " 11  B        506 non-null    float64\n",
            " 12  LSTAT    506 non-null    float64\n",
            "dtypes: float64(13)\n",
            "memory usage: 51.5 KB\n"
          ]
        }
      ]
    },
    {
      "cell_type": "code",
      "source": [
        "import matplotlib.pyplot as plt\n",
        "\n",
        "boston_df.hist(bins=50, figsize=(15,15))\n",
        "plt.show()"
      ],
      "metadata": {
        "colab": {
          "base_uri": "https://localhost:8080/",
          "height": 879
        },
        "id": "XnfKK_hU6U5b",
        "outputId": "83d2371c-c9b7-4a28-ebbb-fe81b3f9e333"
      },
      "execution_count": null,
      "outputs": [
        {
          "output_type": "display_data",
          "data": {
            "text/plain": [
              "<Figure size 1080x1080 with 16 Axes>"
            ],
            "image/png": "[encoded data removed]"
          },
          "metadata": {
            "needs_background": "light"
          }
        }
      ]
    },
    {
      "cell_type": "code",
      "source": [
        "boston_df.describe()\n",
        "\n",
        "# many features seem to have outliers of sorts"
      ],
      "metadata": {
        "colab": {
          "base_uri": "https://localhost:8080/",
          "height": 300
        },
        "id": "Svu9NEzH7Ogc",
        "outputId": "125b5402-0518-4cff-c09c-e0fa9bfa6efe"
      },
      "execution_count": null,
      "outputs": [
        {
          "output_type": "execute_result",
          "data": {
            "text/plain": [
              "             CRIM          ZN       INDUS        CHAS         NOX          RM  \\\n",
              "count  506.000000  506.000000  506.000000  506.000000  506.000000  506.000000   \n",
              "mean     3.613524   11.363636   11.136779    0.069170    0.554695    6.284634   \n",
              "std      8.601545   23.322453    6.860353    0.253994    0.115878    0.702617   \n",
              "min      0.006320    0.000000    0.460000    0.000000    0.385000    3.561000   \n",
              "25%      0.082045    0.000000    5.190000    0.000000    0.449000    5.885500   \n",
              "50%      0.256510    0.000000    9.690000    0.000000    0.538000    6.208500   \n",
              "75%      3.677083   12.500000   18.100000    0.000000    0.624000    6.623500   \n",
              "max     88.976200  100.000000   27.740000    1.000000    0.871000    8.780000   \n",
              "\n",
              "              AGE         DIS         RAD         TAX     PTRATIO           B  \\\n",
              "count  506.000000  506.000000  506.000000  506.000000  506.000000  506.000000   \n",
              "mean    68.574901    3.795043    9.549407  408.237154   18.455534  356.674032   \n",
              "std     28.148861    2.105710    8.707259  168.537116    2.164946   91.294864   \n",
              "min      2.900000    1.129600    1.000000  187.000000   12.600000    0.320000   \n",
              "25%     45.025000    2.100175    4.000000  279.000000   17.400000  375.377500   \n",
              "50%     77.500000    3.207450    5.000000  330.000000   19.050000  391.440000   \n",
              "75%     94.075000    5.188425   24.000000  666.000000   20.200000  396.225000   \n",
              "max    100.000000   12.126500   24.000000  711.000000   22.000000  396.900000   \n",
              "\n",
              "            LSTAT  \n",
              "count  506.000000  \n",
              "mean    12.653063  \n",
              "std      7.141062  \n",
              "min      1.730000  \n",
              "25%      6.950000  \n",
              "50%     11.360000  \n",
              "75%     16.955000  \n",
              "max     37.970000  "
            ],
            "text/html": [
              "\n",
              "  <div id=\"df-59b2d309-6688-4e54-bf84-c4b28f51ca71\">\n",
              "    <div class=\"colab-df-container\">\n",
              "      <div>\n",
              "<style scoped>\n",
              "    .dataframe tbody tr th:only-of-type {\n",
              "        vertical-align: middle;\n",
              "    }\n",
              "\n",
              "    .dataframe tbody tr th {\n",
              "        vertical-align: top;\n",
              "    }\n",
              "\n",
              "    .dataframe thead th {\n",
              "        text-align: right;\n",
              "    }\n",
              "</style>\n",
              "<table border=\"1\" class=\"dataframe\">\n",
              "  <thead>\n",
              "    <tr style=\"text-align: right;\">\n",
              "      <th></th>\n",
              "      <th>CRIM</th>\n",
              "      <th>ZN</th>\n",
              "      <th>INDUS</th>\n",
              "      <th>CHAS</th>\n",
              "      <th>NOX</th>\n",
              "      <th>RM</th>\n",
              "      <th>AGE</th>\n",
              "      <th>DIS</th>\n",
              "      <th>RAD</th>\n",
              "      <th>TAX</th>\n",
              "      <th>PTRATIO</th>\n",
              "      <th>B</th>\n",
              "      <th>LSTAT</th>\n",
              "    </tr>\n",
              "  </thead>\n",
              "  <tbody>\n",
              "    <tr>\n",
              "      <th>count</th>\n",
              "      <td>506.000000</td>\n",
              "      <td>506.000000</td>\n",
              "      <td>506.000000</td>\n",
              "      <td>506.000000</td>\n",
              "      <td>506.000000</td>\n",
              "      <td>506.000000</td>\n",
              "      <td>506.000000</td>\n",
              "      <td>506.000000</td>\n",
              "      <td>506.000000</td>\n",
              "      <td>506.000000</td>\n",
              "      <td>506.000000</td>\n",
              "      <td>506.000000</td>\n",
              "      <td>506.000000</td>\n",
              "    </tr>\n",
              "    <tr>\n",
              "      <th>mean</th>\n",
              "      <td>3.613524</td>\n",
              "      <td>11.363636</td>\n",
              "      <td>11.136779</td>\n",
              "      <td>0.069170</td>\n",
              "      <td>0.554695</td>\n",
              "      <td>6.284634</td>\n",
              "      <td>68.574901</td>\n",
              "      <td>3.795043</td>\n",
              "      <td>9.549407</td>\n",
              "      <td>408.237154</td>\n",
              "      <td>18.455534</td>\n",
              "      <td>356.674032</td>\n",
              "      <td>12.653063</td>\n",
              "    </tr>\n",
              "    <tr>\n",
              "      <th>std</th>\n",
              "      <td>8.601545</td>\n",
              "      <td>23.322453</td>\n",
              "      <td>6.860353</td>\n",
              "      <td>0.253994</td>\n",
              "      <td>0.115878</td>\n",
              "      <td>0.702617</td>\n",
              "      <td>28.148861</td>\n",
              "      <td>2.105710</td>\n",
              "      <td>8.707259</td>\n",
              "      <td>168.537116</td>\n",
              "      <td>2.164946</td>\n",
              "      <td>91.294864</td>\n",
              "      <td>7.141062</td>\n",
              "    </tr>\n",
              "    <tr>\n",
              "      <th>min</th>\n",
              "      <td>0.006320</td>\n",
              "      <td>0.000000</td>\n",
              "      <td>0.460000</td>\n",
              "      <td>0.000000</td>\n",
              "      <td>0.385000</td>\n",
              "      <td>3.561000</td>\n",
              "      <td>2.900000</td>\n",
              "      <td>1.129600</td>\n",
              "      <td>1.000000</td>\n",
              "      <td>187.000000</td>\n",
              "      <td>12.600000</td>\n",
              "      <td>0.320000</td>\n",
              "      <td>1.730000</td>\n",
              "    </tr>\n",
              "    <tr>\n",
              "      <th>25%</th>\n",
              "      <td>0.082045</td>\n",
              "      <td>0.000000</td>\n",
              "      <td>5.190000</td>\n",
              "      <td>0.000000</td>\n",
              "      <td>0.449000</td>\n",
              "      <td>5.885500</td>\n",
              "      <td>45.025000</td>\n",
              "      <td>2.100175</td>\n",
              "      <td>4.000000</td>\n",
              "      <td>279.000000</td>\n",
              "      <td>17.400000</td>\n",
              "      <td>375.377500</td>\n",
              "      <td>6.950000</td>\n",
              "    </tr>\n",
              "    <tr>\n",
              "      <th>50%</th>\n",
              "      <td>0.256510</td>\n",
              "      <td>0.000000</td>\n",
              "      <td>9.690000</td>\n",
              "      <td>0.000000</td>\n",
              "      <td>0.538000</td>\n",
              "      <td>6.208500</td>\n",
              "      <td>77.500000</td>\n",
              "      <td>3.207450</td>\n",
              "      <td>5.000000</td>\n",
              "      <td>330.000000</td>\n",
              "      <td>19.050000</td>\n",
              "      <td>391.440000</td>\n",
              "      <td>11.360000</td>\n",
              "    </tr>\n",
              "    <tr>\n",
              "      <th>75%</th>\n",
              "      <td>3.677083</td>\n",
              "      <td>12.500000</td>\n",
              "      <td>18.100000</td>\n",
              "      <td>0.000000</td>\n",
              "      <td>0.624000</td>\n",
              "      <td>6.623500</td>\n",
              "      <td>94.075000</td>\n",
              "      <td>5.188425</td>\n",
              "      <td>24.000000</td>\n",
              "      <td>666.000000</td>\n",
              "      <td>20.200000</td>\n",
              "      <td>396.225000</td>\n",
              "      <td>16.955000</td>\n",
              "    </tr>\n",
              "    <tr>\n",
              "      <th>max</th>\n",
              "      <td>88.976200</td>\n",
              "      <td>100.000000</td>\n",
              "      <td>27.740000</td>\n",
              "      <td>1.000000</td>\n",
              "      <td>0.871000</td>\n",
              "      <td>8.780000</td>\n",
              "      <td>100.000000</td>\n",
              "      <td>12.126500</td>\n",
              "      <td>24.000000</td>\n",
              "      <td>711.000000</td>\n",
              "      <td>22.000000</td>\n",
              "      <td>396.900000</td>\n",
              "      <td>37.970000</td>\n",
              "    </tr>\n",
              "  </tbody>\n",
              "</table>\n",
              "</div>\n",
              "      <button class=\"colab-df-convert\" onclick=\"convertToInteractive('df-59b2d309-6688-4e54-bf84-c4b28f51ca71')\"\n",
              "              title=\"Convert this dataframe to an interactive table.\"\n",
              "              style=\"display:none;\">\n",
              "        \n",
              "  <svg xmlns=\"http://www.w3.org/2000/svg\" height=\"24px\"viewBox=\"0 0 24 24\"\n",
              "       width=\"24px\">\n",
              "    <path d=\"M0 0h24v24H0V0z\" fill=\"none\"/>\n",
              "    <path d=\"M18.56 5.44l.94 2.06.94-2.06 2.06-.94-2.06-.94-.94-2.06-.94 2.06-2.06.94zm-11 1L8.5 8.5l.94-2.06 2.06-.94-2.06-.94L8.5 2.5l-.94 2.06-2.06.94zm10 10l.94 2.06.94-2.06 2.06-.94-2.06-.94-.94-2.06-.94 2.06-2.06.94z\"/><path d=\"M17.41 7.96l-1.37-1.37c-.4-.4-.92-.59-1.43-.59-.52 0-1.04.2-1.43.59L10.3 9.45l-7.72 7.72c-.78.78-.78 2.05 0 2.83L4 21.41c.39.39.9.59 1.41.59.51 0 1.02-.2 1.41-.59l7.78-7.78 2.81-2.81c.8-.78.8-2.07 0-2.86zM5.41 20L4 18.59l7.72-7.72 1.47 1.35L5.41 20z\"/>\n",
              "  </svg>\n",
              "      </button>\n",
              "      \n",
              "  <style>\n",
              "    .colab-df-container {\n",
              "      display:flex;\n",
              "      flex-wrap:wrap;\n",
              "      gap: 12px;\n",
              "    }\n",
              "\n",
              "    .colab-df-convert {\n",
              "      background-color: #E8F0FE;\n",
              "      border: none;\n",
              "      border-radius: 50%;\n",
              "      cursor: pointer;\n",
              "      display: none;\n",
              "      fill: #1967D2;\n",
              "      height: 32px;\n",
              "      padding: 0 0 0 0;\n",
              "      width: 32px;\n",
              "    }\n",
              "\n",
              "    .colab-df-convert:hover {\n",
              "      background-color: #E2EBFA;\n",
              "      box-shadow: 0px 1px 2px rgba(60, 64, 67, 0.3), 0px 1px 3px 1px rgba(60, 64, 67, 0.15);\n",
              "      fill: #174EA6;\n",
              "    }\n",
              "\n",
              "    [theme=dark] .colab-df-convert {\n",
              "      background-color: #3B4455;\n",
              "      fill: #D2E3FC;\n",
              "    }\n",
              "\n",
              "    [theme=dark] .colab-df-convert:hover {\n",
              "      background-color: #434B5C;\n",
              "      box-shadow: 0px 1px 3px 1px rgba(0, 0, 0, 0.15);\n",
              "      filter: drop-shadow(0px 1px 2px rgba(0, 0, 0, 0.3));\n",
              "      fill: #FFFFFF;\n",
              "    }\n",
              "  </style>\n",
              "\n",
              "      <script>\n",
              "        const buttonEl =\n",
              "          document.querySelector('#df-59b2d309-6688-4e54-bf84-c4b28f51ca71 button.colab-df-convert');\n",
              "        buttonEl.style.display =\n",
              "          google.colab.kernel.accessAllowed ? 'block' : 'none';\n",
              "\n",
              "        async function convertToInteractive(key) {\n",
              "          const element = document.querySelector('#df-59b2d309-6688-4e54-bf84-c4b28f51ca71');\n",
              "          const dataTable =\n",
              "            await google.colab.kernel.invokeFunction('convertToInteractive',\n",
              "                                                     [key], {});\n",
              "          if (!dataTable) return;\n",
              "\n",
              "          const docLinkHtml = 'Like what you see? Visit the ' +\n",
              "            '<a target=\"_blank\" href=https://colab.research.google.com/notebooks/data_table.ipynb>data table notebook</a>'\n",
              "            + ' to learn more about interactive tables.';\n",
              "          element.innerHTML = '';\n",
              "          dataTable['output_type'] = 'display_data';\n",
              "          await google.colab.output.renderOutput(dataTable, element);\n",
              "          const docLink = document.createElement('div');\n",
              "          docLink.innerHTML = docLinkHtml;\n",
              "          element.appendChild(docLink);\n",
              "        }\n",
              "      </script>\n",
              "    </div>\n",
              "  </div>\n",
              "  "
            ]
          },
          "metadata": {},
          "execution_count": 6
        }
      ]
    },
    {
      "cell_type": "markdown",
      "source": [
        "### Sample a test set and put it aside"
      ],
      "metadata": {
        "id": "x-cf_WzJ9W0j"
      }
    },
    {
      "cell_type": "code",
      "source": [
        "# let's use stratified train-test split\n",
        "# for that, identify important attributes\n",
        "# we can use a correlation matrix to do so\n",
        "\n",
        "full_boston = pd.concat([boston_df, boston_target], axis=1)\n",
        "full_boston.head()"
      ],
      "metadata": {
        "colab": {
          "base_uri": "https://localhost:8080/",
          "height": 206
        },
        "id": "PyfL2bAkAD51",
        "outputId": "819c9a60-a8b7-49fa-8d19-3ba1c9e31aad"
      },
      "execution_count": null,
      "outputs": [
        {
          "output_type": "execute_result",
          "data": {
            "text/plain": [
              "      CRIM    ZN  INDUS  CHAS    NOX     RM   AGE     DIS  RAD    TAX  \\\n",
              "0  0.00632  18.0   2.31   0.0  0.538  6.575  65.2  4.0900  1.0  296.0   \n",
              "1  0.02731   0.0   7.07   0.0  0.469  6.421  78.9  4.9671  2.0  242.0   \n",
              "2  0.02729   0.0   7.07   0.0  0.469  7.185  61.1  4.9671  2.0  242.0   \n",
              "3  0.03237   0.0   2.18   0.0  0.458  6.998  45.8  6.0622  3.0  222.0   \n",
              "4  0.06905   0.0   2.18   0.0  0.458  7.147  54.2  6.0622  3.0  222.0   \n",
              "\n",
              "   PTRATIO       B  LSTAT  MEDV  \n",
              "0     15.3  396.90   4.98  24.0  \n",
              "1     17.8  396.90   9.14  21.6  \n",
              "2     17.8  392.83   4.03  34.7  \n",
              "3     18.7  394.63   2.94  33.4  \n",
              "4     18.7  396.90   5.33  36.2  "
            ],
            "text/html": [
              "\n",
              "  <div id=\"df-f55b5711-0928-4ef0-80c2-d9cdf9aba5ca\">\n",
              "    <div class=\"colab-df-container\">\n",
              "      <div>\n",
              "<style scoped>\n",
              "    .dataframe tbody tr th:only-of-type {\n",
              "        vertical-align: middle;\n",
              "    }\n",
              "\n",
              "    .dataframe tbody tr th {\n",
              "        vertical-align: top;\n",
              "    }\n",
              "\n",
              "    .dataframe thead th {\n",
              "        text-align: right;\n",
              "    }\n",
              "</style>\n",
              "<table border=\"1\" class=\"dataframe\">\n",
              "  <thead>\n",
              "    <tr style=\"text-align: right;\">\n",
              "      <th></th>\n",
              "      <th>CRIM</th>\n",
              "      <th>ZN</th>\n",
              "      <th>INDUS</th>\n",
              "      <th>CHAS</th>\n",
              "      <th>NOX</th>\n",
              "      <th>RM</th>\n",
              "      <th>AGE</th>\n",
              "      <th>DIS</th>\n",
              "      <th>RAD</th>\n",
              "      <th>TAX</th>\n",
              "      <th>PTRATIO</th>\n",
              "      <th>B</th>\n",
              "      <th>LSTAT</th>\n",
              "      <th>MEDV</th>\n",
              "    </tr>\n",
              "  </thead>\n",
              "  <tbody>\n",
              "    <tr>\n",
              "      <th>0</th>\n",
              "      <td>0.00632</td>\n",
              "      <td>18.0</td>\n",
              "      <td>2.31</td>\n",
              "      <td>0.0</td>\n",
              "      <td>0.538</td>\n",
              "      <td>6.575</td>\n",
              "      <td>65.2</td>\n",
              "      <td>4.0900</td>\n",
              "      <td>1.0</td>\n",
              "      <td>296.0</td>\n",
              "      <td>15.3</td>\n",
              "      <td>396.90</td>\n",
              "      <td>4.98</td>\n",
              "      <td>24.0</td>\n",
              "    </tr>\n",
              "    <tr>\n",
              "      <th>1</th>\n",
              "      <td>0.02731</td>\n",
              "      <td>0.0</td>\n",
              "      <td>7.07</td>\n",
              "      <td>0.0</td>\n",
              "      <td>0.469</td>\n",
              "      <td>6.421</td>\n",
              "      <td>78.9</td>\n",
              "      <td>4.9671</td>\n",
              "      <td>2.0</td>\n",
              "      <td>242.0</td>\n",
              "      <td>17.8</td>\n",
              "      <td>396.90</td>\n",
              "      <td>9.14</td>\n",
              "      <td>21.6</td>\n",
              "    </tr>\n",
              "    <tr>\n",
              "      <th>2</th>\n",
              "      <td>0.02729</td>\n",
              "      <td>0.0</td>\n",
              "      <td>7.07</td>\n",
              "      <td>0.0</td>\n",
              "      <td>0.469</td>\n",
              "      <td>7.185</td>\n",
              "      <td>61.1</td>\n",
              "      <td>4.9671</td>\n",
              "      <td>2.0</td>\n",
              "      <td>242.0</td>\n",
              "      <td>17.8</td>\n",
              "      <td>392.83</td>\n",
              "      <td>4.03</td>\n",
              "      <td>34.7</td>\n",
              "    </tr>\n",
              "    <tr>\n",
              "      <th>3</th>\n",
              "      <td>0.03237</td>\n",
              "      <td>0.0</td>\n",
              "      <td>2.18</td>\n",
              "      <td>0.0</td>\n",
              "      <td>0.458</td>\n",
              "      <td>6.998</td>\n",
              "      <td>45.8</td>\n",
              "      <td>6.0622</td>\n",
              "      <td>3.0</td>\n",
              "      <td>222.0</td>\n",
              "      <td>18.7</td>\n",
              "      <td>394.63</td>\n",
              "      <td>2.94</td>\n",
              "      <td>33.4</td>\n",
              "    </tr>\n",
              "    <tr>\n",
              "      <th>4</th>\n",
              "      <td>0.06905</td>\n",
              "      <td>0.0</td>\n",
              "      <td>2.18</td>\n",
              "      <td>0.0</td>\n",
              "      <td>0.458</td>\n",
              "      <td>7.147</td>\n",
              "      <td>54.2</td>\n",
              "      <td>6.0622</td>\n",
              "      <td>3.0</td>\n",
              "      <td>222.0</td>\n",
              "      <td>18.7</td>\n",
              "      <td>396.90</td>\n",
              "      <td>5.33</td>\n",
              "      <td>36.2</td>\n",
              "    </tr>\n",
              "  </tbody>\n",
              "</table>\n",
              "</div>\n",
              "      <button class=\"colab-df-convert\" onclick=\"convertToInteractive('df-f55b5711-0928-4ef0-80c2-d9cdf9aba5ca')\"\n",
              "              title=\"Convert this dataframe to an interactive table.\"\n",
              "              style=\"display:none;\">\n",
              "        \n",
              "  <svg xmlns=\"http://www.w3.org/2000/svg\" height=\"24px\"viewBox=\"0 0 24 24\"\n",
              "       width=\"24px\">\n",
              "    <path d=\"M0 0h24v24H0V0z\" fill=\"none\"/>\n",
              "    <path d=\"M18.56 5.44l.94 2.06.94-2.06 2.06-.94-2.06-.94-.94-2.06-.94 2.06-2.06.94zm-11 1L8.5 8.5l.94-2.06 2.06-.94-2.06-.94L8.5 2.5l-.94 2.06-2.06.94zm10 10l.94 2.06.94-2.06 2.06-.94-2.06-.94-.94-2.06-.94 2.06-2.06.94z\"/><path d=\"M17.41 7.96l-1.37-1.37c-.4-.4-.92-.59-1.43-.59-.52 0-1.04.2-1.43.59L10.3 9.45l-7.72 7.72c-.78.78-.78 2.05 0 2.83L4 21.41c.39.39.9.59 1.41.59.51 0 1.02-.2 1.41-.59l7.78-7.78 2.81-2.81c.8-.78.8-2.07 0-2.86zM5.41 20L4 18.59l7.72-7.72 1.47 1.35L5.41 20z\"/>\n",
              "  </svg>\n",
              "      </button>\n",
              "      \n",
              "  <style>\n",
              "    .colab-df-container {\n",
              "      display:flex;\n",
              "      flex-wrap:wrap;\n",
              "      gap: 12px;\n",
              "    }\n",
              "\n",
              "    .colab-df-convert {\n",
              "      background-color: #E8F0FE;\n",
              "      border: none;\n",
              "      border-radius: 50%;\n",
              "      cursor: pointer;\n",
              "      display: none;\n",
              "      fill: #1967D2;\n",
              "      height: 32px;\n",
              "      padding: 0 0 0 0;\n",
              "      width: 32px;\n",
              "    }\n",
              "\n",
              "    .colab-df-convert:hover {\n",
              "      background-color: #E2EBFA;\n",
              "      box-shadow: 0px 1px 2px rgba(60, 64, 67, 0.3), 0px 1px 3px 1px rgba(60, 64, 67, 0.15);\n",
              "      fill: #174EA6;\n",
              "    }\n",
              "\n",
              "    [theme=dark] .colab-df-convert {\n",
              "      background-color: #3B4455;\n",
              "      fill: #D2E3FC;\n",
              "    }\n",
              "\n",
              "    [theme=dark] .colab-df-convert:hover {\n",
              "      background-color: #434B5C;\n",
              "      box-shadow: 0px 1px 3px 1px rgba(0, 0, 0, 0.15);\n",
              "      filter: drop-shadow(0px 1px 2px rgba(0, 0, 0, 0.3));\n",
              "      fill: #FFFFFF;\n",
              "    }\n",
              "  </style>\n",
              "\n",
              "      <script>\n",
              "        const buttonEl =\n",
              "          document.querySelector('#df-f55b5711-0928-4ef0-80c2-d9cdf9aba5ca button.colab-df-convert');\n",
              "        buttonEl.style.display =\n",
              "          google.colab.kernel.accessAllowed ? 'block' : 'none';\n",
              "\n",
              "        async function convertToInteractive(key) {\n",
              "          const element = document.querySelector('#df-f55b5711-0928-4ef0-80c2-d9cdf9aba5ca');\n",
              "          const dataTable =\n",
              "            await google.colab.kernel.invokeFunction('convertToInteractive',\n",
              "                                                     [key], {});\n",
              "          if (!dataTable) return;\n",
              "\n",
              "          const docLinkHtml = 'Like what you see? Visit the ' +\n",
              "            '<a target=\"_blank\" href=https://colab.research.google.com/notebooks/data_table.ipynb>data table notebook</a>'\n",
              "            + ' to learn more about interactive tables.';\n",
              "          element.innerHTML = '';\n",
              "          dataTable['output_type'] = 'display_data';\n",
              "          await google.colab.output.renderOutput(dataTable, element);\n",
              "          const docLink = document.createElement('div');\n",
              "          docLink.innerHTML = docLinkHtml;\n",
              "          element.appendChild(docLink);\n",
              "        }\n",
              "      </script>\n",
              "    </div>\n",
              "  </div>\n",
              "  "
            ]
          },
          "metadata": {},
          "execution_count": 7
        }
      ]
    },
    {
      "cell_type": "code",
      "source": [
        "# get a quick correlation matrix going\n",
        "\n",
        "corr_matrix = full_boston.corr()\n",
        "\n",
        "abs(corr_matrix['MEDV']).sort_values(ascending=False)\n",
        "# absolute value to see the magnitude\n",
        "# regardless of positive or negative correlation"
      ],
      "metadata": {
        "colab": {
          "base_uri": "https://localhost:8080/"
        },
        "id": "PMnFXFILAcwt",
        "outputId": "c4b2f843-582b-4176-cd78-4fb623afb0ff"
      },
      "execution_count": null,
      "outputs": [
        {
          "output_type": "execute_result",
          "data": {
            "text/plain": [
              "MEDV       1.000000\n",
              "LSTAT      0.737663\n",
              "RM         0.695360\n",
              "PTRATIO    0.507787\n",
              "INDUS      0.483725\n",
              "TAX        0.468536\n",
              "NOX        0.427321\n",
              "CRIM       0.388305\n",
              "RAD        0.381626\n",
              "AGE        0.376955\n",
              "ZN         0.360445\n",
              "B          0.333461\n",
              "DIS        0.249929\n",
              "CHAS       0.175260\n",
              "Name: MEDV, dtype: float64"
            ]
          },
          "metadata": {},
          "execution_count": 8
        }
      ]
    },
    {
      "cell_type": "code",
      "source": [
        "from sklearn.model_selection import train_test_split\n",
        "import numpy as np\n",
        "\n",
        "np.random.seed(42)\n",
        "\n",
        "train_set, test_set = train_test_split(full_boston, random_state=42)\n",
        "# stratify=full_boston['LSTAT'] <- excluded stratified sampling\n",
        "# because least populated class in 'LSTAT' has only 1 member, which is too few\n",
        "full_boston['LSTAT'].value_counts(ascending=True)"
      ],
      "metadata": {
        "colab": {
          "base_uri": "https://localhost:8080/"
        },
        "id": "HxaDbpT78UH7",
        "outputId": "de738a40-5a14-4bd8-fb15-2a7d71c157d7"
      },
      "execution_count": null,
      "outputs": [
        {
          "output_type": "execute_result",
          "data": {
            "text/plain": [
              "4.98     1\n",
              "8.01     1\n",
              "6.75     1\n",
              "7.83     1\n",
              "9.09     1\n",
              "        ..\n",
              "14.10    3\n",
              "7.79     3\n",
              "8.05     3\n",
              "18.13    3\n",
              "6.36     3\n",
              "Name: LSTAT, Length: 455, dtype: int64"
            ]
          },
          "metadata": {},
          "execution_count": 9
        }
      ]
    },
    {
      "cell_type": "code",
      "source": [
        "data = test_set['LSTAT'].value_counts() / len(test_set)\n",
        "\n",
        "pd.DataFrame(data).plot(kind='density')\n",
        "\n",
        "# it doesn't look like the test dataset has a broad\n",
        "# representation of different strata's \n",
        "# for the most important correlatory attribute\n",
        "\n",
        "# let's try make a stratified train-test split now..."
      ],
      "metadata": {
        "colab": {
          "base_uri": "https://localhost:8080/",
          "height": 282
        },
        "id": "RRklyi0TEcAs",
        "outputId": "53836b4c-b0d1-451b-f256-e658b31e5f1c"
      },
      "execution_count": null,
      "outputs": [
        {
          "output_type": "execute_result",
          "data": {
            "text/plain": [
              "<AxesSubplot:ylabel='Density'>"
            ]
          },
          "metadata": {},
          "execution_count": 10
        },
        {
          "output_type": "display_data",
          "data": {
            "text/plain": [
              "<Figure size 432x288 with 1 Axes>"
            ],
            "image/png": "[encoded data removed]"
          },
          "metadata": {
            "needs_background": "light"
          }
        }
      ]
    },
    {
      "cell_type": "code",
      "source": [
        "boston_df['LSTAT'].hist(bins=50)\n",
        "\n",
        "full_boston['LSTAT_cat'] = pd.cut(full_boston['LSTAT'],\n",
        "                                  bins=[0.,4,7.5,16,25,np.inf],\n",
        "                                  labels=[1,2,3,4,5])"
      ],
      "metadata": {
        "colab": {
          "base_uri": "https://localhost:8080/",
          "height": 265
        },
        "id": "J060d7o_GsRD",
        "outputId": "968bb81a-a2b2-4a11-cf50-ca55f7081d47"
      },
      "execution_count": null,
      "outputs": [
        {
          "output_type": "display_data",
          "data": {
            "text/plain": [
              "<Figure size 432x288 with 1 Axes>"
            ],
            "image/png": "[encoded data removed]"
          },
          "metadata": {
            "needs_background": "light"
          }
        }
      ]
    },
    {
      "cell_type": "code",
      "source": [
        "full_boston['LSTAT_cat'].value_counts().sort_index().plot.bar(rot=0, grid=True)\n",
        "plt.xlabel('Lower Status Category')\n",
        "plt.ylabel('Boston Suburbs')\n",
        "plt.show()\n",
        "\n",
        "# looks bang on"
      ],
      "metadata": {
        "colab": {
          "base_uri": "https://localhost:8080/",
          "height": 279
        },
        "id": "WJEmuwXZRB5j",
        "outputId": "989d65b6-596f-4878-c45c-e136092b50ab"
      },
      "execution_count": null,
      "outputs": [
        {
          "output_type": "display_data",
          "data": {
            "text/plain": [
              "<Figure size 432x288 with 1 Axes>"
            ],
            "image/png": "[encoded data removed]"
          },
          "metadata": {
            "needs_background": "light"
          }
        }
      ]
    },
    {
      "cell_type": "code",
      "source": [
        "train_set, test_set = train_test_split(full_boston, random_state=42, test_size=0.2, stratify=full_boston['LSTAT_cat'])"
      ],
      "metadata": {
        "id": "Sgk6VIFATTUq"
      },
      "execution_count": null,
      "outputs": []
    },
    {
      "cell_type": "code",
      "source": [
        "data = test_set['LSTAT_cat'].value_counts() / len(test_set)\n",
        "\n",
        "pd.DataFrame(data).plot(kind='density')\n",
        "\n",
        "# very nice"
      ],
      "metadata": {
        "colab": {
          "base_uri": "https://localhost:8080/",
          "height": 282
        },
        "id": "_00AO4bkTcMZ",
        "outputId": "b93b3e58-dddc-4e44-e144-90d6418782e6"
      },
      "execution_count": null,
      "outputs": [
        {
          "output_type": "execute_result",
          "data": {
            "text/plain": [
              "<AxesSubplot:ylabel='Density'>"
            ]
          },
          "metadata": {},
          "execution_count": 14
        },
        {
          "output_type": "display_data",
          "data": {
            "text/plain": [
              "<Figure size 432x288 with 1 Axes>"
            ],
            "image/png": "[encoded data removed]"
          },
          "metadata": {
            "needs_background": "light"
          }
        }
      ]
    },
    {
      "cell_type": "code",
      "source": [
        "import pickle\n",
        "\n",
        "path = '/content/drive/MyDrive/Colab Notebooks/ml project #2 2023-02-24/'\n",
        "\n",
        "# now we got a hopefully well-stratified split, so we can remove this column now\n",
        "for _file, _set in {'trainSet':train_set, 'testSet':test_set}.items():\n",
        "  _set.drop('LSTAT_cat', axis=1, inplace=True)\n",
        "\n",
        "  # saving the train and test sets, to do EDA in a separate notebook\n",
        "  with open(path + f'boston_{_file}.pkl', 'wb') as f:\n",
        "    pickle.dump(_set, f)"
      ],
      "metadata": {
        "id": "Fs-419oPTovx"
      },
      "execution_count": null,
      "outputs": []
    },
    {
      "cell_type": "markdown",
      "source": [
        "### Prepare the data"
      ],
      "metadata": {
        "id": "JQAjltzlYEaC"
      }
    },
    {
      "cell_type": "code",
      "source": [
        "print(boston.DESCR)"
      ],
      "metadata": {
        "colab": {
          "base_uri": "https://localhost:8080/"
        },
        "id": "PhQTya9PjPP8",
        "outputId": "4c06a782-6bd5-4312-bf31-3557416a4467"
      },
      "execution_count": null,
      "outputs": [
        {
          "output_type": "stream",
          "name": "stdout",
          "text": [
            ".. _boston_dataset:\n",
            "\n",
            "Boston house prices dataset\n",
            "---------------------------\n",
            "\n",
            "**Data Set Characteristics:**  \n",
            "\n",
            "    :Number of Instances: 506 \n",
            "\n",
            "    :Number of Attributes: 13 numeric/categorical predictive. Median Value (attribute 14) is usually the target.\n",
            "\n",
            "    :Attribute Information (in order):\n",
            "        - CRIM     per capita crime rate by town\n",
            "        - ZN       proportion of residential land zoned for lots over 25,000 sq.ft.\n",
            "        - INDUS    proportion of non-retail business acres per town\n",
            "        - CHAS     Charles River dummy variable (= 1 if tract bounds river; 0 otherwise)\n",
            "        - NOX      nitric oxides concentration (parts per 10 million)\n",
            "        - RM       average number of rooms per dwelling\n",
            "        - AGE      proportion of owner-occupied units built prior to 1940\n",
            "        - DIS      weighted distances to five Boston employment centres\n",
            "        - RAD      index of accessibility to radial highways\n",
            "        - TAX      full-value property-tax rate per $10,000\n",
            "        - PTRATIO  pupil-teacher ratio by town\n",
            "        - B        1000(Bk - 0.63)^2 where Bk is the proportion of black people by town\n",
            "        - LSTAT    % lower status of the population\n",
            "        - MEDV     Median value of owner-occupied homes in $1000's\n",
            "\n",
            "    :Missing Attribute Values: None\n",
            "\n",
            "    :Creator: Harrison, D. and Rubinfeld, D.L.\n",
            "\n",
            "This is a copy of UCI ML housing dataset.\n",
            "https://archive.ics.uci.edu/ml/machine-learning-databases/housing/\n",
            "\n",
            "\n",
            "This dataset was taken from the StatLib library which is maintained at Carnegie Mellon University.\n",
            "\n",
            "The Boston house-price data of Harrison, D. and Rubinfeld, D.L. 'Hedonic\n",
            "prices and the demand for clean air', J. Environ. Economics & Management,\n",
            "vol.5, 81-102, 1978.   Used in Belsley, Kuh & Welsch, 'Regression diagnostics\n",
            "...', Wiley, 1980.   N.B. Various transformations are used in the table on\n",
            "pages 244-261 of the latter.\n",
            "\n",
            "The Boston house-price data has been used in many machine learning papers that address regression\n",
            "problems.   \n",
            "     \n",
            ".. topic:: References\n",
            "\n",
            "   - Belsley, Kuh & Welsch, 'Regression diagnostics: Identifying Influential Data and Sources of Collinearity', Wiley, 1980. 244-261.\n",
            "   - Quinlan,R. (1993). Combining Instance-Based and Model-Based Learning. In Proceedings on the Tenth International Conference of Machine Learning, 236-243, University of Massachusetts, Amherst. Morgan Kaufmann.\n",
            "\n"
          ]
        }
      ]
    },
    {
      "cell_type": "code",
      "source": [
        "boston_df.hist(bins=50, figsize=(20,10))\n",
        "plt.show()"
      ],
      "metadata": {
        "colab": {
          "base_uri": "https://localhost:8080/",
          "height": 607
        },
        "id": "3fwdXsFjv2OI",
        "outputId": "79f32f26-0d8e-4c0c-f092-1e873cf51a18"
      },
      "execution_count": null,
      "outputs": [
        {
          "output_type": "display_data",
          "data": {
            "text/plain": [
              "<Figure size 1440x720 with 16 Axes>"
            ],
            "image/png": "[encoded data removed]"
          },
          "metadata": {
            "needs_background": "light"
          }
        }
      ]
    },
    {
      "cell_type": "markdown",
      "source": [
        "#### Feature Scaling Plan\n",
        "* `CRIM`, `INDUS`, `NOX`, `AGE`, `DIS`, `TAX`, `PTRATIO`, `B`, `LSTAT` - quantile transform then scale\n",
        "* `ZN` - split into zero and non-zero for categorical, the non-zeroes are quantile transformed and scaled\n",
        "* `CHAS` - encode as one-of-k \n",
        "* `RAD` - ordinal encoder (higher index is better accessibility) or binirization (every 5 ranks) and then 1hot encoded.\n",
        "* `RM` - scale\n",
        "\n",
        "\n",
        "Notes: `AGE` has a max value of 100 years, with 32 observations\n",
        "\n",
        "\n",
        "Task: Create a Feature Engineering Plan"
      ],
      "metadata": {
        "id": "EcS4ZJlQvw7Q"
      }
    },
    {
      "cell_type": "code",
      "source": [
        "boston_df = train_set.copy()"
      ],
      "metadata": {
        "id": "bmZsjnOIYF15"
      },
      "execution_count": null,
      "outputs": []
    },
    {
      "cell_type": "code",
      "source": [
        "boston_df.info()\n",
        "\n",
        "# no missing values\n",
        "# all numeric values"
      ],
      "metadata": {
        "colab": {
          "base_uri": "https://localhost:8080/"
        },
        "id": "DzCagLhCrzXB",
        "outputId": "b6fbff53-b69d-46c6-c4bd-5a6635d2c22a"
      },
      "execution_count": null,
      "outputs": [
        {
          "output_type": "stream",
          "name": "stdout",
          "text": [
            "<class 'pandas.core.frame.DataFrame'>\n",
            "Int64Index: 404 entries, 345 to 232\n",
            "Data columns (total 14 columns):\n",
            " #   Column   Non-Null Count  Dtype  \n",
            "---  ------   --------------  -----  \n",
            " 0   CRIM     404 non-null    float64\n",
            " 1   ZN       404 non-null    float64\n",
            " 2   INDUS    404 non-null    float64\n",
            " 3   CHAS     404 non-null    float64\n",
            " 4   NOX      404 non-null    float64\n",
            " 5   RM       404 non-null    float64\n",
            " 6   AGE      404 non-null    float64\n",
            " 7   DIS      404 non-null    float64\n",
            " 8   RAD      404 non-null    float64\n",
            " 9   TAX      404 non-null    float64\n",
            " 10  PTRATIO  404 non-null    float64\n",
            " 11  B        404 non-null    float64\n",
            " 12  LSTAT    404 non-null    float64\n",
            " 13  MEDV     404 non-null    float64\n",
            "dtypes: float64(14)\n",
            "memory usage: 47.3 KB\n"
          ]
        }
      ]
    },
    {
      "cell_type": "code",
      "source": [
        "selected_feature = 'LSTAT'"
      ],
      "metadata": {
        "id": "nOUgyjSgignd"
      },
      "execution_count": null,
      "outputs": []
    },
    {
      "cell_type": "markdown",
      "source": [
        "##### Quintile Transform"
      ],
      "metadata": {
        "id": "O-UkzmPo5ZAv"
      }
    },
    {
      "cell_type": "code",
      "source": [
        "from sklearn.preprocessing import QuantileTransformer\n",
        "\n",
        "qt = QuantileTransformer(\n",
        "    output_distribution='normal', \n",
        "    random_state=42, \n",
        "    n_quantiles=10) # can use n_quantiles as a hyper parameter\n",
        "\n",
        "feat_qt_trans = qt.fit_transform(boston_df[[selected_feature]])\n",
        "\n",
        "pd.Series(feat_qt_trans.reshape(-1)).hist(bins=50)"
      ],
      "metadata": {
        "colab": {
          "base_uri": "https://localhost:8080/",
          "height": 282
        },
        "id": "eesOBArr6QuM",
        "outputId": "9c61a670-8236-4829-9ec8-e1d6562ade60"
      },
      "execution_count": null,
      "outputs": [
        {
          "output_type": "execute_result",
          "data": {
            "text/plain": [
              "<AxesSubplot:>"
            ]
          },
          "metadata": {},
          "execution_count": 21
        },
        {
          "output_type": "display_data",
          "data": {
            "text/plain": [
              "<Figure size 432x288 with 1 Axes>"
            ],
            "image/png": "[encoded data removed]"
          },
          "metadata": {
            "needs_background": "light"
          }
        }
      ]
    },
    {
      "cell_type": "markdown",
      "source": [
        "##### Logarithmic Transform"
      ],
      "metadata": {
        "id": "nCw6E3rIhw6E"
      }
    },
    {
      "cell_type": "code",
      "source": [
        "(boston_df[selected_feature]).transform(np.log).hist(bins=50)"
      ],
      "metadata": {
        "colab": {
          "base_uri": "https://localhost:8080/",
          "height": 282
        },
        "id": "LAM6iIISslVq",
        "outputId": "3b1374c7-6613-46b0-9059-d47f134d3247"
      },
      "execution_count": null,
      "outputs": [
        {
          "output_type": "execute_result",
          "data": {
            "text/plain": [
              "<AxesSubplot:>"
            ]
          },
          "metadata": {},
          "execution_count": 22
        },
        {
          "output_type": "display_data",
          "data": {
            "text/plain": [
              "<Figure size 432x288 with 1 Axes>"
            ],
            "image/png": "[encoded data removed]"
          },
          "metadata": {
            "needs_background": "light"
          }
        }
      ]
    },
    {
      "cell_type": "markdown",
      "source": [
        "##### Power Transform"
      ],
      "metadata": {
        "id": "y5TY4NF9h2Lc"
      }
    },
    {
      "cell_type": "code",
      "source": [
        "from sklearn.preprocessing import PowerTransformer\n",
        "\n",
        "# Create a PowerTransformer object with the desired method ('box-cox' or 'yeo-johnson')\n",
        "pt = PowerTransformer(method='box-cox')\n",
        "\n",
        "# Fit the transformer to the feature data and transform the feature\n",
        "feat_bc_pt = pt.fit_transform(boston_df[[selected_feature]])\n",
        "\n",
        "pd.Series(feat_bc_pt.reshape(-1)).hist(bins=50)"
      ],
      "metadata": {
        "colab": {
          "base_uri": "https://localhost:8080/",
          "height": 282
        },
        "id": "VtGdvUW72vHj",
        "outputId": "56cc42b8-d48d-48fc-cee9-63078ffeda75"
      },
      "execution_count": null,
      "outputs": [
        {
          "output_type": "execute_result",
          "data": {
            "text/plain": [
              "<AxesSubplot:>"
            ]
          },
          "metadata": {},
          "execution_count": 23
        },
        {
          "output_type": "display_data",
          "data": {
            "text/plain": [
              "<Figure size 432x288 with 1 Axes>"
            ],
            "image/png": "[encoded data removed]"
          },
          "metadata": {
            "needs_background": "light"
          }
        }
      ]
    },
    {
      "cell_type": "code",
      "source": [
        "ZN_nz = boston_df['ZN'][boston_df['ZN']>0]\n",
        "\n",
        "ZN_nz.transform(np.log).hist(bins=50)"
      ],
      "metadata": {
        "colab": {
          "base_uri": "https://localhost:8080/",
          "height": 282
        },
        "id": "EYBhYaawktVv",
        "outputId": "c4b7ff98-680d-496a-a625-ef5fc8e200bf"
      },
      "execution_count": null,
      "outputs": [
        {
          "output_type": "execute_result",
          "data": {
            "text/plain": [
              "<AxesSubplot:>"
            ]
          },
          "metadata": {},
          "execution_count": 24
        },
        {
          "output_type": "display_data",
          "data": {
            "text/plain": [
              "<Figure size 432x288 with 1 Axes>"
            ],
            "image/png": "[encoded data removed]"
          },
          "metadata": {
            "needs_background": "light"
          }
        }
      ]
    },
    {
      "cell_type": "markdown",
      "source": [
        "#### Trying out different preprocessing pipelines"
      ],
      "metadata": {
        "id": "OSvhOmFi1Z24"
      }
    },
    {
      "cell_type": "markdown",
      "source": [
        "##### Basic Preprocessing"
      ],
      "metadata": {
        "id": "TTx9TWPJtzE2"
      }
    },
    {
      "cell_type": "code",
      "source": [
        "from sklearn.pipeline import make_pipeline\n",
        "from sklearn.preprocessing import StandardScaler, OneHotEncoder\n",
        "from sklearn.compose import ColumnTransformer\n",
        "import sklearn\n",
        "sklearn.set_config(display = 'diagram')\n",
        "\n",
        "num_attributes = ['CRIM', 'INDUS', 'NOX', 'AGE', 'DIS', 'TAX', 'PTRATIO', 'B', 'LSTAT', 'RM', 'ZN']\n",
        "cat_attributes = ['CHAS', 'RAD']\n",
        "\n",
        "num_pipeline = make_pipeline(\n",
        "    StandardScaler()\n",
        ")\n",
        "\n",
        "cat_pipeline = make_pipeline(\n",
        "    OneHotEncoder()\n",
        ")\n",
        "\n",
        "basic_preprocessing = ColumnTransformer([\n",
        "    ('num', num_pipeline, num_attributes),\n",
        "    ('cat', cat_pipeline, cat_attributes)\n",
        "])"
      ],
      "metadata": {
        "id": "RN03mVzvt2YS"
      },
      "execution_count": null,
      "outputs": []
    },
    {
      "cell_type": "markdown",
      "source": [
        "##### Detailed Preprocessing"
      ],
      "metadata": {
        "id": "KM_BCny3xciN"
      }
    },
    {
      "cell_type": "code",
      "source": [
        "# creating a custom transformer for ZN\n",
        "# where it will create two features out of the original ZN\n",
        "# first will be ZN_cat (1,0), second is ZN_nonzero\n",
        "\n",
        "from sklearn.base import BaseEstimator, TransformerMixin\n",
        "\n",
        "class ZNTransformer(BaseEstimator, TransformerMixin):\n",
        "    \n",
        "    def __init__(self, col_type='num'):\n",
        "        self.col_type = col_type\n",
        "        \n",
        "    def fit(self, X, y=None):\n",
        "        return self\n",
        "    \n",
        "    def transform(self, X):\n",
        "        X_transformed = X.copy()\n",
        "        X_transformed['ZN_nonzero'] = np.where(X_transformed['ZN'] == 0, np.nan, X_transformed['ZN'])\n",
        "        X_transformed['ZN_cat'] = (X_transformed['ZN'] != 0).astype(int)\n",
        "        if self.col_type == 'num':\n",
        "            return X_transformed[['ZN_nonzero']]\n",
        "        elif self.col_type == 'cat':\n",
        "            return X_transformed[['ZN_cat']]\n",
        "        else:\n",
        "            raise ValueError(\"Invalid column type: choose 'num' or 'cat'.\")"
      ],
      "metadata": {
        "id": "hS9Y0PmL4uE2"
      },
      "execution_count": null,
      "outputs": []
    },
    {
      "cell_type": "code",
      "source": [
        "zn_transform = ZNTransformer(col_type = 'num')\n",
        "\n",
        "feat_zn = zn_transform.fit_transform(boston_df[['ZN']])\n",
        "\n",
        "feat_zn.head()"
      ],
      "metadata": {
        "colab": {
          "base_uri": "https://localhost:8080/",
          "height": 206
        },
        "id": "54YO_AA75niX",
        "outputId": "8843c14e-16f1-4ae0-dec0-c4f611e206d4"
      },
      "execution_count": null,
      "outputs": [
        {
          "output_type": "execute_result",
          "data": {
            "text/plain": [
              "     ZN_nonzero\n",
              "345         NaN\n",
              "478         NaN\n",
              "238        30.0\n",
              "250        22.0\n",
              "393         NaN"
            ],
            "text/html": [
              "\n",
              "  <div id=\"df-07c5ef48-0852-4872-a4d0-94897804ca1b\">\n",
              "    <div class=\"colab-df-container\">\n",
              "      <div>\n",
              "<style scoped>\n",
              "    .dataframe tbody tr th:only-of-type {\n",
              "        vertical-align: middle;\n",
              "    }\n",
              "\n",
              "    .dataframe tbody tr th {\n",
              "        vertical-align: top;\n",
              "    }\n",
              "\n",
              "    .dataframe thead th {\n",
              "        text-align: right;\n",
              "    }\n",
              "</style>\n",
              "<table border=\"1\" class=\"dataframe\">\n",
              "  <thead>\n",
              "    <tr style=\"text-align: right;\">\n",
              "      <th></th>\n",
              "      <th>ZN_nonzero</th>\n",
              "    </tr>\n",
              "  </thead>\n",
              "  <tbody>\n",
              "    <tr>\n",
              "      <th>345</th>\n",
              "      <td>NaN</td>\n",
              "    </tr>\n",
              "    <tr>\n",
              "      <th>478</th>\n",
              "      <td>NaN</td>\n",
              "    </tr>\n",
              "    <tr>\n",
              "      <th>238</th>\n",
              "      <td>30.0</td>\n",
              "    </tr>\n",
              "    <tr>\n",
              "      <th>250</th>\n",
              "      <td>22.0</td>\n",
              "    </tr>\n",
              "    <tr>\n",
              "      <th>393</th>\n",
              "      <td>NaN</td>\n",
              "    </tr>\n",
              "  </tbody>\n",
              "</table>\n",
              "</div>\n",
              "      <button class=\"colab-df-convert\" onclick=\"convertToInteractive('df-07c5ef48-0852-4872-a4d0-94897804ca1b')\"\n",
              "              title=\"Convert this dataframe to an interactive table.\"\n",
              "              style=\"display:none;\">\n",
              "        \n",
              "  <svg xmlns=\"http://www.w3.org/2000/svg\" height=\"24px\"viewBox=\"0 0 24 24\"\n",
              "       width=\"24px\">\n",
              "    <path d=\"M0 0h24v24H0V0z\" fill=\"none\"/>\n",
              "    <path d=\"M18.56 5.44l.94 2.06.94-2.06 2.06-.94-2.06-.94-.94-2.06-.94 2.06-2.06.94zm-11 1L8.5 8.5l.94-2.06 2.06-.94-2.06-.94L8.5 2.5l-.94 2.06-2.06.94zm10 10l.94 2.06.94-2.06 2.06-.94-2.06-.94-.94-2.06-.94 2.06-2.06.94z\"/><path d=\"M17.41 7.96l-1.37-1.37c-.4-.4-.92-.59-1.43-.59-.52 0-1.04.2-1.43.59L10.3 9.45l-7.72 7.72c-.78.78-.78 2.05 0 2.83L4 21.41c.39.39.9.59 1.41.59.51 0 1.02-.2 1.41-.59l7.78-7.78 2.81-2.81c.8-.78.8-2.07 0-2.86zM5.41 20L4 18.59l7.72-7.72 1.47 1.35L5.41 20z\"/>\n",
              "  </svg>\n",
              "      </button>\n",
              "      \n",
              "  <style>\n",
              "    .colab-df-container {\n",
              "      display:flex;\n",
              "      flex-wrap:wrap;\n",
              "      gap: 12px;\n",
              "    }\n",
              "\n",
              "    .colab-df-convert {\n",
              "      background-color: #E8F0FE;\n",
              "      border: none;\n",
              "      border-radius: 50%;\n",
              "      cursor: pointer;\n",
              "      display: none;\n",
              "      fill: #1967D2;\n",
              "      height: 32px;\n",
              "      padding: 0 0 0 0;\n",
              "      width: 32px;\n",
              "    }\n",
              "\n",
              "    .colab-df-convert:hover {\n",
              "      background-color: #E2EBFA;\n",
              "      box-shadow: 0px 1px 2px rgba(60, 64, 67, 0.3), 0px 1px 3px 1px rgba(60, 64, 67, 0.15);\n",
              "      fill: #174EA6;\n",
              "    }\n",
              "\n",
              "    [theme=dark] .colab-df-convert {\n",
              "      background-color: #3B4455;\n",
              "      fill: #D2E3FC;\n",
              "    }\n",
              "\n",
              "    [theme=dark] .colab-df-convert:hover {\n",
              "      background-color: #434B5C;\n",
              "      box-shadow: 0px 1px 3px 1px rgba(0, 0, 0, 0.15);\n",
              "      filter: drop-shadow(0px 1px 2px rgba(0, 0, 0, 0.3));\n",
              "      fill: #FFFFFF;\n",
              "    }\n",
              "  </style>\n",
              "\n",
              "      <script>\n",
              "        const buttonEl =\n",
              "          document.querySelector('#df-07c5ef48-0852-4872-a4d0-94897804ca1b button.colab-df-convert');\n",
              "        buttonEl.style.display =\n",
              "          google.colab.kernel.accessAllowed ? 'block' : 'none';\n",
              "\n",
              "        async function convertToInteractive(key) {\n",
              "          const element = document.querySelector('#df-07c5ef48-0852-4872-a4d0-94897804ca1b');\n",
              "          const dataTable =\n",
              "            await google.colab.kernel.invokeFunction('convertToInteractive',\n",
              "                                                     [key], {});\n",
              "          if (!dataTable) return;\n",
              "\n",
              "          const docLinkHtml = 'Like what you see? Visit the ' +\n",
              "            '<a target=\"_blank\" href=https://colab.research.google.com/notebooks/data_table.ipynb>data table notebook</a>'\n",
              "            + ' to learn more about interactive tables.';\n",
              "          element.innerHTML = '';\n",
              "          dataTable['output_type'] = 'display_data';\n",
              "          await google.colab.output.renderOutput(dataTable, element);\n",
              "          const docLink = document.createElement('div');\n",
              "          docLink.innerHTML = docLinkHtml;\n",
              "          element.appendChild(docLink);\n",
              "        }\n",
              "      </script>\n",
              "    </div>\n",
              "  </div>\n",
              "  "
            ]
          },
          "metadata": {},
          "execution_count": 27
        }
      ]
    },
    {
      "cell_type": "code",
      "source": [
        "from sklearn.impute import SimpleImputer\n",
        "from sklearn.preprocessing import OrdinalEncoder, PolynomialFeatures\n",
        "\n",
        "qt_attributes = ['INDUS', 'NOX', 'AGE', 'DIS', 'TAX', 'PTRATIO', 'LSTAT']\n",
        "\n",
        "qt_pipeline = make_pipeline(\n",
        "    QuantileTransformer(\n",
        "      output_distribution='normal', \n",
        "      random_state=42, \n",
        "      n_quantiles=10\n",
        "    ),\n",
        "    StandardScaler()\n",
        ")\n",
        "\n",
        "zn_cat_pipeline = make_pipeline(\n",
        "    ZNTransformer(col_type='cat'),\n",
        "    OneHotEncoder()\n",
        ")\n",
        "\n",
        "zn_num_pipeline = make_pipeline(\n",
        "    ZNTransformer(col_type='num'),\n",
        "    SimpleImputer(strategy='mean'),\n",
        "    QuantileTransformer(\n",
        "      output_distribution='normal', \n",
        "      random_state=42, \n",
        "      n_quantiles=5\n",
        "    )\n",
        ")\n",
        "\n",
        "default_num_pipeline = make_pipeline(\n",
        "    StandardScaler()\n",
        ")\n",
        "\n",
        "detailed_preprocessing = ColumnTransformer([\n",
        "    ('num_qt_scaled', qt_pipeline, qt_attributes),\n",
        "    ('num_scaled', StandardScaler(), ['RM']),\n",
        "    ('num_polynomial', PolynomialFeatures(2), ['CRIM', 'B']),\n",
        "    ('cat_1hot', OneHotEncoder(), ['CHAS', 'RAD']),\n",
        "    # ('cat_ord', OrdinalEncoder(), ['RAD']),\n",
        "    ('zn_cat', zn_cat_pipeline, ['ZN']),\n",
        "    ('zn_num', zn_num_pipeline, ['ZN'])\n",
        "]) #, remainder=default_num_pipeline"
      ],
      "metadata": {
        "id": "H3I5rlG4xpAn"
      },
      "execution_count": null,
      "outputs": []
    },
    {
      "cell_type": "markdown",
      "source": [
        "#### Accuracy testing\n",
        "\n",
        "Using simple Linear Regression"
      ],
      "metadata": {
        "id": "6VaGaXHa1g0j"
      }
    },
    {
      "cell_type": "code",
      "source": [
        "boston_data = boston_df.drop('MEDV', axis=1)\n",
        "boston_target = boston_df['MEDV'].copy()"
      ],
      "metadata": {
        "id": "9zJMTBBFbc_Z"
      },
      "execution_count": null,
      "outputs": []
    },
    {
      "cell_type": "markdown",
      "source": [
        "##### Trivial Baseline Model"
      ],
      "metadata": {
        "id": "vf1uu2x1AZKw"
      }
    },
    {
      "cell_type": "code",
      "source": [
        "# create a trivial predictor\n",
        "y_mean = np.mean(boston_target)\n",
        "y_trivial = np.full_like(boston_target, y_mean)\n",
        "trivial_rmse = np.sqrt(mean_squared_error(boston_target, y_trivial))\n",
        "trivial_rmse"
      ],
      "metadata": {
        "colab": {
          "base_uri": "https://localhost:8080/"
        },
        "id": "Z4WACRbN2ES7",
        "outputId": "45c9c23c-5fd3-4f73-ab60-29cbaaa841a4"
      },
      "execution_count": null,
      "outputs": [
        {
          "output_type": "execute_result",
          "data": {
            "text/plain": [
              "9.119995848117446"
            ]
          },
          "metadata": {},
          "execution_count": 425
        }
      ]
    },
    {
      "cell_type": "markdown",
      "source": [
        "##### Linear Regression"
      ],
      "metadata": {
        "id": "SC8dFCNqARYe"
      }
    },
    {
      "cell_type": "code",
      "source": [
        "from sklearn.linear_model import LinearRegression\n",
        "\n",
        "lin_reg = make_pipeline(basic_preprocessing, LinearRegression())\n",
        "\n",
        "lin_reg.fit(boston_data, boston_target)"
      ],
      "metadata": {
        "colab": {
          "base_uri": "https://localhost:8080/",
          "height": 192
        },
        "id": "EzDJLOnbbFCu",
        "outputId": "e35a3de1-5bd5-45df-e57b-a83193a6be50"
      },
      "execution_count": null,
      "outputs": [
        {
          "output_type": "execute_result",
          "data": {
            "text/plain": [
              "Pipeline(steps=[('columntransformer',\n",
              "                 ColumnTransformer(transformers=[('num',\n",
              "                                                  Pipeline(steps=[('standardscaler',\n",
              "                                                                   StandardScaler())]),\n",
              "                                                  ['CRIM', 'INDUS', 'NOX',\n",
              "                                                   'AGE', 'DIS', 'TAX',\n",
              "                                                   'PTRATIO', 'B', 'LSTAT',\n",
              "                                                   'RM', 'ZN']),\n",
              "                                                 ('cat',\n",
              "                                                  Pipeline(steps=[('onehotencoder',\n",
              "                                                                   OneHotEncoder())]),\n",
              "                                                  ['CHAS', 'RAD'])])),\n",
              "                ('linearregression', LinearRegression())])"
            ],
            "text/html": [
              "<style>#sk-862dc643-09d2-49c4-a75f-ad6524ae5a37 {color: black;background-color: white;}#sk-862dc643-09d2-49c4-a75f-ad6524ae5a37 pre{padding: 0;}#sk-862dc643-09d2-49c4-a75f-ad6524ae5a37 div.sk-toggleable {background-color: white;}#sk-862dc643-09d2-49c4-a75f-ad6524ae5a37 label.sk-toggleable__label {cursor: pointer;display: block;width: 100%;margin-bottom: 0;padding: 0.3em;box-sizing: border-box;text-align: center;}#sk-862dc643-09d2-49c4-a75f-ad6524ae5a37 label.sk-toggleable__label-arrow:before {content: \"▸\";float: left;margin-right: 0.25em;color: #696969;}#sk-862dc643-09d2-49c4-a75f-ad6524ae5a37 label.sk-toggleable__label-arrow:hover:before {color: black;}#sk-862dc643-09d2-49c4-a75f-ad6524ae5a37 div.sk-estimator:hover label.sk-toggleable__label-arrow:before {color: black;}#sk-862dc643-09d2-49c4-a75f-ad6524ae5a37 div.sk-toggleable__content {max-height: 0;max-width: 0;overflow: hidden;text-align: left;background-color: #f0f8ff;}#sk-862dc643-09d2-49c4-a75f-ad6524ae5a37 div.sk-toggleable__content pre {margin: 0.2em;color: black;border-radius: 0.25em;background-color: #f0f8ff;}#sk-862dc643-09d2-49c4-a75f-ad6524ae5a37 input.sk-toggleable__control:checked~div.sk-toggleable__content {max-height: 200px;max-width: 100%;overflow: auto;}#sk-862dc643-09d2-49c4-a75f-ad6524ae5a37 input.sk-toggleable__control:checked~label.sk-toggleable__label-arrow:before {content: \"▾\";}#sk-862dc643-09d2-49c4-a75f-ad6524ae5a37 div.sk-estimator input.sk-toggleable__control:checked~label.sk-toggleable__label {background-color: #d4ebff;}#sk-862dc643-09d2-49c4-a75f-ad6524ae5a37 div.sk-label input.sk-toggleable__control:checked~label.sk-toggleable__label {background-color: #d4ebff;}#sk-862dc643-09d2-49c4-a75f-ad6524ae5a37 input.sk-hidden--visually {border: 0;clip: rect(1px 1px 1px 1px);clip: rect(1px, 1px, 1px, 1px);height: 1px;margin: -1px;overflow: hidden;padding: 0;position: absolute;width: 1px;}#sk-862dc643-09d2-49c4-a75f-ad6524ae5a37 div.sk-estimator {font-family: monospace;background-color: #f0f8ff;border: 1px dotted black;border-radius: 0.25em;box-sizing: border-box;margin-bottom: 0.5em;}#sk-862dc643-09d2-49c4-a75f-ad6524ae5a37 div.sk-estimator:hover {background-color: #d4ebff;}#sk-862dc643-09d2-49c4-a75f-ad6524ae5a37 div.sk-parallel-item::after {content: \"\";width: 100%;border-bottom: 1px solid gray;flex-grow: 1;}#sk-862dc643-09d2-49c4-a75f-ad6524ae5a37 div.sk-label:hover label.sk-toggleable__label {background-color: #d4ebff;}#sk-862dc643-09d2-49c4-a75f-ad6524ae5a37 div.sk-serial::before {content: \"\";position: absolute;border-left: 1px solid gray;box-sizing: border-box;top: 2em;bottom: 0;left: 50%;}#sk-862dc643-09d2-49c4-a75f-ad6524ae5a37 div.sk-serial {display: flex;flex-direction: column;align-items: center;background-color: white;padding-right: 0.2em;padding-left: 0.2em;}#sk-862dc643-09d2-49c4-a75f-ad6524ae5a37 div.sk-item {z-index: 1;}#sk-862dc643-09d2-49c4-a75f-ad6524ae5a37 div.sk-parallel {display: flex;align-items: stretch;justify-content: center;background-color: white;}#sk-862dc643-09d2-49c4-a75f-ad6524ae5a37 div.sk-parallel::before {content: \"\";position: absolute;border-left: 1px solid gray;box-sizing: border-box;top: 2em;bottom: 0;left: 50%;}#sk-862dc643-09d2-49c4-a75f-ad6524ae5a37 div.sk-parallel-item {display: flex;flex-direction: column;position: relative;background-color: white;}#sk-862dc643-09d2-49c4-a75f-ad6524ae5a37 div.sk-parallel-item:first-child::after {align-self: flex-end;width: 50%;}#sk-862dc643-09d2-49c4-a75f-ad6524ae5a37 div.sk-parallel-item:last-child::after {align-self: flex-start;width: 50%;}#sk-862dc643-09d2-49c4-a75f-ad6524ae5a37 div.sk-parallel-item:only-child::after {width: 0;}#sk-862dc643-09d2-49c4-a75f-ad6524ae5a37 div.sk-dashed-wrapped {border: 1px dashed gray;margin: 0 0.4em 0.5em 0.4em;box-sizing: border-box;padding-bottom: 0.4em;background-color: white;position: relative;}#sk-862dc643-09d2-49c4-a75f-ad6524ae5a37 div.sk-label label {font-family: monospace;font-weight: bold;background-color: white;display: inline-block;line-height: 1.2em;}#sk-862dc643-09d2-49c4-a75f-ad6524ae5a37 div.sk-label-container {position: relative;z-index: 2;text-align: center;}#sk-862dc643-09d2-49c4-a75f-ad6524ae5a37 div.sk-container {/* jupyter's `normalize.less` sets `[hidden] { display: none; }` but bootstrap.min.css set `[hidden] { display: none !important; }` so we also need the `!important` here to be able to override the default hidden behavior on the sphinx rendered scikit-learn.org. See: https://github.com/scikit-learn/scikit-learn/issues/21755 */display: inline-block !important;position: relative;}#sk-862dc643-09d2-49c4-a75f-ad6524ae5a37 div.sk-text-repr-fallback {display: none;}</style><div id=\"sk-862dc643-09d2-49c4-a75f-ad6524ae5a37\" class=\"sk-top-container\"><div class=\"sk-text-repr-fallback\"><pre>Pipeline(steps=[(&#x27;columntransformer&#x27;,\n",
              "                 ColumnTransformer(transformers=[(&#x27;num&#x27;,\n",
              "                                                  Pipeline(steps=[(&#x27;standardscaler&#x27;,\n",
              "                                                                   StandardScaler())]),\n",
              "                                                  [&#x27;CRIM&#x27;, &#x27;INDUS&#x27;, &#x27;NOX&#x27;,\n",
              "                                                   &#x27;AGE&#x27;, &#x27;DIS&#x27;, &#x27;TAX&#x27;,\n",
              "                                                   &#x27;PTRATIO&#x27;, &#x27;B&#x27;, &#x27;LSTAT&#x27;,\n",
              "                                                   &#x27;RM&#x27;, &#x27;ZN&#x27;]),\n",
              "                                                 (&#x27;cat&#x27;,\n",
              "                                                  Pipeline(steps=[(&#x27;onehotencoder&#x27;,\n",
              "                                                                   OneHotEncoder())]),\n",
              "                                                  [&#x27;CHAS&#x27;, &#x27;RAD&#x27;])])),\n",
              "                (&#x27;linearregression&#x27;, LinearRegression())])</pre><b>Please rerun this cell to show the HTML repr or trust the notebook.</b></div><div class=\"sk-container\" hidden><div class=\"sk-item sk-dashed-wrapped\"><div class=\"sk-label-container\"><div class=\"sk-label sk-toggleable\"><input class=\"sk-toggleable__control sk-hidden--visually\" id=\"bb3318a6-0731-4eee-81aa-976e8c53f714\" type=\"checkbox\" ><label for=\"bb3318a6-0731-4eee-81aa-976e8c53f714\" class=\"sk-toggleable__label sk-toggleable__label-arrow\">Pipeline</label><div class=\"sk-toggleable__content\"><pre>Pipeline(steps=[(&#x27;columntransformer&#x27;,\n",
              "                 ColumnTransformer(transformers=[(&#x27;num&#x27;,\n",
              "                                                  Pipeline(steps=[(&#x27;standardscaler&#x27;,\n",
              "                                                                   StandardScaler())]),\n",
              "                                                  [&#x27;CRIM&#x27;, &#x27;INDUS&#x27;, &#x27;NOX&#x27;,\n",
              "                                                   &#x27;AGE&#x27;, &#x27;DIS&#x27;, &#x27;TAX&#x27;,\n",
              "                                                   &#x27;PTRATIO&#x27;, &#x27;B&#x27;, &#x27;LSTAT&#x27;,\n",
              "                                                   &#x27;RM&#x27;, &#x27;ZN&#x27;]),\n",
              "                                                 (&#x27;cat&#x27;,\n",
              "                                                  Pipeline(steps=[(&#x27;onehotencoder&#x27;,\n",
              "                                                                   OneHotEncoder())]),\n",
              "                                                  [&#x27;CHAS&#x27;, &#x27;RAD&#x27;])])),\n",
              "                (&#x27;linearregression&#x27;, LinearRegression())])</pre></div></div></div><div class=\"sk-serial\"><div class=\"sk-item sk-dashed-wrapped\"><div class=\"sk-label-container\"><div class=\"sk-label sk-toggleable\"><input class=\"sk-toggleable__control sk-hidden--visually\" id=\"da35250f-bebe-4e24-8585-ba4a8d1384d2\" type=\"checkbox\" ><label for=\"da35250f-bebe-4e24-8585-ba4a8d1384d2\" class=\"sk-toggleable__label sk-toggleable__label-arrow\">columntransformer: ColumnTransformer</label><div class=\"sk-toggleable__content\"><pre>ColumnTransformer(transformers=[(&#x27;num&#x27;,\n",
              "                                 Pipeline(steps=[(&#x27;standardscaler&#x27;,\n",
              "                                                  StandardScaler())]),\n",
              "                                 [&#x27;CRIM&#x27;, &#x27;INDUS&#x27;, &#x27;NOX&#x27;, &#x27;AGE&#x27;, &#x27;DIS&#x27;, &#x27;TAX&#x27;,\n",
              "                                  &#x27;PTRATIO&#x27;, &#x27;B&#x27;, &#x27;LSTAT&#x27;, &#x27;RM&#x27;, &#x27;ZN&#x27;]),\n",
              "                                (&#x27;cat&#x27;,\n",
              "                                 Pipeline(steps=[(&#x27;onehotencoder&#x27;,\n",
              "                                                  OneHotEncoder())]),\n",
              "                                 [&#x27;CHAS&#x27;, &#x27;RAD&#x27;])])</pre></div></div></div><div class=\"sk-parallel\"><div class=\"sk-parallel-item\"><div class=\"sk-item\"><div class=\"sk-label-container\"><div class=\"sk-label sk-toggleable\"><input class=\"sk-toggleable__control sk-hidden--visually\" id=\"41d45491-19e5-43cb-a1e4-33fd79b109c2\" type=\"checkbox\" ><label for=\"41d45491-19e5-43cb-a1e4-33fd79b109c2\" class=\"sk-toggleable__label sk-toggleable__label-arrow\">num</label><div class=\"sk-toggleable__content\"><pre>[&#x27;CRIM&#x27;, &#x27;INDUS&#x27;, &#x27;NOX&#x27;, &#x27;AGE&#x27;, &#x27;DIS&#x27;, &#x27;TAX&#x27;, &#x27;PTRATIO&#x27;, &#x27;B&#x27;, &#x27;LSTAT&#x27;, &#x27;RM&#x27;, &#x27;ZN&#x27;]</pre></div></div></div><div class=\"sk-serial\"><div class=\"sk-item\"><div class=\"sk-serial\"><div class=\"sk-item\"><div class=\"sk-estimator sk-toggleable\"><input class=\"sk-toggleable__control sk-hidden--visually\" id=\"fec71275-3847-47ab-86be-c40a7609f0a9\" type=\"checkbox\" ><label for=\"fec71275-3847-47ab-86be-c40a7609f0a9\" class=\"sk-toggleable__label sk-toggleable__label-arrow\">StandardScaler</label><div class=\"sk-toggleable__content\"><pre>StandardScaler()</pre></div></div></div></div></div></div></div></div><div class=\"sk-parallel-item\"><div class=\"sk-item\"><div class=\"sk-label-container\"><div class=\"sk-label sk-toggleable\"><input class=\"sk-toggleable__control sk-hidden--visually\" id=\"96d60c70-b869-4483-9829-cbb40f12605f\" type=\"checkbox\" ><label for=\"96d60c70-b869-4483-9829-cbb40f12605f\" class=\"sk-toggleable__label sk-toggleable__label-arrow\">cat</label><div class=\"sk-toggleable__content\"><pre>[&#x27;CHAS&#x27;, &#x27;RAD&#x27;]</pre></div></div></div><div class=\"sk-serial\"><div class=\"sk-item\"><div class=\"sk-serial\"><div class=\"sk-item\"><div class=\"sk-estimator sk-toggleable\"><input class=\"sk-toggleable__control sk-hidden--visually\" id=\"d1e04eec-17b8-4690-b6a2-a859689f802f\" type=\"checkbox\" ><label for=\"d1e04eec-17b8-4690-b6a2-a859689f802f\" class=\"sk-toggleable__label sk-toggleable__label-arrow\">OneHotEncoder</label><div class=\"sk-toggleable__content\"><pre>OneHotEncoder()</pre></div></div></div></div></div></div></div></div></div></div><div class=\"sk-item\"><div class=\"sk-estimator sk-toggleable\"><input class=\"sk-toggleable__control sk-hidden--visually\" id=\"55aebcda-1047-43ed-bd8e-b73ae8c5b650\" type=\"checkbox\" ><label for=\"55aebcda-1047-43ed-bd8e-b73ae8c5b650\" class=\"sk-toggleable__label sk-toggleable__label-arrow\">LinearRegression</label><div class=\"sk-toggleable__content\"><pre>LinearRegression()</pre></div></div></div></div></div></div></div>"
            ]
          },
          "metadata": {},
          "execution_count": 97
        }
      ]
    },
    {
      "cell_type": "code",
      "source": [
        "boston_predictions = lin_reg.predict(boston_data)\n",
        "boston_predictions[:5].round(1)"
      ],
      "metadata": {
        "colab": {
          "base_uri": "https://localhost:8080/"
        },
        "id": "Dd7wFWP8bzZ0",
        "outputId": "ebe1746c-181a-40a9-d112-dce023537fe0"
      },
      "execution_count": null,
      "outputs": [
        {
          "output_type": "execute_result",
          "data": {
            "text/plain": [
              "array([17.7, 19.2, 26.4, 24. , 20.2])"
            ]
          },
          "metadata": {},
          "execution_count": 98
        }
      ]
    },
    {
      "cell_type": "code",
      "source": [
        "boston_target.iloc[:5].values"
      ],
      "metadata": {
        "colab": {
          "base_uri": "https://localhost:8080/"
        },
        "id": "u7NSSfS3cC4s",
        "outputId": "55de5148-b9ca-45aa-a025-bdaf12d7edc6"
      },
      "execution_count": null,
      "outputs": [
        {
          "output_type": "execute_result",
          "data": {
            "text/plain": [
              "array([17.5, 14.6, 23.7, 24.4, 13.8])"
            ]
          },
          "metadata": {},
          "execution_count": 99
        }
      ]
    },
    {
      "cell_type": "code",
      "source": [
        "from sklearn.metrics import mean_squared_error\n",
        "lin_rmse = mean_squared_error(boston_target, boston_predictions, squared=False)\n",
        "lin_rmse"
      ],
      "metadata": {
        "colab": {
          "base_uri": "https://localhost:8080/"
        },
        "id": "m82RiNj3zhVy",
        "outputId": "46acbc24-bc16-44d4-de87-71d839de1a89"
      },
      "execution_count": null,
      "outputs": [
        {
          "output_type": "execute_result",
          "data": {
            "text/plain": [
              "4.448600676774725"
            ]
          },
          "metadata": {},
          "execution_count": 100
        }
      ]
    },
    {
      "cell_type": "markdown",
      "source": [
        "##### Support Vector Regression"
      ],
      "metadata": {
        "id": "QYq5MupOArfH"
      }
    },
    {
      "cell_type": "code",
      "source": [
        "from sklearn.svm import SVR\n",
        "\n",
        "svr = make_pipeline(detailed_preprocessing, SVR(kernel='linear'))\n",
        "\n",
        "svr.fit(boston_data, boston_target)"
      ],
      "metadata": {
        "colab": {
          "base_uri": "https://localhost:8080/",
          "height": 262
        },
        "id": "dTV-htdwA9Pq",
        "outputId": "684165ea-3563-462b-b0c1-39cc997c4aef"
      },
      "execution_count": null,
      "outputs": [
        {
          "output_type": "execute_result",
          "data": {
            "text/plain": [
              "Pipeline(steps=[('columntransformer',\n",
              "                 ColumnTransformer(remainder=Pipeline(steps=[('standardscaler',\n",
              "                                                              StandardScaler())]),\n",
              "                                   transformers=[('num_qt_scaled',\n",
              "                                                  Pipeline(steps=[('quantiletransformer',\n",
              "                                                                   QuantileTransformer(n_quantiles=10,\n",
              "                                                                                       output_distribution='normal',\n",
              "                                                                                       random_state=42)),\n",
              "                                                                  ('standardscaler',\n",
              "                                                                   StandardScaler())]),\n",
              "                                                  ['INDUS', 'NOX', 'AGE', 'DIS',\n",
              "                                                   'TAX', 'PTRATIO...\n",
              "                                                  Pipeline(steps=[('zntransformer',\n",
              "                                                                   ZNTransformer(col_type='cat')),\n",
              "                                                                  ('onehotencoder',\n",
              "                                                                   OneHotEncoder())]),\n",
              "                                                  ['ZN']),\n",
              "                                                 ('zn_num',\n",
              "                                                  Pipeline(steps=[('zntransformer',\n",
              "                                                                   ZNTransformer()),\n",
              "                                                                  ('simpleimputer',\n",
              "                                                                   SimpleImputer()),\n",
              "                                                                  ('quantiletransformer',\n",
              "                                                                   QuantileTransformer(n_quantiles=10,\n",
              "                                                                                       output_distribution='normal',\n",
              "                                                                                       random_state=42))]),\n",
              "                                                  ['ZN'])])),\n",
              "                ('svr', SVR(kernel='linear'))])"
            ],
            "text/html": [
              "<style>#sk-58344fdd-0baa-4048-82ba-a5578d9a35f5 {color: black;background-color: white;}#sk-58344fdd-0baa-4048-82ba-a5578d9a35f5 pre{padding: 0;}#sk-58344fdd-0baa-4048-82ba-a5578d9a35f5 div.sk-toggleable {background-color: white;}#sk-58344fdd-0baa-4048-82ba-a5578d9a35f5 label.sk-toggleable__label {cursor: pointer;display: block;width: 100%;margin-bottom: 0;padding: 0.3em;box-sizing: border-box;text-align: center;}#sk-58344fdd-0baa-4048-82ba-a5578d9a35f5 label.sk-toggleable__label-arrow:before {content: \"▸\";float: left;margin-right: 0.25em;color: #696969;}#sk-58344fdd-0baa-4048-82ba-a5578d9a35f5 label.sk-toggleable__label-arrow:hover:before {color: black;}#sk-58344fdd-0baa-4048-82ba-a5578d9a35f5 div.sk-estimator:hover label.sk-toggleable__label-arrow:before {color: black;}#sk-58344fdd-0baa-4048-82ba-a5578d9a35f5 div.sk-toggleable__content {max-height: 0;max-width: 0;overflow: hidden;text-align: left;background-color: #f0f8ff;}#sk-58344fdd-0baa-4048-82ba-a5578d9a35f5 div.sk-toggleable__content pre {margin: 0.2em;color: black;border-radius: 0.25em;background-color: #f0f8ff;}#sk-58344fdd-0baa-4048-82ba-a5578d9a35f5 input.sk-toggleable__control:checked~div.sk-toggleable__content {max-height: 200px;max-width: 100%;overflow: auto;}#sk-58344fdd-0baa-4048-82ba-a5578d9a35f5 input.sk-toggleable__control:checked~label.sk-toggleable__label-arrow:before {content: \"▾\";}#sk-58344fdd-0baa-4048-82ba-a5578d9a35f5 div.sk-estimator input.sk-toggleable__control:checked~label.sk-toggleable__label {background-color: #d4ebff;}#sk-58344fdd-0baa-4048-82ba-a5578d9a35f5 div.sk-label input.sk-toggleable__control:checked~label.sk-toggleable__label {background-color: #d4ebff;}#sk-58344fdd-0baa-4048-82ba-a5578d9a35f5 input.sk-hidden--visually {border: 0;clip: rect(1px 1px 1px 1px);clip: rect(1px, 1px, 1px, 1px);height: 1px;margin: -1px;overflow: hidden;padding: 0;position: absolute;width: 1px;}#sk-58344fdd-0baa-4048-82ba-a5578d9a35f5 div.sk-estimator {font-family: monospace;background-color: #f0f8ff;border: 1px dotted black;border-radius: 0.25em;box-sizing: border-box;margin-bottom: 0.5em;}#sk-58344fdd-0baa-4048-82ba-a5578d9a35f5 div.sk-estimator:hover {background-color: #d4ebff;}#sk-58344fdd-0baa-4048-82ba-a5578d9a35f5 div.sk-parallel-item::after {content: \"\";width: 100%;border-bottom: 1px solid gray;flex-grow: 1;}#sk-58344fdd-0baa-4048-82ba-a5578d9a35f5 div.sk-label:hover label.sk-toggleable__label {background-color: #d4ebff;}#sk-58344fdd-0baa-4048-82ba-a5578d9a35f5 div.sk-serial::before {content: \"\";position: absolute;border-left: 1px solid gray;box-sizing: border-box;top: 2em;bottom: 0;left: 50%;}#sk-58344fdd-0baa-4048-82ba-a5578d9a35f5 div.sk-serial {display: flex;flex-direction: column;align-items: center;background-color: white;padding-right: 0.2em;padding-left: 0.2em;}#sk-58344fdd-0baa-4048-82ba-a5578d9a35f5 div.sk-item {z-index: 1;}#sk-58344fdd-0baa-4048-82ba-a5578d9a35f5 div.sk-parallel {display: flex;align-items: stretch;justify-content: center;background-color: white;}#sk-58344fdd-0baa-4048-82ba-a5578d9a35f5 div.sk-parallel::before {content: \"\";position: absolute;border-left: 1px solid gray;box-sizing: border-box;top: 2em;bottom: 0;left: 50%;}#sk-58344fdd-0baa-4048-82ba-a5578d9a35f5 div.sk-parallel-item {display: flex;flex-direction: column;position: relative;background-color: white;}#sk-58344fdd-0baa-4048-82ba-a5578d9a35f5 div.sk-parallel-item:first-child::after {align-self: flex-end;width: 50%;}#sk-58344fdd-0baa-4048-82ba-a5578d9a35f5 div.sk-parallel-item:last-child::after {align-self: flex-start;width: 50%;}#sk-58344fdd-0baa-4048-82ba-a5578d9a35f5 div.sk-parallel-item:only-child::after {width: 0;}#sk-58344fdd-0baa-4048-82ba-a5578d9a35f5 div.sk-dashed-wrapped {border: 1px dashed gray;margin: 0 0.4em 0.5em 0.4em;box-sizing: border-box;padding-bottom: 0.4em;background-color: white;position: relative;}#sk-58344fdd-0baa-4048-82ba-a5578d9a35f5 div.sk-label label {font-family: monospace;font-weight: bold;background-color: white;display: inline-block;line-height: 1.2em;}#sk-58344fdd-0baa-4048-82ba-a5578d9a35f5 div.sk-label-container {position: relative;z-index: 2;text-align: center;}#sk-58344fdd-0baa-4048-82ba-a5578d9a35f5 div.sk-container {/* jupyter's `normalize.less` sets `[hidden] { display: none; }` but bootstrap.min.css set `[hidden] { display: none !important; }` so we also need the `!important` here to be able to override the default hidden behavior on the sphinx rendered scikit-learn.org. See: https://github.com/scikit-learn/scikit-learn/issues/21755 */display: inline-block !important;position: relative;}#sk-58344fdd-0baa-4048-82ba-a5578d9a35f5 div.sk-text-repr-fallback {display: none;}</style><div id=\"sk-58344fdd-0baa-4048-82ba-a5578d9a35f5\" class=\"sk-top-container\"><div class=\"sk-text-repr-fallback\"><pre>Pipeline(steps=[(&#x27;columntransformer&#x27;,\n",
              "                 ColumnTransformer(remainder=Pipeline(steps=[(&#x27;standardscaler&#x27;,\n",
              "                                                              StandardScaler())]),\n",
              "                                   transformers=[(&#x27;num_qt_scaled&#x27;,\n",
              "                                                  Pipeline(steps=[(&#x27;quantiletransformer&#x27;,\n",
              "                                                                   QuantileTransformer(n_quantiles=10,\n",
              "                                                                                       output_distribution=&#x27;normal&#x27;,\n",
              "                                                                                       random_state=42)),\n",
              "                                                                  (&#x27;standardscaler&#x27;,\n",
              "                                                                   StandardScaler())]),\n",
              "                                                  [&#x27;INDUS&#x27;, &#x27;NOX&#x27;, &#x27;AGE&#x27;, &#x27;DIS&#x27;,\n",
              "                                                   &#x27;TAX&#x27;, &#x27;PTRATIO...\n",
              "                                                  Pipeline(steps=[(&#x27;zntransformer&#x27;,\n",
              "                                                                   ZNTransformer(col_type=&#x27;cat&#x27;)),\n",
              "                                                                  (&#x27;onehotencoder&#x27;,\n",
              "                                                                   OneHotEncoder())]),\n",
              "                                                  [&#x27;ZN&#x27;]),\n",
              "                                                 (&#x27;zn_num&#x27;,\n",
              "                                                  Pipeline(steps=[(&#x27;zntransformer&#x27;,\n",
              "                                                                   ZNTransformer()),\n",
              "                                                                  (&#x27;simpleimputer&#x27;,\n",
              "                                                                   SimpleImputer()),\n",
              "                                                                  (&#x27;quantiletransformer&#x27;,\n",
              "                                                                   QuantileTransformer(n_quantiles=10,\n",
              "                                                                                       output_distribution=&#x27;normal&#x27;,\n",
              "                                                                                       random_state=42))]),\n",
              "                                                  [&#x27;ZN&#x27;])])),\n",
              "                (&#x27;svr&#x27;, SVR(kernel=&#x27;linear&#x27;))])</pre><b>Please rerun this cell to show the HTML repr or trust the notebook.</b></div><div class=\"sk-container\" hidden><div class=\"sk-item sk-dashed-wrapped\"><div class=\"sk-label-container\"><div class=\"sk-label sk-toggleable\"><input class=\"sk-toggleable__control sk-hidden--visually\" id=\"2bfc3de8-c800-4185-a94d-2a66a0ae6437\" type=\"checkbox\" ><label for=\"2bfc3de8-c800-4185-a94d-2a66a0ae6437\" class=\"sk-toggleable__label sk-toggleable__label-arrow\">Pipeline</label><div class=\"sk-toggleable__content\"><pre>Pipeline(steps=[(&#x27;columntransformer&#x27;,\n",
              "                 ColumnTransformer(remainder=Pipeline(steps=[(&#x27;standardscaler&#x27;,\n",
              "                                                              StandardScaler())]),\n",
              "                                   transformers=[(&#x27;num_qt_scaled&#x27;,\n",
              "                                                  Pipeline(steps=[(&#x27;quantiletransformer&#x27;,\n",
              "                                                                   QuantileTransformer(n_quantiles=10,\n",
              "                                                                                       output_distribution=&#x27;normal&#x27;,\n",
              "                                                                                       random_state=42)),\n",
              "                                                                  (&#x27;standardscaler&#x27;,\n",
              "                                                                   StandardScaler())]),\n",
              "                                                  [&#x27;INDUS&#x27;, &#x27;NOX&#x27;, &#x27;AGE&#x27;, &#x27;DIS&#x27;,\n",
              "                                                   &#x27;TAX&#x27;, &#x27;PTRATIO...\n",
              "                                                  Pipeline(steps=[(&#x27;zntransformer&#x27;,\n",
              "                                                                   ZNTransformer(col_type=&#x27;cat&#x27;)),\n",
              "                                                                  (&#x27;onehotencoder&#x27;,\n",
              "                                                                   OneHotEncoder())]),\n",
              "                                                  [&#x27;ZN&#x27;]),\n",
              "                                                 (&#x27;zn_num&#x27;,\n",
              "                                                  Pipeline(steps=[(&#x27;zntransformer&#x27;,\n",
              "                                                                   ZNTransformer()),\n",
              "                                                                  (&#x27;simpleimputer&#x27;,\n",
              "                                                                   SimpleImputer()),\n",
              "                                                                  (&#x27;quantiletransformer&#x27;,\n",
              "                                                                   QuantileTransformer(n_quantiles=10,\n",
              "                                                                                       output_distribution=&#x27;normal&#x27;,\n",
              "                                                                                       random_state=42))]),\n",
              "                                                  [&#x27;ZN&#x27;])])),\n",
              "                (&#x27;svr&#x27;, SVR(kernel=&#x27;linear&#x27;))])</pre></div></div></div><div class=\"sk-serial\"><div class=\"sk-item sk-dashed-wrapped\"><div class=\"sk-label-container\"><div class=\"sk-label sk-toggleable\"><input class=\"sk-toggleable__control sk-hidden--visually\" id=\"10d03af0-1d12-4c3a-8bc4-9af04e245e1b\" type=\"checkbox\" ><label for=\"10d03af0-1d12-4c3a-8bc4-9af04e245e1b\" class=\"sk-toggleable__label sk-toggleable__label-arrow\">columntransformer: ColumnTransformer</label><div class=\"sk-toggleable__content\"><pre>ColumnTransformer(remainder=Pipeline(steps=[(&#x27;standardscaler&#x27;,\n",
              "                                             StandardScaler())]),\n",
              "                  transformers=[(&#x27;num_qt_scaled&#x27;,\n",
              "                                 Pipeline(steps=[(&#x27;quantiletransformer&#x27;,\n",
              "                                                  QuantileTransformer(n_quantiles=10,\n",
              "                                                                      output_distribution=&#x27;normal&#x27;,\n",
              "                                                                      random_state=42)),\n",
              "                                                 (&#x27;standardscaler&#x27;,\n",
              "                                                  StandardScaler())]),\n",
              "                                 [&#x27;INDUS&#x27;, &#x27;NOX&#x27;, &#x27;AGE&#x27;, &#x27;DIS&#x27;, &#x27;TAX&#x27;,\n",
              "                                  &#x27;PTRATIO&#x27;, &#x27;LSTAT&#x27;]),\n",
              "                                (&#x27;num_scaled&#x27;, StandardSca...\n",
              "                                (&#x27;cat_1hot&#x27;, OneHotEncoder(), [&#x27;CHAS&#x27;, &#x27;RAD&#x27;]),\n",
              "                                (&#x27;zn_cat&#x27;,\n",
              "                                 Pipeline(steps=[(&#x27;zntransformer&#x27;,\n",
              "                                                  ZNTransformer(col_type=&#x27;cat&#x27;)),\n",
              "                                                 (&#x27;onehotencoder&#x27;,\n",
              "                                                  OneHotEncoder())]),\n",
              "                                 [&#x27;ZN&#x27;]),\n",
              "                                (&#x27;zn_num&#x27;,\n",
              "                                 Pipeline(steps=[(&#x27;zntransformer&#x27;,\n",
              "                                                  ZNTransformer()),\n",
              "                                                 (&#x27;simpleimputer&#x27;,\n",
              "                                                  SimpleImputer()),\n",
              "                                                 (&#x27;quantiletransformer&#x27;,\n",
              "                                                  QuantileTransformer(n_quantiles=10,\n",
              "                                                                      output_distribution=&#x27;normal&#x27;,\n",
              "                                                                      random_state=42))]),\n",
              "                                 [&#x27;ZN&#x27;])])</pre></div></div></div><div class=\"sk-parallel\"><div class=\"sk-parallel-item\"><div class=\"sk-item\"><div class=\"sk-label-container\"><div class=\"sk-label sk-toggleable\"><input class=\"sk-toggleable__control sk-hidden--visually\" id=\"26bb511b-cef4-4f75-83ea-cbe8788a3177\" type=\"checkbox\" ><label for=\"26bb511b-cef4-4f75-83ea-cbe8788a3177\" class=\"sk-toggleable__label sk-toggleable__label-arrow\">num_qt_scaled</label><div class=\"sk-toggleable__content\"><pre>[&#x27;INDUS&#x27;, &#x27;NOX&#x27;, &#x27;AGE&#x27;, &#x27;DIS&#x27;, &#x27;TAX&#x27;, &#x27;PTRATIO&#x27;, &#x27;LSTAT&#x27;]</pre></div></div></div><div class=\"sk-serial\"><div class=\"sk-item\"><div class=\"sk-serial\"><div class=\"sk-item\"><div class=\"sk-estimator sk-toggleable\"><input class=\"sk-toggleable__control sk-hidden--visually\" id=\"cc63b9c0-cc73-4d3c-9961-7484a389897b\" type=\"checkbox\" ><label for=\"cc63b9c0-cc73-4d3c-9961-7484a389897b\" class=\"sk-toggleable__label sk-toggleable__label-arrow\">QuantileTransformer</label><div class=\"sk-toggleable__content\"><pre>QuantileTransformer(n_quantiles=10, output_distribution=&#x27;normal&#x27;,\n",
              "                    random_state=42)</pre></div></div></div><div class=\"sk-item\"><div class=\"sk-estimator sk-toggleable\"><input class=\"sk-toggleable__control sk-hidden--visually\" id=\"debcc769-3353-4dc5-b3dc-1b8dc44600dc\" type=\"checkbox\" ><label for=\"debcc769-3353-4dc5-b3dc-1b8dc44600dc\" class=\"sk-toggleable__label sk-toggleable__label-arrow\">StandardScaler</label><div class=\"sk-toggleable__content\"><pre>StandardScaler()</pre></div></div></div></div></div></div></div></div><div class=\"sk-parallel-item\"><div class=\"sk-item\"><div class=\"sk-label-container\"><div class=\"sk-label sk-toggleable\"><input class=\"sk-toggleable__control sk-hidden--visually\" id=\"5c586df9-804b-4e63-8d90-bbfd1fc2d625\" type=\"checkbox\" ><label for=\"5c586df9-804b-4e63-8d90-bbfd1fc2d625\" class=\"sk-toggleable__label sk-toggleable__label-arrow\">num_scaled</label><div class=\"sk-toggleable__content\"><pre>[&#x27;RM&#x27;]</pre></div></div></div><div class=\"sk-serial\"><div class=\"sk-item\"><div class=\"sk-estimator sk-toggleable\"><input class=\"sk-toggleable__control sk-hidden--visually\" id=\"6f0fea63-a1d3-40a1-b51b-bb627361f835\" type=\"checkbox\" ><label for=\"6f0fea63-a1d3-40a1-b51b-bb627361f835\" class=\"sk-toggleable__label sk-toggleable__label-arrow\">StandardScaler</label><div class=\"sk-toggleable__content\"><pre>StandardScaler()</pre></div></div></div></div></div></div><div class=\"sk-parallel-item\"><div class=\"sk-item\"><div class=\"sk-label-container\"><div class=\"sk-label sk-toggleable\"><input class=\"sk-toggleable__control sk-hidden--visually\" id=\"d32b6420-ab70-42a1-a71e-d3113a543fe3\" type=\"checkbox\" ><label for=\"d32b6420-ab70-42a1-a71e-d3113a543fe3\" class=\"sk-toggleable__label sk-toggleable__label-arrow\">num_polynomial</label><div class=\"sk-toggleable__content\"><pre>[&#x27;CRIM&#x27;, &#x27;B&#x27;]</pre></div></div></div><div class=\"sk-serial\"><div class=\"sk-item\"><div class=\"sk-estimator sk-toggleable\"><input class=\"sk-toggleable__control sk-hidden--visually\" id=\"2ef6da9b-e3af-4b8c-a509-f993364be9e0\" type=\"checkbox\" ><label for=\"2ef6da9b-e3af-4b8c-a509-f993364be9e0\" class=\"sk-toggleable__label sk-toggleable__label-arrow\">PolynomialFeatures</label><div class=\"sk-toggleable__content\"><pre>PolynomialFeatures()</pre></div></div></div></div></div></div><div class=\"sk-parallel-item\"><div class=\"sk-item\"><div class=\"sk-label-container\"><div class=\"sk-label sk-toggleable\"><input class=\"sk-toggleable__control sk-hidden--visually\" id=\"7162504a-86e1-4f2c-b49c-2774feced538\" type=\"checkbox\" ><label for=\"7162504a-86e1-4f2c-b49c-2774feced538\" class=\"sk-toggleable__label sk-toggleable__label-arrow\">cat_1hot</label><div class=\"sk-toggleable__content\"><pre>[&#x27;CHAS&#x27;, &#x27;RAD&#x27;]</pre></div></div></div><div class=\"sk-serial\"><div class=\"sk-item\"><div class=\"sk-estimator sk-toggleable\"><input class=\"sk-toggleable__control sk-hidden--visually\" id=\"9eac3f83-8d9f-401c-8eb9-af9f719111d1\" type=\"checkbox\" ><label for=\"9eac3f83-8d9f-401c-8eb9-af9f719111d1\" class=\"sk-toggleable__label sk-toggleable__label-arrow\">OneHotEncoder</label><div class=\"sk-toggleable__content\"><pre>OneHotEncoder()</pre></div></div></div></div></div></div><div class=\"sk-parallel-item\"><div class=\"sk-item\"><div class=\"sk-label-container\"><div class=\"sk-label sk-toggleable\"><input class=\"sk-toggleable__control sk-hidden--visually\" id=\"ecd05624-8ec4-4b7c-8a51-69ade337cc48\" type=\"checkbox\" ><label for=\"ecd05624-8ec4-4b7c-8a51-69ade337cc48\" class=\"sk-toggleable__label sk-toggleable__label-arrow\">zn_cat</label><div class=\"sk-toggleable__content\"><pre>[&#x27;ZN&#x27;]</pre></div></div></div><div class=\"sk-serial\"><div class=\"sk-item\"><div class=\"sk-serial\"><div class=\"sk-item\"><div class=\"sk-estimator sk-toggleable\"><input class=\"sk-toggleable__control sk-hidden--visually\" id=\"149ac885-dfd2-423b-9a60-b81b446424ae\" type=\"checkbox\" ><label for=\"149ac885-dfd2-423b-9a60-b81b446424ae\" class=\"sk-toggleable__label sk-toggleable__label-arrow\">ZNTransformer</label><div class=\"sk-toggleable__content\"><pre>ZNTransformer(col_type=&#x27;cat&#x27;)</pre></div></div></div><div class=\"sk-item\"><div class=\"sk-estimator sk-toggleable\"><input class=\"sk-toggleable__control sk-hidden--visually\" id=\"e854c87a-8625-441a-a8b1-26023832887c\" type=\"checkbox\" ><label for=\"e854c87a-8625-441a-a8b1-26023832887c\" class=\"sk-toggleable__label sk-toggleable__label-arrow\">OneHotEncoder</label><div class=\"sk-toggleable__content\"><pre>OneHotEncoder()</pre></div></div></div></div></div></div></div></div><div class=\"sk-parallel-item\"><div class=\"sk-item\"><div class=\"sk-label-container\"><div class=\"sk-label sk-toggleable\"><input class=\"sk-toggleable__control sk-hidden--visually\" id=\"273216a1-0ab8-4475-96d7-af0edb8c7433\" type=\"checkbox\" ><label for=\"273216a1-0ab8-4475-96d7-af0edb8c7433\" class=\"sk-toggleable__label sk-toggleable__label-arrow\">zn_num</label><div class=\"sk-toggleable__content\"><pre>[&#x27;ZN&#x27;]</pre></div></div></div><div class=\"sk-serial\"><div class=\"sk-item\"><div class=\"sk-serial\"><div class=\"sk-item\"><div class=\"sk-estimator sk-toggleable\"><input class=\"sk-toggleable__control sk-hidden--visually\" id=\"66458cca-62b2-4380-872c-da811b4732de\" type=\"checkbox\" ><label for=\"66458cca-62b2-4380-872c-da811b4732de\" class=\"sk-toggleable__label sk-toggleable__label-arrow\">ZNTransformer</label><div class=\"sk-toggleable__content\"><pre>ZNTransformer()</pre></div></div></div><div class=\"sk-item\"><div class=\"sk-estimator sk-toggleable\"><input class=\"sk-toggleable__control sk-hidden--visually\" id=\"3eb397fa-0b52-42e4-94a9-19a77d57eef0\" type=\"checkbox\" ><label for=\"3eb397fa-0b52-42e4-94a9-19a77d57eef0\" class=\"sk-toggleable__label sk-toggleable__label-arrow\">SimpleImputer</label><div class=\"sk-toggleable__content\"><pre>SimpleImputer()</pre></div></div></div><div class=\"sk-item\"><div class=\"sk-estimator sk-toggleable\"><input class=\"sk-toggleable__control sk-hidden--visually\" id=\"1ed348db-0f9b-4a03-ab6c-b73d8e77848f\" type=\"checkbox\" ><label for=\"1ed348db-0f9b-4a03-ab6c-b73d8e77848f\" class=\"sk-toggleable__label sk-toggleable__label-arrow\">QuantileTransformer</label><div class=\"sk-toggleable__content\"><pre>QuantileTransformer(n_quantiles=10, output_distribution=&#x27;normal&#x27;,\n",
              "                    random_state=42)</pre></div></div></div></div></div></div></div></div><div class=\"sk-parallel-item\"><div class=\"sk-item\"><div class=\"sk-label-container\"><div class=\"sk-label sk-toggleable\"><input class=\"sk-toggleable__control sk-hidden--visually\" id=\"6bd0c2ab-81e0-49f9-a067-8a2f2c457beb\" type=\"checkbox\" ><label for=\"6bd0c2ab-81e0-49f9-a067-8a2f2c457beb\" class=\"sk-toggleable__label sk-toggleable__label-arrow\">remainder</label><div class=\"sk-toggleable__content\"><pre>[]</pre></div></div></div><div class=\"sk-serial\"><div class=\"sk-item\"><div class=\"sk-serial\"><div class=\"sk-item\"><div class=\"sk-estimator sk-toggleable\"><input class=\"sk-toggleable__control sk-hidden--visually\" id=\"f6f0322b-19c2-4e67-a8b0-f45c828ab6cd\" type=\"checkbox\" ><label for=\"f6f0322b-19c2-4e67-a8b0-f45c828ab6cd\" class=\"sk-toggleable__label sk-toggleable__label-arrow\">StandardScaler</label><div class=\"sk-toggleable__content\"><pre>StandardScaler()</pre></div></div></div></div></div></div></div></div></div></div><div class=\"sk-item\"><div class=\"sk-estimator sk-toggleable\"><input class=\"sk-toggleable__control sk-hidden--visually\" id=\"35219f90-5422-4be3-b065-8ed57dc61293\" type=\"checkbox\" ><label for=\"35219f90-5422-4be3-b065-8ed57dc61293\" class=\"sk-toggleable__label sk-toggleable__label-arrow\">SVR</label><div class=\"sk-toggleable__content\"><pre>SVR(kernel=&#x27;linear&#x27;)</pre></div></div></div></div></div></div></div>"
            ]
          },
          "metadata": {},
          "execution_count": 430
        }
      ]
    },
    {
      "cell_type": "code",
      "source": [
        "boston_predictions_svr = svr.predict(boston_data)\n",
        "mean_squared_error(boston_target, boston_predictions_svr, squared=False)"
      ],
      "metadata": {
        "colab": {
          "base_uri": "https://localhost:8080/"
        },
        "id": "W3hw4IzdCP3y",
        "outputId": "e7ca168a-fe13-4073-c734-d7e24f183a15"
      },
      "execution_count": null,
      "outputs": [
        {
          "output_type": "execute_result",
          "data": {
            "text/plain": [
              "1280.7689527801588"
            ]
          },
          "metadata": {},
          "execution_count": 431
        }
      ]
    },
    {
      "cell_type": "markdown",
      "source": [
        "##### KNN Regression"
      ],
      "metadata": {
        "id": "z_2fxQkxC5uA"
      }
    },
    {
      "cell_type": "code",
      "source": [
        "from sklearn.neighbors import KNeighborsRegressor\n",
        "\n",
        "# Create k-Nearest Neighbors Regression model with k=5\n",
        "knn = make_pipeline(detailed_preprocessing, KNeighborsRegressor(n_neighbors=5))\n",
        "\n",
        "# Train the model on the training set\n",
        "knn.fit(boston_data, boston_target)"
      ],
      "metadata": {
        "colab": {
          "base_uri": "https://localhost:8080/",
          "height": 262
        },
        "id": "1QCewfchC82K",
        "outputId": "5fea5e4b-7edb-4af4-dba6-6c63def31b69"
      },
      "execution_count": null,
      "outputs": [
        {
          "output_type": "execute_result",
          "data": {
            "text/plain": [
              "Pipeline(steps=[('columntransformer',\n",
              "                 ColumnTransformer(remainder=Pipeline(steps=[('standardscaler',\n",
              "                                                              StandardScaler())]),\n",
              "                                   transformers=[('num_qt_scaled',\n",
              "                                                  Pipeline(steps=[('quantiletransformer',\n",
              "                                                                   QuantileTransformer(n_quantiles=10,\n",
              "                                                                                       output_distribution='normal',\n",
              "                                                                                       random_state=42)),\n",
              "                                                                  ('standardscaler',\n",
              "                                                                   StandardScaler())]),\n",
              "                                                  ['INDUS', 'NOX', 'AGE', 'DIS',\n",
              "                                                   'TAX', 'PTRATIO...\n",
              "                                                  Pipeline(steps=[('zntransformer',\n",
              "                                                                   ZNTransformer(col_type='cat')),\n",
              "                                                                  ('onehotencoder',\n",
              "                                                                   OneHotEncoder())]),\n",
              "                                                  ['ZN']),\n",
              "                                                 ('zn_num',\n",
              "                                                  Pipeline(steps=[('zntransformer',\n",
              "                                                                   ZNTransformer()),\n",
              "                                                                  ('simpleimputer',\n",
              "                                                                   SimpleImputer()),\n",
              "                                                                  ('quantiletransformer',\n",
              "                                                                   QuantileTransformer(n_quantiles=10,\n",
              "                                                                                       output_distribution='normal',\n",
              "                                                                                       random_state=42))]),\n",
              "                                                  ['ZN'])])),\n",
              "                ('kneighborsregressor', KNeighborsRegressor())])"
            ],
            "text/html": [
              "<style>#sk-ee3b7d08-7620-467a-bf68-a2bafb4ed305 {color: black;background-color: white;}#sk-ee3b7d08-7620-467a-bf68-a2bafb4ed305 pre{padding: 0;}#sk-ee3b7d08-7620-467a-bf68-a2bafb4ed305 div.sk-toggleable {background-color: white;}#sk-ee3b7d08-7620-467a-bf68-a2bafb4ed305 label.sk-toggleable__label {cursor: pointer;display: block;width: 100%;margin-bottom: 0;padding: 0.3em;box-sizing: border-box;text-align: center;}#sk-ee3b7d08-7620-467a-bf68-a2bafb4ed305 label.sk-toggleable__label-arrow:before {content: \"▸\";float: left;margin-right: 0.25em;color: #696969;}#sk-ee3b7d08-7620-467a-bf68-a2bafb4ed305 label.sk-toggleable__label-arrow:hover:before {color: black;}#sk-ee3b7d08-7620-467a-bf68-a2bafb4ed305 div.sk-estimator:hover label.sk-toggleable__label-arrow:before {color: black;}#sk-ee3b7d08-7620-467a-bf68-a2bafb4ed305 div.sk-toggleable__content {max-height: 0;max-width: 0;overflow: hidden;text-align: left;background-color: #f0f8ff;}#sk-ee3b7d08-7620-467a-bf68-a2bafb4ed305 div.sk-toggleable__content pre {margin: 0.2em;color: black;border-radius: 0.25em;background-color: #f0f8ff;}#sk-ee3b7d08-7620-467a-bf68-a2bafb4ed305 input.sk-toggleable__control:checked~div.sk-toggleable__content {max-height: 200px;max-width: 100%;overflow: auto;}#sk-ee3b7d08-7620-467a-bf68-a2bafb4ed305 input.sk-toggleable__control:checked~label.sk-toggleable__label-arrow:before {content: \"▾\";}#sk-ee3b7d08-7620-467a-bf68-a2bafb4ed305 div.sk-estimator input.sk-toggleable__control:checked~label.sk-toggleable__label {background-color: #d4ebff;}#sk-ee3b7d08-7620-467a-bf68-a2bafb4ed305 div.sk-label input.sk-toggleable__control:checked~label.sk-toggleable__label {background-color: #d4ebff;}#sk-ee3b7d08-7620-467a-bf68-a2bafb4ed305 input.sk-hidden--visually {border: 0;clip: rect(1px 1px 1px 1px);clip: rect(1px, 1px, 1px, 1px);height: 1px;margin: -1px;overflow: hidden;padding: 0;position: absolute;width: 1px;}#sk-ee3b7d08-7620-467a-bf68-a2bafb4ed305 div.sk-estimator {font-family: monospace;background-color: #f0f8ff;border: 1px dotted black;border-radius: 0.25em;box-sizing: border-box;margin-bottom: 0.5em;}#sk-ee3b7d08-7620-467a-bf68-a2bafb4ed305 div.sk-estimator:hover {background-color: #d4ebff;}#sk-ee3b7d08-7620-467a-bf68-a2bafb4ed305 div.sk-parallel-item::after {content: \"\";width: 100%;border-bottom: 1px solid gray;flex-grow: 1;}#sk-ee3b7d08-7620-467a-bf68-a2bafb4ed305 div.sk-label:hover label.sk-toggleable__label {background-color: #d4ebff;}#sk-ee3b7d08-7620-467a-bf68-a2bafb4ed305 div.sk-serial::before {content: \"\";position: absolute;border-left: 1px solid gray;box-sizing: border-box;top: 2em;bottom: 0;left: 50%;}#sk-ee3b7d08-7620-467a-bf68-a2bafb4ed305 div.sk-serial {display: flex;flex-direction: column;align-items: center;background-color: white;padding-right: 0.2em;padding-left: 0.2em;}#sk-ee3b7d08-7620-467a-bf68-a2bafb4ed305 div.sk-item {z-index: 1;}#sk-ee3b7d08-7620-467a-bf68-a2bafb4ed305 div.sk-parallel {display: flex;align-items: stretch;justify-content: center;background-color: white;}#sk-ee3b7d08-7620-467a-bf68-a2bafb4ed305 div.sk-parallel::before {content: \"\";position: absolute;border-left: 1px solid gray;box-sizing: border-box;top: 2em;bottom: 0;left: 50%;}#sk-ee3b7d08-7620-467a-bf68-a2bafb4ed305 div.sk-parallel-item {display: flex;flex-direction: column;position: relative;background-color: white;}#sk-ee3b7d08-7620-467a-bf68-a2bafb4ed305 div.sk-parallel-item:first-child::after {align-self: flex-end;width: 50%;}#sk-ee3b7d08-7620-467a-bf68-a2bafb4ed305 div.sk-parallel-item:last-child::after {align-self: flex-start;width: 50%;}#sk-ee3b7d08-7620-467a-bf68-a2bafb4ed305 div.sk-parallel-item:only-child::after {width: 0;}#sk-ee3b7d08-7620-467a-bf68-a2bafb4ed305 div.sk-dashed-wrapped {border: 1px dashed gray;margin: 0 0.4em 0.5em 0.4em;box-sizing: border-box;padding-bottom: 0.4em;background-color: white;position: relative;}#sk-ee3b7d08-7620-467a-bf68-a2bafb4ed305 div.sk-label label {font-family: monospace;font-weight: bold;background-color: white;display: inline-block;line-height: 1.2em;}#sk-ee3b7d08-7620-467a-bf68-a2bafb4ed305 div.sk-label-container {position: relative;z-index: 2;text-align: center;}#sk-ee3b7d08-7620-467a-bf68-a2bafb4ed305 div.sk-container {/* jupyter's `normalize.less` sets `[hidden] { display: none; }` but bootstrap.min.css set `[hidden] { display: none !important; }` so we also need the `!important` here to be able to override the default hidden behavior on the sphinx rendered scikit-learn.org. See: https://github.com/scikit-learn/scikit-learn/issues/21755 */display: inline-block !important;position: relative;}#sk-ee3b7d08-7620-467a-bf68-a2bafb4ed305 div.sk-text-repr-fallback {display: none;}</style><div id=\"sk-ee3b7d08-7620-467a-bf68-a2bafb4ed305\" class=\"sk-top-container\"><div class=\"sk-text-repr-fallback\"><pre>Pipeline(steps=[(&#x27;columntransformer&#x27;,\n",
              "                 ColumnTransformer(remainder=Pipeline(steps=[(&#x27;standardscaler&#x27;,\n",
              "                                                              StandardScaler())]),\n",
              "                                   transformers=[(&#x27;num_qt_scaled&#x27;,\n",
              "                                                  Pipeline(steps=[(&#x27;quantiletransformer&#x27;,\n",
              "                                                                   QuantileTransformer(n_quantiles=10,\n",
              "                                                                                       output_distribution=&#x27;normal&#x27;,\n",
              "                                                                                       random_state=42)),\n",
              "                                                                  (&#x27;standardscaler&#x27;,\n",
              "                                                                   StandardScaler())]),\n",
              "                                                  [&#x27;INDUS&#x27;, &#x27;NOX&#x27;, &#x27;AGE&#x27;, &#x27;DIS&#x27;,\n",
              "                                                   &#x27;TAX&#x27;, &#x27;PTRATIO...\n",
              "                                                  Pipeline(steps=[(&#x27;zntransformer&#x27;,\n",
              "                                                                   ZNTransformer(col_type=&#x27;cat&#x27;)),\n",
              "                                                                  (&#x27;onehotencoder&#x27;,\n",
              "                                                                   OneHotEncoder())]),\n",
              "                                                  [&#x27;ZN&#x27;]),\n",
              "                                                 (&#x27;zn_num&#x27;,\n",
              "                                                  Pipeline(steps=[(&#x27;zntransformer&#x27;,\n",
              "                                                                   ZNTransformer()),\n",
              "                                                                  (&#x27;simpleimputer&#x27;,\n",
              "                                                                   SimpleImputer()),\n",
              "                                                                  (&#x27;quantiletransformer&#x27;,\n",
              "                                                                   QuantileTransformer(n_quantiles=10,\n",
              "                                                                                       output_distribution=&#x27;normal&#x27;,\n",
              "                                                                                       random_state=42))]),\n",
              "                                                  [&#x27;ZN&#x27;])])),\n",
              "                (&#x27;kneighborsregressor&#x27;, KNeighborsRegressor())])</pre><b>Please rerun this cell to show the HTML repr or trust the notebook.</b></div><div class=\"sk-container\" hidden><div class=\"sk-item sk-dashed-wrapped\"><div class=\"sk-label-container\"><div class=\"sk-label sk-toggleable\"><input class=\"sk-toggleable__control sk-hidden--visually\" id=\"16177338-6cb6-46a9-b443-7bd7f37f09fd\" type=\"checkbox\" ><label for=\"16177338-6cb6-46a9-b443-7bd7f37f09fd\" class=\"sk-toggleable__label sk-toggleable__label-arrow\">Pipeline</label><div class=\"sk-toggleable__content\"><pre>Pipeline(steps=[(&#x27;columntransformer&#x27;,\n",
              "                 ColumnTransformer(remainder=Pipeline(steps=[(&#x27;standardscaler&#x27;,\n",
              "                                                              StandardScaler())]),\n",
              "                                   transformers=[(&#x27;num_qt_scaled&#x27;,\n",
              "                                                  Pipeline(steps=[(&#x27;quantiletransformer&#x27;,\n",
              "                                                                   QuantileTransformer(n_quantiles=10,\n",
              "                                                                                       output_distribution=&#x27;normal&#x27;,\n",
              "                                                                                       random_state=42)),\n",
              "                                                                  (&#x27;standardscaler&#x27;,\n",
              "                                                                   StandardScaler())]),\n",
              "                                                  [&#x27;INDUS&#x27;, &#x27;NOX&#x27;, &#x27;AGE&#x27;, &#x27;DIS&#x27;,\n",
              "                                                   &#x27;TAX&#x27;, &#x27;PTRATIO...\n",
              "                                                  Pipeline(steps=[(&#x27;zntransformer&#x27;,\n",
              "                                                                   ZNTransformer(col_type=&#x27;cat&#x27;)),\n",
              "                                                                  (&#x27;onehotencoder&#x27;,\n",
              "                                                                   OneHotEncoder())]),\n",
              "                                                  [&#x27;ZN&#x27;]),\n",
              "                                                 (&#x27;zn_num&#x27;,\n",
              "                                                  Pipeline(steps=[(&#x27;zntransformer&#x27;,\n",
              "                                                                   ZNTransformer()),\n",
              "                                                                  (&#x27;simpleimputer&#x27;,\n",
              "                                                                   SimpleImputer()),\n",
              "                                                                  (&#x27;quantiletransformer&#x27;,\n",
              "                                                                   QuantileTransformer(n_quantiles=10,\n",
              "                                                                                       output_distribution=&#x27;normal&#x27;,\n",
              "                                                                                       random_state=42))]),\n",
              "                                                  [&#x27;ZN&#x27;])])),\n",
              "                (&#x27;kneighborsregressor&#x27;, KNeighborsRegressor())])</pre></div></div></div><div class=\"sk-serial\"><div class=\"sk-item sk-dashed-wrapped\"><div class=\"sk-label-container\"><div class=\"sk-label sk-toggleable\"><input class=\"sk-toggleable__control sk-hidden--visually\" id=\"6cb22979-8191-4c57-99ce-f5e509959887\" type=\"checkbox\" ><label for=\"6cb22979-8191-4c57-99ce-f5e509959887\" class=\"sk-toggleable__label sk-toggleable__label-arrow\">columntransformer: ColumnTransformer</label><div class=\"sk-toggleable__content\"><pre>ColumnTransformer(remainder=Pipeline(steps=[(&#x27;standardscaler&#x27;,\n",
              "                                             StandardScaler())]),\n",
              "                  transformers=[(&#x27;num_qt_scaled&#x27;,\n",
              "                                 Pipeline(steps=[(&#x27;quantiletransformer&#x27;,\n",
              "                                                  QuantileTransformer(n_quantiles=10,\n",
              "                                                                      output_distribution=&#x27;normal&#x27;,\n",
              "                                                                      random_state=42)),\n",
              "                                                 (&#x27;standardscaler&#x27;,\n",
              "                                                  StandardScaler())]),\n",
              "                                 [&#x27;INDUS&#x27;, &#x27;NOX&#x27;, &#x27;AGE&#x27;, &#x27;DIS&#x27;, &#x27;TAX&#x27;,\n",
              "                                  &#x27;PTRATIO&#x27;, &#x27;LSTAT&#x27;]),\n",
              "                                (&#x27;num_scaled&#x27;, StandardSca...\n",
              "                                (&#x27;cat_1hot&#x27;, OneHotEncoder(), [&#x27;CHAS&#x27;, &#x27;RAD&#x27;]),\n",
              "                                (&#x27;zn_cat&#x27;,\n",
              "                                 Pipeline(steps=[(&#x27;zntransformer&#x27;,\n",
              "                                                  ZNTransformer(col_type=&#x27;cat&#x27;)),\n",
              "                                                 (&#x27;onehotencoder&#x27;,\n",
              "                                                  OneHotEncoder())]),\n",
              "                                 [&#x27;ZN&#x27;]),\n",
              "                                (&#x27;zn_num&#x27;,\n",
              "                                 Pipeline(steps=[(&#x27;zntransformer&#x27;,\n",
              "                                                  ZNTransformer()),\n",
              "                                                 (&#x27;simpleimputer&#x27;,\n",
              "                                                  SimpleImputer()),\n",
              "                                                 (&#x27;quantiletransformer&#x27;,\n",
              "                                                  QuantileTransformer(n_quantiles=10,\n",
              "                                                                      output_distribution=&#x27;normal&#x27;,\n",
              "                                                                      random_state=42))]),\n",
              "                                 [&#x27;ZN&#x27;])])</pre></div></div></div><div class=\"sk-parallel\"><div class=\"sk-parallel-item\"><div class=\"sk-item\"><div class=\"sk-label-container\"><div class=\"sk-label sk-toggleable\"><input class=\"sk-toggleable__control sk-hidden--visually\" id=\"f0848a32-040e-4842-a3fe-58d2baca4c41\" type=\"checkbox\" ><label for=\"f0848a32-040e-4842-a3fe-58d2baca4c41\" class=\"sk-toggleable__label sk-toggleable__label-arrow\">num_qt_scaled</label><div class=\"sk-toggleable__content\"><pre>[&#x27;INDUS&#x27;, &#x27;NOX&#x27;, &#x27;AGE&#x27;, &#x27;DIS&#x27;, &#x27;TAX&#x27;, &#x27;PTRATIO&#x27;, &#x27;LSTAT&#x27;]</pre></div></div></div><div class=\"sk-serial\"><div class=\"sk-item\"><div class=\"sk-serial\"><div class=\"sk-item\"><div class=\"sk-estimator sk-toggleable\"><input class=\"sk-toggleable__control sk-hidden--visually\" id=\"a7e1caec-c223-4914-bcf1-62b4f5d92096\" type=\"checkbox\" ><label for=\"a7e1caec-c223-4914-bcf1-62b4f5d92096\" class=\"sk-toggleable__label sk-toggleable__label-arrow\">QuantileTransformer</label><div class=\"sk-toggleable__content\"><pre>QuantileTransformer(n_quantiles=10, output_distribution=&#x27;normal&#x27;,\n",
              "                    random_state=42)</pre></div></div></div><div class=\"sk-item\"><div class=\"sk-estimator sk-toggleable\"><input class=\"sk-toggleable__control sk-hidden--visually\" id=\"28ab4153-342a-4008-a35e-0e30d1bef1b0\" type=\"checkbox\" ><label for=\"28ab4153-342a-4008-a35e-0e30d1bef1b0\" class=\"sk-toggleable__label sk-toggleable__label-arrow\">StandardScaler</label><div class=\"sk-toggleable__content\"><pre>StandardScaler()</pre></div></div></div></div></div></div></div></div><div class=\"sk-parallel-item\"><div class=\"sk-item\"><div class=\"sk-label-container\"><div class=\"sk-label sk-toggleable\"><input class=\"sk-toggleable__control sk-hidden--visually\" id=\"9152ad4d-eb09-41d1-8bef-00294324fe09\" type=\"checkbox\" ><label for=\"9152ad4d-eb09-41d1-8bef-00294324fe09\" class=\"sk-toggleable__label sk-toggleable__label-arrow\">num_scaled</label><div class=\"sk-toggleable__content\"><pre>[&#x27;RM&#x27;]</pre></div></div></div><div class=\"sk-serial\"><div class=\"sk-item\"><div class=\"sk-estimator sk-toggleable\"><input class=\"sk-toggleable__control sk-hidden--visually\" id=\"85cccb20-d473-429f-b237-11028d09ab04\" type=\"checkbox\" ><label for=\"85cccb20-d473-429f-b237-11028d09ab04\" class=\"sk-toggleable__label sk-toggleable__label-arrow\">StandardScaler</label><div class=\"sk-toggleable__content\"><pre>StandardScaler()</pre></div></div></div></div></div></div><div class=\"sk-parallel-item\"><div class=\"sk-item\"><div class=\"sk-label-container\"><div class=\"sk-label sk-toggleable\"><input class=\"sk-toggleable__control sk-hidden--visually\" id=\"33737b4b-8092-4cd0-a58d-8f4e7bfe18df\" type=\"checkbox\" ><label for=\"33737b4b-8092-4cd0-a58d-8f4e7bfe18df\" class=\"sk-toggleable__label sk-toggleable__label-arrow\">num_polynomial</label><div class=\"sk-toggleable__content\"><pre>[&#x27;CRIM&#x27;, &#x27;B&#x27;]</pre></div></div></div><div class=\"sk-serial\"><div class=\"sk-item\"><div class=\"sk-estimator sk-toggleable\"><input class=\"sk-toggleable__control sk-hidden--visually\" id=\"3e28a100-1965-4599-86ef-ff96e44b4370\" type=\"checkbox\" ><label for=\"3e28a100-1965-4599-86ef-ff96e44b4370\" class=\"sk-toggleable__label sk-toggleable__label-arrow\">PolynomialFeatures</label><div class=\"sk-toggleable__content\"><pre>PolynomialFeatures()</pre></div></div></div></div></div></div><div class=\"sk-parallel-item\"><div class=\"sk-item\"><div class=\"sk-label-container\"><div class=\"sk-label sk-toggleable\"><input class=\"sk-toggleable__control sk-hidden--visually\" id=\"9bd9db18-72ca-43ee-9825-7f4901968485\" type=\"checkbox\" ><label for=\"9bd9db18-72ca-43ee-9825-7f4901968485\" class=\"sk-toggleable__label sk-toggleable__label-arrow\">cat_1hot</label><div class=\"sk-toggleable__content\"><pre>[&#x27;CHAS&#x27;, &#x27;RAD&#x27;]</pre></div></div></div><div class=\"sk-serial\"><div class=\"sk-item\"><div class=\"sk-estimator sk-toggleable\"><input class=\"sk-toggleable__control sk-hidden--visually\" id=\"bd811cfd-48fe-4e5d-b674-0a42ce175a04\" type=\"checkbox\" ><label for=\"bd811cfd-48fe-4e5d-b674-0a42ce175a04\" class=\"sk-toggleable__label sk-toggleable__label-arrow\">OneHotEncoder</label><div class=\"sk-toggleable__content\"><pre>OneHotEncoder()</pre></div></div></div></div></div></div><div class=\"sk-parallel-item\"><div class=\"sk-item\"><div class=\"sk-label-container\"><div class=\"sk-label sk-toggleable\"><input class=\"sk-toggleable__control sk-hidden--visually\" id=\"61dffdd4-a91d-4ac0-8871-5730f08b7799\" type=\"checkbox\" ><label for=\"61dffdd4-a91d-4ac0-8871-5730f08b7799\" class=\"sk-toggleable__label sk-toggleable__label-arrow\">zn_cat</label><div class=\"sk-toggleable__content\"><pre>[&#x27;ZN&#x27;]</pre></div></div></div><div class=\"sk-serial\"><div class=\"sk-item\"><div class=\"sk-serial\"><div class=\"sk-item\"><div class=\"sk-estimator sk-toggleable\"><input class=\"sk-toggleable__control sk-hidden--visually\" id=\"578d06f9-d13b-4f7b-9edc-dc03c99da04f\" type=\"checkbox\" ><label for=\"578d06f9-d13b-4f7b-9edc-dc03c99da04f\" class=\"sk-toggleable__label sk-toggleable__label-arrow\">ZNTransformer</label><div class=\"sk-toggleable__content\"><pre>ZNTransformer(col_type=&#x27;cat&#x27;)</pre></div></div></div><div class=\"sk-item\"><div class=\"sk-estimator sk-toggleable\"><input class=\"sk-toggleable__control sk-hidden--visually\" id=\"9b3c1ac8-82b3-4a3f-819d-6b5c0478c890\" type=\"checkbox\" ><label for=\"9b3c1ac8-82b3-4a3f-819d-6b5c0478c890\" class=\"sk-toggleable__label sk-toggleable__label-arrow\">OneHotEncoder</label><div class=\"sk-toggleable__content\"><pre>OneHotEncoder()</pre></div></div></div></div></div></div></div></div><div class=\"sk-parallel-item\"><div class=\"sk-item\"><div class=\"sk-label-container\"><div class=\"sk-label sk-toggleable\"><input class=\"sk-toggleable__control sk-hidden--visually\" id=\"a2b8a03c-8f07-4aea-b927-2c76d283ffb8\" type=\"checkbox\" ><label for=\"a2b8a03c-8f07-4aea-b927-2c76d283ffb8\" class=\"sk-toggleable__label sk-toggleable__label-arrow\">zn_num</label><div class=\"sk-toggleable__content\"><pre>[&#x27;ZN&#x27;]</pre></div></div></div><div class=\"sk-serial\"><div class=\"sk-item\"><div class=\"sk-serial\"><div class=\"sk-item\"><div class=\"sk-estimator sk-toggleable\"><input class=\"sk-toggleable__control sk-hidden--visually\" id=\"1cb4c0c1-c37b-40ac-9872-e4a9efa413a9\" type=\"checkbox\" ><label for=\"1cb4c0c1-c37b-40ac-9872-e4a9efa413a9\" class=\"sk-toggleable__label sk-toggleable__label-arrow\">ZNTransformer</label><div class=\"sk-toggleable__content\"><pre>ZNTransformer()</pre></div></div></div><div class=\"sk-item\"><div class=\"sk-estimator sk-toggleable\"><input class=\"sk-toggleable__control sk-hidden--visually\" id=\"31de7418-9e85-4951-8047-9d9c34989c27\" type=\"checkbox\" ><label for=\"31de7418-9e85-4951-8047-9d9c34989c27\" class=\"sk-toggleable__label sk-toggleable__label-arrow\">SimpleImputer</label><div class=\"sk-toggleable__content\"><pre>SimpleImputer()</pre></div></div></div><div class=\"sk-item\"><div class=\"sk-estimator sk-toggleable\"><input class=\"sk-toggleable__control sk-hidden--visually\" id=\"716dfe88-b379-4b7d-b635-d0a7f516d17f\" type=\"checkbox\" ><label for=\"716dfe88-b379-4b7d-b635-d0a7f516d17f\" class=\"sk-toggleable__label sk-toggleable__label-arrow\">QuantileTransformer</label><div class=\"sk-toggleable__content\"><pre>QuantileTransformer(n_quantiles=10, output_distribution=&#x27;normal&#x27;,\n",
              "                    random_state=42)</pre></div></div></div></div></div></div></div></div><div class=\"sk-parallel-item\"><div class=\"sk-item\"><div class=\"sk-label-container\"><div class=\"sk-label sk-toggleable\"><input class=\"sk-toggleable__control sk-hidden--visually\" id=\"6c70de6d-ae25-41e7-86d2-8b1fdc21dba9\" type=\"checkbox\" ><label for=\"6c70de6d-ae25-41e7-86d2-8b1fdc21dba9\" class=\"sk-toggleable__label sk-toggleable__label-arrow\">remainder</label><div class=\"sk-toggleable__content\"><pre>[]</pre></div></div></div><div class=\"sk-serial\"><div class=\"sk-item\"><div class=\"sk-serial\"><div class=\"sk-item\"><div class=\"sk-estimator sk-toggleable\"><input class=\"sk-toggleable__control sk-hidden--visually\" id=\"b5850271-9dd6-448e-a850-9b6c744b3687\" type=\"checkbox\" ><label for=\"b5850271-9dd6-448e-a850-9b6c744b3687\" class=\"sk-toggleable__label sk-toggleable__label-arrow\">StandardScaler</label><div class=\"sk-toggleable__content\"><pre>StandardScaler()</pre></div></div></div></div></div></div></div></div></div></div><div class=\"sk-item\"><div class=\"sk-estimator sk-toggleable\"><input class=\"sk-toggleable__control sk-hidden--visually\" id=\"d59954aa-b844-4ce1-83b3-b26a6be7238d\" type=\"checkbox\" ><label for=\"d59954aa-b844-4ce1-83b3-b26a6be7238d\" class=\"sk-toggleable__label sk-toggleable__label-arrow\">KNeighborsRegressor</label><div class=\"sk-toggleable__content\"><pre>KNeighborsRegressor()</pre></div></div></div></div></div></div></div>"
            ]
          },
          "metadata": {},
          "execution_count": 432
        }
      ]
    },
    {
      "cell_type": "code",
      "source": [
        "boston_predictions_knn = knn.predict(boston_data)\n",
        "mean_squared_error(boston_target, boston_predictions_knn, squared=False)"
      ],
      "metadata": {
        "colab": {
          "base_uri": "https://localhost:8080/"
        },
        "id": "oOeYPY4sDRcq",
        "outputId": "afeeda94-8e12-4a55-a229-144936e29f5c"
      },
      "execution_count": null,
      "outputs": [
        {
          "output_type": "execute_result",
          "data": {
            "text/plain": [
              "6.596599784197256"
            ]
          },
          "metadata": {},
          "execution_count": 433
        }
      ]
    },
    {
      "cell_type": "markdown",
      "source": [
        "##### Gradient Boosting Regressor"
      ],
      "metadata": {
        "id": "-qs51ri-DT8x"
      }
    },
    {
      "cell_type": "code",
      "source": [
        "from sklearn.ensemble import GradientBoostingRegressor\n",
        "\n",
        "# Create Gradient Boosting Regression model with 100 trees\n",
        "gbr = make_pipeline(detailed_preprocessing, GradientBoostingRegressor(n_estimators=100))\n",
        "\n",
        "# Train the model on the training set\n",
        "gbr.fit(boston_data, boston_target)"
      ],
      "metadata": {
        "colab": {
          "base_uri": "https://localhost:8080/",
          "height": 262
        },
        "id": "JF4s9zIxDXyR",
        "outputId": "48150453-d9d3-4cac-e140-48355d775fd0"
      },
      "execution_count": null,
      "outputs": [
        {
          "output_type": "execute_result",
          "data": {
            "text/plain": [
              "Pipeline(steps=[('columntransformer',\n",
              "                 ColumnTransformer(transformers=[('num_qt_scaled',\n",
              "                                                  Pipeline(steps=[('quantiletransformer',\n",
              "                                                                   QuantileTransformer(n_quantiles=10,\n",
              "                                                                                       output_distribution='normal',\n",
              "                                                                                       random_state=42)),\n",
              "                                                                  ('standardscaler',\n",
              "                                                                   StandardScaler())]),\n",
              "                                                  ['INDUS', 'NOX', 'AGE', 'DIS',\n",
              "                                                   'TAX', 'PTRATIO', 'LSTAT']),\n",
              "                                                 ('num_scaled',\n",
              "                                                  StandardScaler(), ['RM']),\n",
              "                                                 ('num_polynom...\n",
              "                                                  Pipeline(steps=[('zntransformer',\n",
              "                                                                   ZNTransformer(col_type='cat')),\n",
              "                                                                  ('onehotencoder',\n",
              "                                                                   OneHotEncoder())]),\n",
              "                                                  ['ZN']),\n",
              "                                                 ('zn_num',\n",
              "                                                  Pipeline(steps=[('zntransformer',\n",
              "                                                                   ZNTransformer()),\n",
              "                                                                  ('simpleimputer',\n",
              "                                                                   SimpleImputer()),\n",
              "                                                                  ('quantiletransformer',\n",
              "                                                                   QuantileTransformer(n_quantiles=5,\n",
              "                                                                                       output_distribution='normal',\n",
              "                                                                                       random_state=42))]),\n",
              "                                                  ['ZN'])])),\n",
              "                ('gradientboostingregressor', GradientBoostingRegressor())])"
            ],
            "text/html": [
              "<style>#sk-1d7f790e-fc4c-44d4-9341-0aebd6493e69 {color: black;background-color: white;}#sk-1d7f790e-fc4c-44d4-9341-0aebd6493e69 pre{padding: 0;}#sk-1d7f790e-fc4c-44d4-9341-0aebd6493e69 div.sk-toggleable {background-color: white;}#sk-1d7f790e-fc4c-44d4-9341-0aebd6493e69 label.sk-toggleable__label {cursor: pointer;display: block;width: 100%;margin-bottom: 0;padding: 0.3em;box-sizing: border-box;text-align: center;}#sk-1d7f790e-fc4c-44d4-9341-0aebd6493e69 label.sk-toggleable__label-arrow:before {content: \"▸\";float: left;margin-right: 0.25em;color: #696969;}#sk-1d7f790e-fc4c-44d4-9341-0aebd6493e69 label.sk-toggleable__label-arrow:hover:before {color: black;}#sk-1d7f790e-fc4c-44d4-9341-0aebd6493e69 div.sk-estimator:hover label.sk-toggleable__label-arrow:before {color: black;}#sk-1d7f790e-fc4c-44d4-9341-0aebd6493e69 div.sk-toggleable__content {max-height: 0;max-width: 0;overflow: hidden;text-align: left;background-color: #f0f8ff;}#sk-1d7f790e-fc4c-44d4-9341-0aebd6493e69 div.sk-toggleable__content pre {margin: 0.2em;color: black;border-radius: 0.25em;background-color: #f0f8ff;}#sk-1d7f790e-fc4c-44d4-9341-0aebd6493e69 input.sk-toggleable__control:checked~div.sk-toggleable__content {max-height: 200px;max-width: 100%;overflow: auto;}#sk-1d7f790e-fc4c-44d4-9341-0aebd6493e69 input.sk-toggleable__control:checked~label.sk-toggleable__label-arrow:before {content: \"▾\";}#sk-1d7f790e-fc4c-44d4-9341-0aebd6493e69 div.sk-estimator input.sk-toggleable__control:checked~label.sk-toggleable__label {background-color: #d4ebff;}#sk-1d7f790e-fc4c-44d4-9341-0aebd6493e69 div.sk-label input.sk-toggleable__control:checked~label.sk-toggleable__label {background-color: #d4ebff;}#sk-1d7f790e-fc4c-44d4-9341-0aebd6493e69 input.sk-hidden--visually {border: 0;clip: rect(1px 1px 1px 1px);clip: rect(1px, 1px, 1px, 1px);height: 1px;margin: -1px;overflow: hidden;padding: 0;position: absolute;width: 1px;}#sk-1d7f790e-fc4c-44d4-9341-0aebd6493e69 div.sk-estimator {font-family: monospace;background-color: #f0f8ff;border: 1px dotted black;border-radius: 0.25em;box-sizing: border-box;margin-bottom: 0.5em;}#sk-1d7f790e-fc4c-44d4-9341-0aebd6493e69 div.sk-estimator:hover {background-color: #d4ebff;}#sk-1d7f790e-fc4c-44d4-9341-0aebd6493e69 div.sk-parallel-item::after {content: \"\";width: 100%;border-bottom: 1px solid gray;flex-grow: 1;}#sk-1d7f790e-fc4c-44d4-9341-0aebd6493e69 div.sk-label:hover label.sk-toggleable__label {background-color: #d4ebff;}#sk-1d7f790e-fc4c-44d4-9341-0aebd6493e69 div.sk-serial::before {content: \"\";position: absolute;border-left: 1px solid gray;box-sizing: border-box;top: 2em;bottom: 0;left: 50%;}#sk-1d7f790e-fc4c-44d4-9341-0aebd6493e69 div.sk-serial {display: flex;flex-direction: column;align-items: center;background-color: white;padding-right: 0.2em;padding-left: 0.2em;}#sk-1d7f790e-fc4c-44d4-9341-0aebd6493e69 div.sk-item {z-index: 1;}#sk-1d7f790e-fc4c-44d4-9341-0aebd6493e69 div.sk-parallel {display: flex;align-items: stretch;justify-content: center;background-color: white;}#sk-1d7f790e-fc4c-44d4-9341-0aebd6493e69 div.sk-parallel::before {content: \"\";position: absolute;border-left: 1px solid gray;box-sizing: border-box;top: 2em;bottom: 0;left: 50%;}#sk-1d7f790e-fc4c-44d4-9341-0aebd6493e69 div.sk-parallel-item {display: flex;flex-direction: column;position: relative;background-color: white;}#sk-1d7f790e-fc4c-44d4-9341-0aebd6493e69 div.sk-parallel-item:first-child::after {align-self: flex-end;width: 50%;}#sk-1d7f790e-fc4c-44d4-9341-0aebd6493e69 div.sk-parallel-item:last-child::after {align-self: flex-start;width: 50%;}#sk-1d7f790e-fc4c-44d4-9341-0aebd6493e69 div.sk-parallel-item:only-child::after {width: 0;}#sk-1d7f790e-fc4c-44d4-9341-0aebd6493e69 div.sk-dashed-wrapped {border: 1px dashed gray;margin: 0 0.4em 0.5em 0.4em;box-sizing: border-box;padding-bottom: 0.4em;background-color: white;position: relative;}#sk-1d7f790e-fc4c-44d4-9341-0aebd6493e69 div.sk-label label {font-family: monospace;font-weight: bold;background-color: white;display: inline-block;line-height: 1.2em;}#sk-1d7f790e-fc4c-44d4-9341-0aebd6493e69 div.sk-label-container {position: relative;z-index: 2;text-align: center;}#sk-1d7f790e-fc4c-44d4-9341-0aebd6493e69 div.sk-container {/* jupyter's `normalize.less` sets `[hidden] { display: none; }` but bootstrap.min.css set `[hidden] { display: none !important; }` so we also need the `!important` here to be able to override the default hidden behavior on the sphinx rendered scikit-learn.org. See: https://github.com/scikit-learn/scikit-learn/issues/21755 */display: inline-block !important;position: relative;}#sk-1d7f790e-fc4c-44d4-9341-0aebd6493e69 div.sk-text-repr-fallback {display: none;}</style><div id=\"sk-1d7f790e-fc4c-44d4-9341-0aebd6493e69\" class=\"sk-top-container\"><div class=\"sk-text-repr-fallback\"><pre>Pipeline(steps=[(&#x27;columntransformer&#x27;,\n",
              "                 ColumnTransformer(transformers=[(&#x27;num_qt_scaled&#x27;,\n",
              "                                                  Pipeline(steps=[(&#x27;quantiletransformer&#x27;,\n",
              "                                                                   QuantileTransformer(n_quantiles=10,\n",
              "                                                                                       output_distribution=&#x27;normal&#x27;,\n",
              "                                                                                       random_state=42)),\n",
              "                                                                  (&#x27;standardscaler&#x27;,\n",
              "                                                                   StandardScaler())]),\n",
              "                                                  [&#x27;INDUS&#x27;, &#x27;NOX&#x27;, &#x27;AGE&#x27;, &#x27;DIS&#x27;,\n",
              "                                                   &#x27;TAX&#x27;, &#x27;PTRATIO&#x27;, &#x27;LSTAT&#x27;]),\n",
              "                                                 (&#x27;num_scaled&#x27;,\n",
              "                                                  StandardScaler(), [&#x27;RM&#x27;]),\n",
              "                                                 (&#x27;num_polynom...\n",
              "                                                  Pipeline(steps=[(&#x27;zntransformer&#x27;,\n",
              "                                                                   ZNTransformer(col_type=&#x27;cat&#x27;)),\n",
              "                                                                  (&#x27;onehotencoder&#x27;,\n",
              "                                                                   OneHotEncoder())]),\n",
              "                                                  [&#x27;ZN&#x27;]),\n",
              "                                                 (&#x27;zn_num&#x27;,\n",
              "                                                  Pipeline(steps=[(&#x27;zntransformer&#x27;,\n",
              "                                                                   ZNTransformer()),\n",
              "                                                                  (&#x27;simpleimputer&#x27;,\n",
              "                                                                   SimpleImputer()),\n",
              "                                                                  (&#x27;quantiletransformer&#x27;,\n",
              "                                                                   QuantileTransformer(n_quantiles=5,\n",
              "                                                                                       output_distribution=&#x27;normal&#x27;,\n",
              "                                                                                       random_state=42))]),\n",
              "                                                  [&#x27;ZN&#x27;])])),\n",
              "                (&#x27;gradientboostingregressor&#x27;, GradientBoostingRegressor())])</pre><b>Please rerun this cell to show the HTML repr or trust the notebook.</b></div><div class=\"sk-container\" hidden><div class=\"sk-item sk-dashed-wrapped\"><div class=\"sk-label-container\"><div class=\"sk-label sk-toggleable\"><input class=\"sk-toggleable__control sk-hidden--visually\" id=\"c4be8ebc-2d8b-480e-b5b8-2ac59ebd0ed8\" type=\"checkbox\" ><label for=\"c4be8ebc-2d8b-480e-b5b8-2ac59ebd0ed8\" class=\"sk-toggleable__label sk-toggleable__label-arrow\">Pipeline</label><div class=\"sk-toggleable__content\"><pre>Pipeline(steps=[(&#x27;columntransformer&#x27;,\n",
              "                 ColumnTransformer(transformers=[(&#x27;num_qt_scaled&#x27;,\n",
              "                                                  Pipeline(steps=[(&#x27;quantiletransformer&#x27;,\n",
              "                                                                   QuantileTransformer(n_quantiles=10,\n",
              "                                                                                       output_distribution=&#x27;normal&#x27;,\n",
              "                                                                                       random_state=42)),\n",
              "                                                                  (&#x27;standardscaler&#x27;,\n",
              "                                                                   StandardScaler())]),\n",
              "                                                  [&#x27;INDUS&#x27;, &#x27;NOX&#x27;, &#x27;AGE&#x27;, &#x27;DIS&#x27;,\n",
              "                                                   &#x27;TAX&#x27;, &#x27;PTRATIO&#x27;, &#x27;LSTAT&#x27;]),\n",
              "                                                 (&#x27;num_scaled&#x27;,\n",
              "                                                  StandardScaler(), [&#x27;RM&#x27;]),\n",
              "                                                 (&#x27;num_polynom...\n",
              "                                                  Pipeline(steps=[(&#x27;zntransformer&#x27;,\n",
              "                                                                   ZNTransformer(col_type=&#x27;cat&#x27;)),\n",
              "                                                                  (&#x27;onehotencoder&#x27;,\n",
              "                                                                   OneHotEncoder())]),\n",
              "                                                  [&#x27;ZN&#x27;]),\n",
              "                                                 (&#x27;zn_num&#x27;,\n",
              "                                                  Pipeline(steps=[(&#x27;zntransformer&#x27;,\n",
              "                                                                   ZNTransformer()),\n",
              "                                                                  (&#x27;simpleimputer&#x27;,\n",
              "                                                                   SimpleImputer()),\n",
              "                                                                  (&#x27;quantiletransformer&#x27;,\n",
              "                                                                   QuantileTransformer(n_quantiles=5,\n",
              "                                                                                       output_distribution=&#x27;normal&#x27;,\n",
              "                                                                                       random_state=42))]),\n",
              "                                                  [&#x27;ZN&#x27;])])),\n",
              "                (&#x27;gradientboostingregressor&#x27;, GradientBoostingRegressor())])</pre></div></div></div><div class=\"sk-serial\"><div class=\"sk-item sk-dashed-wrapped\"><div class=\"sk-label-container\"><div class=\"sk-label sk-toggleable\"><input class=\"sk-toggleable__control sk-hidden--visually\" id=\"dd4643c2-95f2-4a30-9ba6-9fedfeeb1b76\" type=\"checkbox\" ><label for=\"dd4643c2-95f2-4a30-9ba6-9fedfeeb1b76\" class=\"sk-toggleable__label sk-toggleable__label-arrow\">columntransformer: ColumnTransformer</label><div class=\"sk-toggleable__content\"><pre>ColumnTransformer(transformers=[(&#x27;num_qt_scaled&#x27;,\n",
              "                                 Pipeline(steps=[(&#x27;quantiletransformer&#x27;,\n",
              "                                                  QuantileTransformer(n_quantiles=10,\n",
              "                                                                      output_distribution=&#x27;normal&#x27;,\n",
              "                                                                      random_state=42)),\n",
              "                                                 (&#x27;standardscaler&#x27;,\n",
              "                                                  StandardScaler())]),\n",
              "                                 [&#x27;INDUS&#x27;, &#x27;NOX&#x27;, &#x27;AGE&#x27;, &#x27;DIS&#x27;, &#x27;TAX&#x27;,\n",
              "                                  &#x27;PTRATIO&#x27;, &#x27;LSTAT&#x27;]),\n",
              "                                (&#x27;num_scaled&#x27;, StandardScaler(), [&#x27;RM&#x27;]),\n",
              "                                (&#x27;num_polynomial&#x27;, PolynomialFeatures(),\n",
              "                                 [&#x27;CRIM&#x27;, &#x27;B&#x27;]),\n",
              "                                (&#x27;cat_1hot&#x27;, OneHotEncoder(), [&#x27;CHAS&#x27;, &#x27;RAD&#x27;]),\n",
              "                                (&#x27;zn_cat&#x27;,\n",
              "                                 Pipeline(steps=[(&#x27;zntransformer&#x27;,\n",
              "                                                  ZNTransformer(col_type=&#x27;cat&#x27;)),\n",
              "                                                 (&#x27;onehotencoder&#x27;,\n",
              "                                                  OneHotEncoder())]),\n",
              "                                 [&#x27;ZN&#x27;]),\n",
              "                                (&#x27;zn_num&#x27;,\n",
              "                                 Pipeline(steps=[(&#x27;zntransformer&#x27;,\n",
              "                                                  ZNTransformer()),\n",
              "                                                 (&#x27;simpleimputer&#x27;,\n",
              "                                                  SimpleImputer()),\n",
              "                                                 (&#x27;quantiletransformer&#x27;,\n",
              "                                                  QuantileTransformer(n_quantiles=5,\n",
              "                                                                      output_distribution=&#x27;normal&#x27;,\n",
              "                                                                      random_state=42))]),\n",
              "                                 [&#x27;ZN&#x27;])])</pre></div></div></div><div class=\"sk-parallel\"><div class=\"sk-parallel-item\"><div class=\"sk-item\"><div class=\"sk-label-container\"><div class=\"sk-label sk-toggleable\"><input class=\"sk-toggleable__control sk-hidden--visually\" id=\"0d36d838-4e4f-4b2f-98de-285c18c6232a\" type=\"checkbox\" ><label for=\"0d36d838-4e4f-4b2f-98de-285c18c6232a\" class=\"sk-toggleable__label sk-toggleable__label-arrow\">num_qt_scaled</label><div class=\"sk-toggleable__content\"><pre>[&#x27;INDUS&#x27;, &#x27;NOX&#x27;, &#x27;AGE&#x27;, &#x27;DIS&#x27;, &#x27;TAX&#x27;, &#x27;PTRATIO&#x27;, &#x27;LSTAT&#x27;]</pre></div></div></div><div class=\"sk-serial\"><div class=\"sk-item\"><div class=\"sk-serial\"><div class=\"sk-item\"><div class=\"sk-estimator sk-toggleable\"><input class=\"sk-toggleable__control sk-hidden--visually\" id=\"bfa44e84-0da1-4d94-a3a0-9a73a37ccdbb\" type=\"checkbox\" ><label for=\"bfa44e84-0da1-4d94-a3a0-9a73a37ccdbb\" class=\"sk-toggleable__label sk-toggleable__label-arrow\">QuantileTransformer</label><div class=\"sk-toggleable__content\"><pre>QuantileTransformer(n_quantiles=10, output_distribution=&#x27;normal&#x27;,\n",
              "                    random_state=42)</pre></div></div></div><div class=\"sk-item\"><div class=\"sk-estimator sk-toggleable\"><input class=\"sk-toggleable__control sk-hidden--visually\" id=\"244eb01c-f2a0-4415-8a2f-e266ca472ea4\" type=\"checkbox\" ><label for=\"244eb01c-f2a0-4415-8a2f-e266ca472ea4\" class=\"sk-toggleable__label sk-toggleable__label-arrow\">StandardScaler</label><div class=\"sk-toggleable__content\"><pre>StandardScaler()</pre></div></div></div></div></div></div></div></div><div class=\"sk-parallel-item\"><div class=\"sk-item\"><div class=\"sk-label-container\"><div class=\"sk-label sk-toggleable\"><input class=\"sk-toggleable__control sk-hidden--visually\" id=\"a0379055-624b-41f2-b95a-5e2d6d3d4459\" type=\"checkbox\" ><label for=\"a0379055-624b-41f2-b95a-5e2d6d3d4459\" class=\"sk-toggleable__label sk-toggleable__label-arrow\">num_scaled</label><div class=\"sk-toggleable__content\"><pre>[&#x27;RM&#x27;]</pre></div></div></div><div class=\"sk-serial\"><div class=\"sk-item\"><div class=\"sk-estimator sk-toggleable\"><input class=\"sk-toggleable__control sk-hidden--visually\" id=\"e2b432ab-7b7f-47ee-ab4a-426bb707e533\" type=\"checkbox\" ><label for=\"e2b432ab-7b7f-47ee-ab4a-426bb707e533\" class=\"sk-toggleable__label sk-toggleable__label-arrow\">StandardScaler</label><div class=\"sk-toggleable__content\"><pre>StandardScaler()</pre></div></div></div></div></div></div><div class=\"sk-parallel-item\"><div class=\"sk-item\"><div class=\"sk-label-container\"><div class=\"sk-label sk-toggleable\"><input class=\"sk-toggleable__control sk-hidden--visually\" id=\"10238a93-f104-49cf-8fe2-2926c7c8306f\" type=\"checkbox\" ><label for=\"10238a93-f104-49cf-8fe2-2926c7c8306f\" class=\"sk-toggleable__label sk-toggleable__label-arrow\">num_polynomial</label><div class=\"sk-toggleable__content\"><pre>[&#x27;CRIM&#x27;, &#x27;B&#x27;]</pre></div></div></div><div class=\"sk-serial\"><div class=\"sk-item\"><div class=\"sk-estimator sk-toggleable\"><input class=\"sk-toggleable__control sk-hidden--visually\" id=\"ab777602-960e-4c50-9b4e-f8ab489ad176\" type=\"checkbox\" ><label for=\"ab777602-960e-4c50-9b4e-f8ab489ad176\" class=\"sk-toggleable__label sk-toggleable__label-arrow\">PolynomialFeatures</label><div class=\"sk-toggleable__content\"><pre>PolynomialFeatures()</pre></div></div></div></div></div></div><div class=\"sk-parallel-item\"><div class=\"sk-item\"><div class=\"sk-label-container\"><div class=\"sk-label sk-toggleable\"><input class=\"sk-toggleable__control sk-hidden--visually\" id=\"68127adb-717d-4a65-9086-84bf54dd2172\" type=\"checkbox\" ><label for=\"68127adb-717d-4a65-9086-84bf54dd2172\" class=\"sk-toggleable__label sk-toggleable__label-arrow\">cat_1hot</label><div class=\"sk-toggleable__content\"><pre>[&#x27;CHAS&#x27;, &#x27;RAD&#x27;]</pre></div></div></div><div class=\"sk-serial\"><div class=\"sk-item\"><div class=\"sk-estimator sk-toggleable\"><input class=\"sk-toggleable__control sk-hidden--visually\" id=\"909cb62f-1de0-464e-a0c9-5c3e1540cd6e\" type=\"checkbox\" ><label for=\"909cb62f-1de0-464e-a0c9-5c3e1540cd6e\" class=\"sk-toggleable__label sk-toggleable__label-arrow\">OneHotEncoder</label><div class=\"sk-toggleable__content\"><pre>OneHotEncoder()</pre></div></div></div></div></div></div><div class=\"sk-parallel-item\"><div class=\"sk-item\"><div class=\"sk-label-container\"><div class=\"sk-label sk-toggleable\"><input class=\"sk-toggleable__control sk-hidden--visually\" id=\"271df4d9-0da6-47c3-bc73-74050c6720b8\" type=\"checkbox\" ><label for=\"271df4d9-0da6-47c3-bc73-74050c6720b8\" class=\"sk-toggleable__label sk-toggleable__label-arrow\">zn_cat</label><div class=\"sk-toggleable__content\"><pre>[&#x27;ZN&#x27;]</pre></div></div></div><div class=\"sk-serial\"><div class=\"sk-item\"><div class=\"sk-serial\"><div class=\"sk-item\"><div class=\"sk-estimator sk-toggleable\"><input class=\"sk-toggleable__control sk-hidden--visually\" id=\"58684ad9-f02d-4954-91a3-cee0f5211794\" type=\"checkbox\" ><label for=\"58684ad9-f02d-4954-91a3-cee0f5211794\" class=\"sk-toggleable__label sk-toggleable__label-arrow\">ZNTransformer</label><div class=\"sk-toggleable__content\"><pre>ZNTransformer(col_type=&#x27;cat&#x27;)</pre></div></div></div><div class=\"sk-item\"><div class=\"sk-estimator sk-toggleable\"><input class=\"sk-toggleable__control sk-hidden--visually\" id=\"c140e6ba-bd9c-4e96-b38c-4a130f5b2f4d\" type=\"checkbox\" ><label for=\"c140e6ba-bd9c-4e96-b38c-4a130f5b2f4d\" class=\"sk-toggleable__label sk-toggleable__label-arrow\">OneHotEncoder</label><div class=\"sk-toggleable__content\"><pre>OneHotEncoder()</pre></div></div></div></div></div></div></div></div><div class=\"sk-parallel-item\"><div class=\"sk-item\"><div class=\"sk-label-container\"><div class=\"sk-label sk-toggleable\"><input class=\"sk-toggleable__control sk-hidden--visually\" id=\"750da63b-cd68-4534-a5bb-ccccda8f77e4\" type=\"checkbox\" ><label for=\"750da63b-cd68-4534-a5bb-ccccda8f77e4\" class=\"sk-toggleable__label sk-toggleable__label-arrow\">zn_num</label><div class=\"sk-toggleable__content\"><pre>[&#x27;ZN&#x27;]</pre></div></div></div><div class=\"sk-serial\"><div class=\"sk-item\"><div class=\"sk-serial\"><div class=\"sk-item\"><div class=\"sk-estimator sk-toggleable\"><input class=\"sk-toggleable__control sk-hidden--visually\" id=\"c2ff48a8-49bf-4bb1-b49f-7b96c942068b\" type=\"checkbox\" ><label for=\"c2ff48a8-49bf-4bb1-b49f-7b96c942068b\" class=\"sk-toggleable__label sk-toggleable__label-arrow\">ZNTransformer</label><div class=\"sk-toggleable__content\"><pre>ZNTransformer()</pre></div></div></div><div class=\"sk-item\"><div class=\"sk-estimator sk-toggleable\"><input class=\"sk-toggleable__control sk-hidden--visually\" id=\"3f43674e-bdfc-4f21-937f-1c22ff21dc5b\" type=\"checkbox\" ><label for=\"3f43674e-bdfc-4f21-937f-1c22ff21dc5b\" class=\"sk-toggleable__label sk-toggleable__label-arrow\">SimpleImputer</label><div class=\"sk-toggleable__content\"><pre>SimpleImputer()</pre></div></div></div><div class=\"sk-item\"><div class=\"sk-estimator sk-toggleable\"><input class=\"sk-toggleable__control sk-hidden--visually\" id=\"864326ec-cd78-48de-9df9-b8c39cb39d34\" type=\"checkbox\" ><label for=\"864326ec-cd78-48de-9df9-b8c39cb39d34\" class=\"sk-toggleable__label sk-toggleable__label-arrow\">QuantileTransformer</label><div class=\"sk-toggleable__content\"><pre>QuantileTransformer(n_quantiles=5, output_distribution=&#x27;normal&#x27;,\n",
              "                    random_state=42)</pre></div></div></div></div></div></div></div></div></div></div><div class=\"sk-item\"><div class=\"sk-estimator sk-toggleable\"><input class=\"sk-toggleable__control sk-hidden--visually\" id=\"54b93b71-5ffa-40e3-84d9-8014bc4f7364\" type=\"checkbox\" ><label for=\"54b93b71-5ffa-40e3-84d9-8014bc4f7364\" class=\"sk-toggleable__label sk-toggleable__label-arrow\">GradientBoostingRegressor</label><div class=\"sk-toggleable__content\"><pre>GradientBoostingRegressor()</pre></div></div></div></div></div></div></div>"
            ]
          },
          "metadata": {},
          "execution_count": 101
        }
      ]
    },
    {
      "cell_type": "code",
      "source": [
        "boston_predictions_gbr = gbr.predict(boston_data)\n",
        "rmse_gbr = mean_squared_error(boston_target, boston_predictions_gbr, squared=False)\n",
        "print(f'RMSE of Gradient Boosting Regressor: {rmse_gbr.round(2)}')"
      ],
      "metadata": {
        "colab": {
          "base_uri": "https://localhost:8080/"
        },
        "id": "azmqk4acDjPa",
        "outputId": "f3aeed4b-9713-4906-c51c-77da305b7a45"
      },
      "execution_count": null,
      "outputs": [
        {
          "output_type": "stream",
          "name": "stdout",
          "text": [
            "RMSE of Gradient Boosting Regressor: 1.34\n"
          ]
        }
      ]
    },
    {
      "cell_type": "code",
      "source": [
        "# let's use k-fold cross validation to see some more evaluation scores\n",
        "\n",
        "from sklearn.model_selection import cross_val_score\n",
        "\n",
        "gbr_rmses = -cross_val_score(\n",
        "    gbr, \n",
        "    boston_data, \n",
        "    boston_target, \n",
        "    scoring='neg_root_mean_squared_error', \n",
        "    cv = 10\n",
        ")\n",
        "\n",
        "pd.Series(gbr_rmses).describe()"
      ],
      "metadata": {
        "colab": {
          "base_uri": "https://localhost:8080/"
        },
        "id": "V-Z0o-VoFtU5",
        "outputId": "0e56bc51-c00c-48b0-824b-cc28e4e0a167"
      },
      "execution_count": null,
      "outputs": [
        {
          "output_type": "execute_result",
          "data": {
            "text/plain": [
              "0    3.242589\n",
              "1    2.452069\n",
              "2    3.190915\n",
              "3    2.383531\n",
              "4    4.621024\n",
              "5    2.802636\n",
              "6    4.889259\n",
              "7    3.215274\n",
              "8    2.274341\n",
              "9    2.192675\n",
              "dtype: float64"
            ]
          },
          "metadata": {},
          "execution_count": 108
        }
      ]
    },
    {
      "cell_type": "markdown",
      "source": [
        "##### Random Forest Regression"
      ],
      "metadata": {
        "id": "XFgrjlOjDxPG"
      }
    },
    {
      "cell_type": "code",
      "source": [
        "from sklearn.ensemble import RandomForestRegressor\n",
        "\n",
        "# create a random forest regressor with 100 trees\n",
        "rf = make_pipeline(basic_preprocessing, RandomForestRegressor(n_estimators=100, random_state=42))\n",
        "\n",
        "# fit the model to the training data\n",
        "rf.fit(boston_data, boston_target)"
      ],
      "metadata": {
        "colab": {
          "base_uri": "https://localhost:8080/",
          "height": 192
        },
        "id": "WjiyTtqGD4va",
        "outputId": "9c815e1e-58c8-4177-f22e-3a218b1bcb74"
      },
      "execution_count": null,
      "outputs": [
        {
          "output_type": "execute_result",
          "data": {
            "text/plain": [
              "Pipeline(steps=[('columntransformer',\n",
              "                 ColumnTransformer(transformers=[('num',\n",
              "                                                  Pipeline(steps=[('standardscaler',\n",
              "                                                                   StandardScaler())]),\n",
              "                                                  ['CRIM', 'INDUS', 'NOX',\n",
              "                                                   'AGE', 'DIS', 'TAX',\n",
              "                                                   'PTRATIO', 'B', 'LSTAT',\n",
              "                                                   'RM', 'ZN']),\n",
              "                                                 ('cat',\n",
              "                                                  Pipeline(steps=[('onehotencoder',\n",
              "                                                                   OneHotEncoder())]),\n",
              "                                                  ['CHAS', 'RAD'])])),\n",
              "                ('randomforestregressor',\n",
              "                 RandomForestRegressor(random_state=42))])"
            ],
            "text/html": [
              "<style>#sk-1010d2fa-4736-4524-a1e3-f373cc7d9bc6 {color: black;background-color: white;}#sk-1010d2fa-4736-4524-a1e3-f373cc7d9bc6 pre{padding: 0;}#sk-1010d2fa-4736-4524-a1e3-f373cc7d9bc6 div.sk-toggleable {background-color: white;}#sk-1010d2fa-4736-4524-a1e3-f373cc7d9bc6 label.sk-toggleable__label {cursor: pointer;display: block;width: 100%;margin-bottom: 0;padding: 0.3em;box-sizing: border-box;text-align: center;}#sk-1010d2fa-4736-4524-a1e3-f373cc7d9bc6 label.sk-toggleable__label-arrow:before {content: \"▸\";float: left;margin-right: 0.25em;color: #696969;}#sk-1010d2fa-4736-4524-a1e3-f373cc7d9bc6 label.sk-toggleable__label-arrow:hover:before {color: black;}#sk-1010d2fa-4736-4524-a1e3-f373cc7d9bc6 div.sk-estimator:hover label.sk-toggleable__label-arrow:before {color: black;}#sk-1010d2fa-4736-4524-a1e3-f373cc7d9bc6 div.sk-toggleable__content {max-height: 0;max-width: 0;overflow: hidden;text-align: left;background-color: #f0f8ff;}#sk-1010d2fa-4736-4524-a1e3-f373cc7d9bc6 div.sk-toggleable__content pre {margin: 0.2em;color: black;border-radius: 0.25em;background-color: #f0f8ff;}#sk-1010d2fa-4736-4524-a1e3-f373cc7d9bc6 input.sk-toggleable__control:checked~div.sk-toggleable__content {max-height: 200px;max-width: 100%;overflow: auto;}#sk-1010d2fa-4736-4524-a1e3-f373cc7d9bc6 input.sk-toggleable__control:checked~label.sk-toggleable__label-arrow:before {content: \"▾\";}#sk-1010d2fa-4736-4524-a1e3-f373cc7d9bc6 div.sk-estimator input.sk-toggleable__control:checked~label.sk-toggleable__label {background-color: #d4ebff;}#sk-1010d2fa-4736-4524-a1e3-f373cc7d9bc6 div.sk-label input.sk-toggleable__control:checked~label.sk-toggleable__label {background-color: #d4ebff;}#sk-1010d2fa-4736-4524-a1e3-f373cc7d9bc6 input.sk-hidden--visually {border: 0;clip: rect(1px 1px 1px 1px);clip: rect(1px, 1px, 1px, 1px);height: 1px;margin: -1px;overflow: hidden;padding: 0;position: absolute;width: 1px;}#sk-1010d2fa-4736-4524-a1e3-f373cc7d9bc6 div.sk-estimator {font-family: monospace;background-color: #f0f8ff;border: 1px dotted black;border-radius: 0.25em;box-sizing: border-box;margin-bottom: 0.5em;}#sk-1010d2fa-4736-4524-a1e3-f373cc7d9bc6 div.sk-estimator:hover {background-color: #d4ebff;}#sk-1010d2fa-4736-4524-a1e3-f373cc7d9bc6 div.sk-parallel-item::after {content: \"\";width: 100%;border-bottom: 1px solid gray;flex-grow: 1;}#sk-1010d2fa-4736-4524-a1e3-f373cc7d9bc6 div.sk-label:hover label.sk-toggleable__label {background-color: #d4ebff;}#sk-1010d2fa-4736-4524-a1e3-f373cc7d9bc6 div.sk-serial::before {content: \"\";position: absolute;border-left: 1px solid gray;box-sizing: border-box;top: 2em;bottom: 0;left: 50%;}#sk-1010d2fa-4736-4524-a1e3-f373cc7d9bc6 div.sk-serial {display: flex;flex-direction: column;align-items: center;background-color: white;padding-right: 0.2em;padding-left: 0.2em;}#sk-1010d2fa-4736-4524-a1e3-f373cc7d9bc6 div.sk-item {z-index: 1;}#sk-1010d2fa-4736-4524-a1e3-f373cc7d9bc6 div.sk-parallel {display: flex;align-items: stretch;justify-content: center;background-color: white;}#sk-1010d2fa-4736-4524-a1e3-f373cc7d9bc6 div.sk-parallel::before {content: \"\";position: absolute;border-left: 1px solid gray;box-sizing: border-box;top: 2em;bottom: 0;left: 50%;}#sk-1010d2fa-4736-4524-a1e3-f373cc7d9bc6 div.sk-parallel-item {display: flex;flex-direction: column;position: relative;background-color: white;}#sk-1010d2fa-4736-4524-a1e3-f373cc7d9bc6 div.sk-parallel-item:first-child::after {align-self: flex-end;width: 50%;}#sk-1010d2fa-4736-4524-a1e3-f373cc7d9bc6 div.sk-parallel-item:last-child::after {align-self: flex-start;width: 50%;}#sk-1010d2fa-4736-4524-a1e3-f373cc7d9bc6 div.sk-parallel-item:only-child::after {width: 0;}#sk-1010d2fa-4736-4524-a1e3-f373cc7d9bc6 div.sk-dashed-wrapped {border: 1px dashed gray;margin: 0 0.4em 0.5em 0.4em;box-sizing: border-box;padding-bottom: 0.4em;background-color: white;position: relative;}#sk-1010d2fa-4736-4524-a1e3-f373cc7d9bc6 div.sk-label label {font-family: monospace;font-weight: bold;background-color: white;display: inline-block;line-height: 1.2em;}#sk-1010d2fa-4736-4524-a1e3-f373cc7d9bc6 div.sk-label-container {position: relative;z-index: 2;text-align: center;}#sk-1010d2fa-4736-4524-a1e3-f373cc7d9bc6 div.sk-container {/* jupyter's `normalize.less` sets `[hidden] { display: none; }` but bootstrap.min.css set `[hidden] { display: none !important; }` so we also need the `!important` here to be able to override the default hidden behavior on the sphinx rendered scikit-learn.org. See: https://github.com/scikit-learn/scikit-learn/issues/21755 */display: inline-block !important;position: relative;}#sk-1010d2fa-4736-4524-a1e3-f373cc7d9bc6 div.sk-text-repr-fallback {display: none;}</style><div id=\"sk-1010d2fa-4736-4524-a1e3-f373cc7d9bc6\" class=\"sk-top-container\"><div class=\"sk-text-repr-fallback\"><pre>Pipeline(steps=[(&#x27;columntransformer&#x27;,\n",
              "                 ColumnTransformer(transformers=[(&#x27;num&#x27;,\n",
              "                                                  Pipeline(steps=[(&#x27;standardscaler&#x27;,\n",
              "                                                                   StandardScaler())]),\n",
              "                                                  [&#x27;CRIM&#x27;, &#x27;INDUS&#x27;, &#x27;NOX&#x27;,\n",
              "                                                   &#x27;AGE&#x27;, &#x27;DIS&#x27;, &#x27;TAX&#x27;,\n",
              "                                                   &#x27;PTRATIO&#x27;, &#x27;B&#x27;, &#x27;LSTAT&#x27;,\n",
              "                                                   &#x27;RM&#x27;, &#x27;ZN&#x27;]),\n",
              "                                                 (&#x27;cat&#x27;,\n",
              "                                                  Pipeline(steps=[(&#x27;onehotencoder&#x27;,\n",
              "                                                                   OneHotEncoder())]),\n",
              "                                                  [&#x27;CHAS&#x27;, &#x27;RAD&#x27;])])),\n",
              "                (&#x27;randomforestregressor&#x27;,\n",
              "                 RandomForestRegressor(random_state=42))])</pre><b>Please rerun this cell to show the HTML repr or trust the notebook.</b></div><div class=\"sk-container\" hidden><div class=\"sk-item sk-dashed-wrapped\"><div class=\"sk-label-container\"><div class=\"sk-label sk-toggleable\"><input class=\"sk-toggleable__control sk-hidden--visually\" id=\"4df032c3-8ecf-463b-bbf1-129562c67191\" type=\"checkbox\" ><label for=\"4df032c3-8ecf-463b-bbf1-129562c67191\" class=\"sk-toggleable__label sk-toggleable__label-arrow\">Pipeline</label><div class=\"sk-toggleable__content\"><pre>Pipeline(steps=[(&#x27;columntransformer&#x27;,\n",
              "                 ColumnTransformer(transformers=[(&#x27;num&#x27;,\n",
              "                                                  Pipeline(steps=[(&#x27;standardscaler&#x27;,\n",
              "                                                                   StandardScaler())]),\n",
              "                                                  [&#x27;CRIM&#x27;, &#x27;INDUS&#x27;, &#x27;NOX&#x27;,\n",
              "                                                   &#x27;AGE&#x27;, &#x27;DIS&#x27;, &#x27;TAX&#x27;,\n",
              "                                                   &#x27;PTRATIO&#x27;, &#x27;B&#x27;, &#x27;LSTAT&#x27;,\n",
              "                                                   &#x27;RM&#x27;, &#x27;ZN&#x27;]),\n",
              "                                                 (&#x27;cat&#x27;,\n",
              "                                                  Pipeline(steps=[(&#x27;onehotencoder&#x27;,\n",
              "                                                                   OneHotEncoder())]),\n",
              "                                                  [&#x27;CHAS&#x27;, &#x27;RAD&#x27;])])),\n",
              "                (&#x27;randomforestregressor&#x27;,\n",
              "                 RandomForestRegressor(random_state=42))])</pre></div></div></div><div class=\"sk-serial\"><div class=\"sk-item sk-dashed-wrapped\"><div class=\"sk-label-container\"><div class=\"sk-label sk-toggleable\"><input class=\"sk-toggleable__control sk-hidden--visually\" id=\"bee76a67-7163-40f4-94d4-9785ca1f58f7\" type=\"checkbox\" ><label for=\"bee76a67-7163-40f4-94d4-9785ca1f58f7\" class=\"sk-toggleable__label sk-toggleable__label-arrow\">columntransformer: ColumnTransformer</label><div class=\"sk-toggleable__content\"><pre>ColumnTransformer(transformers=[(&#x27;num&#x27;,\n",
              "                                 Pipeline(steps=[(&#x27;standardscaler&#x27;,\n",
              "                                                  StandardScaler())]),\n",
              "                                 [&#x27;CRIM&#x27;, &#x27;INDUS&#x27;, &#x27;NOX&#x27;, &#x27;AGE&#x27;, &#x27;DIS&#x27;, &#x27;TAX&#x27;,\n",
              "                                  &#x27;PTRATIO&#x27;, &#x27;B&#x27;, &#x27;LSTAT&#x27;, &#x27;RM&#x27;, &#x27;ZN&#x27;]),\n",
              "                                (&#x27;cat&#x27;,\n",
              "                                 Pipeline(steps=[(&#x27;onehotencoder&#x27;,\n",
              "                                                  OneHotEncoder())]),\n",
              "                                 [&#x27;CHAS&#x27;, &#x27;RAD&#x27;])])</pre></div></div></div><div class=\"sk-parallel\"><div class=\"sk-parallel-item\"><div class=\"sk-item\"><div class=\"sk-label-container\"><div class=\"sk-label sk-toggleable\"><input class=\"sk-toggleable__control sk-hidden--visually\" id=\"4343c969-6854-4fb6-a34b-f9d9b385829c\" type=\"checkbox\" ><label for=\"4343c969-6854-4fb6-a34b-f9d9b385829c\" class=\"sk-toggleable__label sk-toggleable__label-arrow\">num</label><div class=\"sk-toggleable__content\"><pre>[&#x27;CRIM&#x27;, &#x27;INDUS&#x27;, &#x27;NOX&#x27;, &#x27;AGE&#x27;, &#x27;DIS&#x27;, &#x27;TAX&#x27;, &#x27;PTRATIO&#x27;, &#x27;B&#x27;, &#x27;LSTAT&#x27;, &#x27;RM&#x27;, &#x27;ZN&#x27;]</pre></div></div></div><div class=\"sk-serial\"><div class=\"sk-item\"><div class=\"sk-serial\"><div class=\"sk-item\"><div class=\"sk-estimator sk-toggleable\"><input class=\"sk-toggleable__control sk-hidden--visually\" id=\"42a0eb00-9e63-4479-86c5-b014d0d139b4\" type=\"checkbox\" ><label for=\"42a0eb00-9e63-4479-86c5-b014d0d139b4\" class=\"sk-toggleable__label sk-toggleable__label-arrow\">StandardScaler</label><div class=\"sk-toggleable__content\"><pre>StandardScaler()</pre></div></div></div></div></div></div></div></div><div class=\"sk-parallel-item\"><div class=\"sk-item\"><div class=\"sk-label-container\"><div class=\"sk-label sk-toggleable\"><input class=\"sk-toggleable__control sk-hidden--visually\" id=\"d3b4b65c-0259-4854-9a35-c108c4d821f5\" type=\"checkbox\" ><label for=\"d3b4b65c-0259-4854-9a35-c108c4d821f5\" class=\"sk-toggleable__label sk-toggleable__label-arrow\">cat</label><div class=\"sk-toggleable__content\"><pre>[&#x27;CHAS&#x27;, &#x27;RAD&#x27;]</pre></div></div></div><div class=\"sk-serial\"><div class=\"sk-item\"><div class=\"sk-serial\"><div class=\"sk-item\"><div class=\"sk-estimator sk-toggleable\"><input class=\"sk-toggleable__control sk-hidden--visually\" id=\"bde10ef2-54cb-4bbf-a1fa-be5c50454094\" type=\"checkbox\" ><label for=\"bde10ef2-54cb-4bbf-a1fa-be5c50454094\" class=\"sk-toggleable__label sk-toggleable__label-arrow\">OneHotEncoder</label><div class=\"sk-toggleable__content\"><pre>OneHotEncoder()</pre></div></div></div></div></div></div></div></div></div></div><div class=\"sk-item\"><div class=\"sk-estimator sk-toggleable\"><input class=\"sk-toggleable__control sk-hidden--visually\" id=\"5cc9f815-526b-4de0-bc7a-9907ff82cffc\" type=\"checkbox\" ><label for=\"5cc9f815-526b-4de0-bc7a-9907ff82cffc\" class=\"sk-toggleable__label sk-toggleable__label-arrow\">RandomForestRegressor</label><div class=\"sk-toggleable__content\"><pre>RandomForestRegressor(random_state=42)</pre></div></div></div></div></div></div></div>"
            ]
          },
          "metadata": {},
          "execution_count": 51
        }
      ]
    },
    {
      "cell_type": "code",
      "source": [
        "# predict on the test data\n",
        "boston_predictions_rf = rf.predict(boston_data)\n",
        "\n",
        "# calculate the root mean squared error\n",
        "rmse_rf = mean_squared_error(boston_target, boston_predictions_rf, squared=False)\n",
        "print(f'RMSE of Random Forest Regressor: {rmse_rf.round(2)}')"
      ],
      "metadata": {
        "colab": {
          "base_uri": "https://localhost:8080/"
        },
        "id": "YoZCJCY1ESZ7",
        "outputId": "20abc972-a571-47cb-8520-f8fd31e0e9cc"
      },
      "execution_count": null,
      "outputs": [
        {
          "output_type": "stream",
          "name": "stdout",
          "text": [
            "RMSE of Random Forest Regressor: 1.32\n"
          ]
        }
      ]
    },
    {
      "cell_type": "code",
      "source": [
        "rf_rmses = -cross_val_score(\n",
        "    rf,\n",
        "    boston_data, \n",
        "    boston_target, \n",
        "    scoring='neg_root_mean_squared_error', \n",
        "    cv = 10\n",
        ")\n",
        "\n",
        "pd.Series(rf_rmses).describe()"
      ],
      "metadata": {
        "colab": {
          "base_uri": "https://localhost:8080/"
        },
        "id": "nGpdx2L3GnOB",
        "outputId": "6cb6e273-96bb-42b9-9bdc-083fc6218509"
      },
      "execution_count": null,
      "outputs": [
        {
          "output_type": "execute_result",
          "data": {
            "text/plain": [
              "count    10.000000\n",
              "mean      3.293776\n",
              "std       1.168087\n",
              "min       2.355095\n",
              "25%       2.440356\n",
              "50%       2.704325\n",
              "75%       3.633785\n",
              "max       5.455518\n",
              "dtype: float64"
            ]
          },
          "metadata": {},
          "execution_count": 439
        }
      ]
    },
    {
      "cell_type": "markdown",
      "source": [
        "Both GBR and RFR offer similar results when we look at cross validated scores.\n",
        "\n",
        "Likewise, the standard deviation in predictions is also head-to-head.\n",
        "\n",
        "Let's look whether this can change at the Fine-Tuning stage."
      ],
      "metadata": {
        "id": "g42aR1zFHEjc"
      }
    },
    {
      "cell_type": "markdown",
      "source": [
        "### Short List Promising Models\n",
        "\n",
        "- Gradient Boosting Regressor\n",
        "- Random Forest Regression"
      ],
      "metadata": {
        "id": "ySZ-Cx7-ElMx"
      }
    },
    {
      "cell_type": "markdown",
      "source": [
        "### Fine-Tune the System"
      ],
      "metadata": {
        "id": "EvvtYe0AE0ab"
      }
    },
    {
      "cell_type": "markdown",
      "source": [
        "#### Tuning Hyperparameters"
      ],
      "metadata": {
        "id": "ZLfc4mQSoxNa"
      }
    },
    {
      "cell_type": "code",
      "source": [
        "gbr.get_params().keys()"
      ],
      "metadata": {
        "colab": {
          "base_uri": "https://localhost:8080/"
        },
        "id": "6qNZPBCy6S9p",
        "outputId": "ffb9856d-306b-42ab-bcfb-65a39dc40c18"
      },
      "execution_count": null,
      "outputs": [
        {
          "output_type": "execute_result",
          "data": {
            "text/plain": [
              "dict_keys(['memory', 'steps', 'verbose', 'columntransformer', 'gradientboostingregressor', 'columntransformer__n_jobs', 'columntransformer__remainder', 'columntransformer__sparse_threshold', 'columntransformer__transformer_weights', 'columntransformer__transformers', 'columntransformer__verbose', 'columntransformer__verbose_feature_names_out', 'columntransformer__num_qt_scaled', 'columntransformer__num_scaled', 'columntransformer__num_polynomial', 'columntransformer__cat_1hot', 'columntransformer__zn_cat', 'columntransformer__zn_num', 'columntransformer__num_qt_scaled__memory', 'columntransformer__num_qt_scaled__steps', 'columntransformer__num_qt_scaled__verbose', 'columntransformer__num_qt_scaled__quantiletransformer', 'columntransformer__num_qt_scaled__standardscaler', 'columntransformer__num_qt_scaled__quantiletransformer__copy', 'columntransformer__num_qt_scaled__quantiletransformer__ignore_implicit_zeros', 'columntransformer__num_qt_scaled__quantiletransformer__n_quantiles', 'columntransformer__num_qt_scaled__quantiletransformer__output_distribution', 'columntransformer__num_qt_scaled__quantiletransformer__random_state', 'columntransformer__num_qt_scaled__quantiletransformer__subsample', 'columntransformer__num_qt_scaled__standardscaler__copy', 'columntransformer__num_qt_scaled__standardscaler__with_mean', 'columntransformer__num_qt_scaled__standardscaler__with_std', 'columntransformer__num_scaled__copy', 'columntransformer__num_scaled__with_mean', 'columntransformer__num_scaled__with_std', 'columntransformer__num_polynomial__degree', 'columntransformer__num_polynomial__include_bias', 'columntransformer__num_polynomial__interaction_only', 'columntransformer__num_polynomial__order', 'columntransformer__cat_1hot__categories', 'columntransformer__cat_1hot__drop', 'columntransformer__cat_1hot__dtype', 'columntransformer__cat_1hot__handle_unknown', 'columntransformer__cat_1hot__sparse', 'columntransformer__zn_cat__memory', 'columntransformer__zn_cat__steps', 'columntransformer__zn_cat__verbose', 'columntransformer__zn_cat__zntransformer', 'columntransformer__zn_cat__onehotencoder', 'columntransformer__zn_cat__zntransformer__col_type', 'columntransformer__zn_cat__onehotencoder__categories', 'columntransformer__zn_cat__onehotencoder__drop', 'columntransformer__zn_cat__onehotencoder__dtype', 'columntransformer__zn_cat__onehotencoder__handle_unknown', 'columntransformer__zn_cat__onehotencoder__sparse', 'columntransformer__zn_num__memory', 'columntransformer__zn_num__steps', 'columntransformer__zn_num__verbose', 'columntransformer__zn_num__zntransformer', 'columntransformer__zn_num__simpleimputer', 'columntransformer__zn_num__quantiletransformer', 'columntransformer__zn_num__zntransformer__col_type', 'columntransformer__zn_num__simpleimputer__add_indicator', 'columntransformer__zn_num__simpleimputer__copy', 'columntransformer__zn_num__simpleimputer__fill_value', 'columntransformer__zn_num__simpleimputer__missing_values', 'columntransformer__zn_num__simpleimputer__strategy', 'columntransformer__zn_num__simpleimputer__verbose', 'columntransformer__zn_num__quantiletransformer__copy', 'columntransformer__zn_num__quantiletransformer__ignore_implicit_zeros', 'columntransformer__zn_num__quantiletransformer__n_quantiles', 'columntransformer__zn_num__quantiletransformer__output_distribution', 'columntransformer__zn_num__quantiletransformer__random_state', 'columntransformer__zn_num__quantiletransformer__subsample', 'gradientboostingregressor__alpha', 'gradientboostingregressor__ccp_alpha', 'gradientboostingregressor__criterion', 'gradientboostingregressor__init', 'gradientboostingregressor__learning_rate', 'gradientboostingregressor__loss', 'gradientboostingregressor__max_depth', 'gradientboostingregressor__max_features', 'gradientboostingregressor__max_leaf_nodes', 'gradientboostingregressor__min_impurity_decrease', 'gradientboostingregressor__min_samples_leaf', 'gradientboostingregressor__min_samples_split', 'gradientboostingregressor__min_weight_fraction_leaf', 'gradientboostingregressor__n_estimators', 'gradientboostingregressor__n_iter_no_change', 'gradientboostingregressor__random_state', 'gradientboostingregressor__subsample', 'gradientboostingregressor__tol', 'gradientboostingregressor__validation_fraction', 'gradientboostingregressor__verbose', 'gradientboostingregressor__warm_start'])"
            ]
          },
          "metadata": {},
          "execution_count": 146
        }
      ]
    },
    {
      "cell_type": "markdown",
      "source": [
        "#### Using GridSearchCV"
      ],
      "metadata": {
        "id": "ZKgwvn2Wo1sZ"
      }
    },
    {
      "cell_type": "code",
      "source": [
        "from sklearn.model_selection import GridSearchCV\n",
        "from sklearn.pipeline import Pipeline\n",
        "\n",
        "full_pipeline = Pipeline([\n",
        "    ('preprocessing', detailed_preprocessing),\n",
        "    ('gbr', GradientBoostingRegressor(random_state=42, n_estimators=100))\n",
        "])\n",
        "\n",
        "param_grid = [\n",
        "    {'preprocessing__num_qt_scaled__quantiletransformer__n_quantiles':[5,15,50,100],\n",
        "     'preprocessing__num_polynomial__degree':[2,3,4,5],\n",
        "     'gbr__n_estimators': [100,150,200,250]}\n",
        "]\n",
        "\n",
        "grid_search = GridSearchCV(full_pipeline, param_grid, cv=3, \n",
        "                           scoring='neg_root_mean_squared_error')\n",
        "\n",
        "grid_search.fit(boston_data, boston_target)"
      ],
      "metadata": {
        "colab": {
          "base_uri": "https://localhost:8080/",
          "height": 263
        },
        "id": "6ojzZFcgHwDI",
        "outputId": "61c35423-d080-4c2d-e09c-a153eec4985d"
      },
      "execution_count": null,
      "outputs": [
        {
          "output_type": "execute_result",
          "data": {
            "text/plain": [
              "GridSearchCV(cv=3,\n",
              "             estimator=Pipeline(steps=[('preprocessing',\n",
              "                                        ColumnTransformer(transformers=[('num_qt_scaled',\n",
              "                                                                         Pipeline(steps=[('quantiletransformer',\n",
              "                                                                                          QuantileTransformer(n_quantiles=10,\n",
              "                                                                                                              output_distribution='normal',\n",
              "                                                                                                              random_state=42)),\n",
              "                                                                                         ('standardscaler',\n",
              "                                                                                          StandardScaler())]),\n",
              "                                                                         ['INDUS',\n",
              "                                                                          'NOX',\n",
              "                                                                          'AGE',\n",
              "                                                                          'DIS',\n",
              "                                                                          'TAX',\n",
              "                                                                          'PTRATIO',\n",
              "                                                                          'LSTAT']),\n",
              "                                                                        ('num_scaled',\n",
              "                                                                         StandardScaler...\n",
              "                                                                                          QuantileTransformer(n_quantiles=5,\n",
              "                                                                                                              output_distribution='normal',\n",
              "                                                                                                              random_state=42))]),\n",
              "                                                                         ['ZN'])])),\n",
              "                                       ('gbr',\n",
              "                                        GradientBoostingRegressor(random_state=42))]),\n",
              "             param_grid=[{'gbr__n_estimators': [100, 150, 200, 250],\n",
              "                          'preprocessing__num_polynomial__degree': [2, 3, 4, 5],\n",
              "                          'preprocessing__num_qt_scaled__quantiletransformer__n_quantiles': [5,\n",
              "                                                                                             15,\n",
              "                                                                                             50,\n",
              "                                                                                             100]}],\n",
              "             scoring='neg_root_mean_squared_error')"
            ],
            "text/html": [
              "<style>#sk-f465c7c0-58bc-46a2-b5be-b4a3eb929d2e {color: black;background-color: white;}#sk-f465c7c0-58bc-46a2-b5be-b4a3eb929d2e pre{padding: 0;}#sk-f465c7c0-58bc-46a2-b5be-b4a3eb929d2e div.sk-toggleable {background-color: white;}#sk-f465c7c0-58bc-46a2-b5be-b4a3eb929d2e label.sk-toggleable__label {cursor: pointer;display: block;width: 100%;margin-bottom: 0;padding: 0.3em;box-sizing: border-box;text-align: center;}#sk-f465c7c0-58bc-46a2-b5be-b4a3eb929d2e label.sk-toggleable__label-arrow:before {content: \"▸\";float: left;margin-right: 0.25em;color: #696969;}#sk-f465c7c0-58bc-46a2-b5be-b4a3eb929d2e label.sk-toggleable__label-arrow:hover:before {color: black;}#sk-f465c7c0-58bc-46a2-b5be-b4a3eb929d2e div.sk-estimator:hover label.sk-toggleable__label-arrow:before {color: black;}#sk-f465c7c0-58bc-46a2-b5be-b4a3eb929d2e div.sk-toggleable__content {max-height: 0;max-width: 0;overflow: hidden;text-align: left;background-color: #f0f8ff;}#sk-f465c7c0-58bc-46a2-b5be-b4a3eb929d2e div.sk-toggleable__content pre {margin: 0.2em;color: black;border-radius: 0.25em;background-color: #f0f8ff;}#sk-f465c7c0-58bc-46a2-b5be-b4a3eb929d2e input.sk-toggleable__control:checked~div.sk-toggleable__content {max-height: 200px;max-width: 100%;overflow: auto;}#sk-f465c7c0-58bc-46a2-b5be-b4a3eb929d2e input.sk-toggleable__control:checked~label.sk-toggleable__label-arrow:before {content: \"▾\";}#sk-f465c7c0-58bc-46a2-b5be-b4a3eb929d2e div.sk-estimator input.sk-toggleable__control:checked~label.sk-toggleable__label {background-color: #d4ebff;}#sk-f465c7c0-58bc-46a2-b5be-b4a3eb929d2e div.sk-label input.sk-toggleable__control:checked~label.sk-toggleable__label {background-color: #d4ebff;}#sk-f465c7c0-58bc-46a2-b5be-b4a3eb929d2e input.sk-hidden--visually {border: 0;clip: rect(1px 1px 1px 1px);clip: rect(1px, 1px, 1px, 1px);height: 1px;margin: -1px;overflow: hidden;padding: 0;position: absolute;width: 1px;}#sk-f465c7c0-58bc-46a2-b5be-b4a3eb929d2e div.sk-estimator {font-family: monospace;background-color: #f0f8ff;border: 1px dotted black;border-radius: 0.25em;box-sizing: border-box;margin-bottom: 0.5em;}#sk-f465c7c0-58bc-46a2-b5be-b4a3eb929d2e div.sk-estimator:hover {background-color: #d4ebff;}#sk-f465c7c0-58bc-46a2-b5be-b4a3eb929d2e div.sk-parallel-item::after {content: \"\";width: 100%;border-bottom: 1px solid gray;flex-grow: 1;}#sk-f465c7c0-58bc-46a2-b5be-b4a3eb929d2e div.sk-label:hover label.sk-toggleable__label {background-color: #d4ebff;}#sk-f465c7c0-58bc-46a2-b5be-b4a3eb929d2e div.sk-serial::before {content: \"\";position: absolute;border-left: 1px solid gray;box-sizing: border-box;top: 2em;bottom: 0;left: 50%;}#sk-f465c7c0-58bc-46a2-b5be-b4a3eb929d2e div.sk-serial {display: flex;flex-direction: column;align-items: center;background-color: white;padding-right: 0.2em;padding-left: 0.2em;}#sk-f465c7c0-58bc-46a2-b5be-b4a3eb929d2e div.sk-item {z-index: 1;}#sk-f465c7c0-58bc-46a2-b5be-b4a3eb929d2e div.sk-parallel {display: flex;align-items: stretch;justify-content: center;background-color: white;}#sk-f465c7c0-58bc-46a2-b5be-b4a3eb929d2e div.sk-parallel::before {content: \"\";position: absolute;border-left: 1px solid gray;box-sizing: border-box;top: 2em;bottom: 0;left: 50%;}#sk-f465c7c0-58bc-46a2-b5be-b4a3eb929d2e div.sk-parallel-item {display: flex;flex-direction: column;position: relative;background-color: white;}#sk-f465c7c0-58bc-46a2-b5be-b4a3eb929d2e div.sk-parallel-item:first-child::after {align-self: flex-end;width: 50%;}#sk-f465c7c0-58bc-46a2-b5be-b4a3eb929d2e div.sk-parallel-item:last-child::after {align-self: flex-start;width: 50%;}#sk-f465c7c0-58bc-46a2-b5be-b4a3eb929d2e div.sk-parallel-item:only-child::after {width: 0;}#sk-f465c7c0-58bc-46a2-b5be-b4a3eb929d2e div.sk-dashed-wrapped {border: 1px dashed gray;margin: 0 0.4em 0.5em 0.4em;box-sizing: border-box;padding-bottom: 0.4em;background-color: white;position: relative;}#sk-f465c7c0-58bc-46a2-b5be-b4a3eb929d2e div.sk-label label {font-family: monospace;font-weight: bold;background-color: white;display: inline-block;line-height: 1.2em;}#sk-f465c7c0-58bc-46a2-b5be-b4a3eb929d2e div.sk-label-container {position: relative;z-index: 2;text-align: center;}#sk-f465c7c0-58bc-46a2-b5be-b4a3eb929d2e div.sk-container {/* jupyter's `normalize.less` sets `[hidden] { display: none; }` but bootstrap.min.css set `[hidden] { display: none !important; }` so we also need the `!important` here to be able to override the default hidden behavior on the sphinx rendered scikit-learn.org. See: https://github.com/scikit-learn/scikit-learn/issues/21755 */display: inline-block !important;position: relative;}#sk-f465c7c0-58bc-46a2-b5be-b4a3eb929d2e div.sk-text-repr-fallback {display: none;}</style><div id=\"sk-f465c7c0-58bc-46a2-b5be-b4a3eb929d2e\" class=\"sk-top-container\"><div class=\"sk-text-repr-fallback\"><pre>GridSearchCV(cv=3,\n",
              "             estimator=Pipeline(steps=[(&#x27;preprocessing&#x27;,\n",
              "                                        ColumnTransformer(transformers=[(&#x27;num_qt_scaled&#x27;,\n",
              "                                                                         Pipeline(steps=[(&#x27;quantiletransformer&#x27;,\n",
              "                                                                                          QuantileTransformer(n_quantiles=10,\n",
              "                                                                                                              output_distribution=&#x27;normal&#x27;,\n",
              "                                                                                                              random_state=42)),\n",
              "                                                                                         (&#x27;standardscaler&#x27;,\n",
              "                                                                                          StandardScaler())]),\n",
              "                                                                         [&#x27;INDUS&#x27;,\n",
              "                                                                          &#x27;NOX&#x27;,\n",
              "                                                                          &#x27;AGE&#x27;,\n",
              "                                                                          &#x27;DIS&#x27;,\n",
              "                                                                          &#x27;TAX&#x27;,\n",
              "                                                                          &#x27;PTRATIO&#x27;,\n",
              "                                                                          &#x27;LSTAT&#x27;]),\n",
              "                                                                        (&#x27;num_scaled&#x27;,\n",
              "                                                                         StandardScaler...\n",
              "                                                                                          QuantileTransformer(n_quantiles=5,\n",
              "                                                                                                              output_distribution=&#x27;normal&#x27;,\n",
              "                                                                                                              random_state=42))]),\n",
              "                                                                         [&#x27;ZN&#x27;])])),\n",
              "                                       (&#x27;gbr&#x27;,\n",
              "                                        GradientBoostingRegressor(random_state=42))]),\n",
              "             param_grid=[{&#x27;gbr__n_estimators&#x27;: [100, 150, 200, 250],\n",
              "                          &#x27;preprocessing__num_polynomial__degree&#x27;: [2, 3, 4, 5],\n",
              "                          &#x27;preprocessing__num_qt_scaled__quantiletransformer__n_quantiles&#x27;: [5,\n",
              "                                                                                             15,\n",
              "                                                                                             50,\n",
              "                                                                                             100]}],\n",
              "             scoring=&#x27;neg_root_mean_squared_error&#x27;)</pre><b>Please rerun this cell to show the HTML repr or trust the notebook.</b></div><div class=\"sk-container\" hidden><div class=\"sk-item sk-dashed-wrapped\"><div class=\"sk-label-container\"><div class=\"sk-label sk-toggleable\"><input class=\"sk-toggleable__control sk-hidden--visually\" id=\"e4037bd0-8149-4e7c-9cb7-83c4026e6479\" type=\"checkbox\" ><label for=\"e4037bd0-8149-4e7c-9cb7-83c4026e6479\" class=\"sk-toggleable__label sk-toggleable__label-arrow\">GridSearchCV</label><div class=\"sk-toggleable__content\"><pre>GridSearchCV(cv=3,\n",
              "             estimator=Pipeline(steps=[(&#x27;preprocessing&#x27;,\n",
              "                                        ColumnTransformer(transformers=[(&#x27;num_qt_scaled&#x27;,\n",
              "                                                                         Pipeline(steps=[(&#x27;quantiletransformer&#x27;,\n",
              "                                                                                          QuantileTransformer(n_quantiles=10,\n",
              "                                                                                                              output_distribution=&#x27;normal&#x27;,\n",
              "                                                                                                              random_state=42)),\n",
              "                                                                                         (&#x27;standardscaler&#x27;,\n",
              "                                                                                          StandardScaler())]),\n",
              "                                                                         [&#x27;INDUS&#x27;,\n",
              "                                                                          &#x27;NOX&#x27;,\n",
              "                                                                          &#x27;AGE&#x27;,\n",
              "                                                                          &#x27;DIS&#x27;,\n",
              "                                                                          &#x27;TAX&#x27;,\n",
              "                                                                          &#x27;PTRATIO&#x27;,\n",
              "                                                                          &#x27;LSTAT&#x27;]),\n",
              "                                                                        (&#x27;num_scaled&#x27;,\n",
              "                                                                         StandardScaler...\n",
              "                                                                                          QuantileTransformer(n_quantiles=5,\n",
              "                                                                                                              output_distribution=&#x27;normal&#x27;,\n",
              "                                                                                                              random_state=42))]),\n",
              "                                                                         [&#x27;ZN&#x27;])])),\n",
              "                                       (&#x27;gbr&#x27;,\n",
              "                                        GradientBoostingRegressor(random_state=42))]),\n",
              "             param_grid=[{&#x27;gbr__n_estimators&#x27;: [100, 150, 200, 250],\n",
              "                          &#x27;preprocessing__num_polynomial__degree&#x27;: [2, 3, 4, 5],\n",
              "                          &#x27;preprocessing__num_qt_scaled__quantiletransformer__n_quantiles&#x27;: [5,\n",
              "                                                                                             15,\n",
              "                                                                                             50,\n",
              "                                                                                             100]}],\n",
              "             scoring=&#x27;neg_root_mean_squared_error&#x27;)</pre></div></div></div><div class=\"sk-parallel\"><div class=\"sk-parallel-item\"><div class=\"sk-item\"><div class=\"sk-serial\"><div class=\"sk-item\"><div class=\"sk-serial\"><div class=\"sk-item sk-dashed-wrapped\"><div class=\"sk-label-container\"><div class=\"sk-label sk-toggleable\"><input class=\"sk-toggleable__control sk-hidden--visually\" id=\"fb0d279d-02f2-4a4f-bf47-7180e3ded812\" type=\"checkbox\" ><label for=\"fb0d279d-02f2-4a4f-bf47-7180e3ded812\" class=\"sk-toggleable__label sk-toggleable__label-arrow\">preprocessing: ColumnTransformer</label><div class=\"sk-toggleable__content\"><pre>ColumnTransformer(transformers=[(&#x27;num_qt_scaled&#x27;,\n",
              "                                 Pipeline(steps=[(&#x27;quantiletransformer&#x27;,\n",
              "                                                  QuantileTransformer(n_quantiles=10,\n",
              "                                                                      output_distribution=&#x27;normal&#x27;,\n",
              "                                                                      random_state=42)),\n",
              "                                                 (&#x27;standardscaler&#x27;,\n",
              "                                                  StandardScaler())]),\n",
              "                                 [&#x27;INDUS&#x27;, &#x27;NOX&#x27;, &#x27;AGE&#x27;, &#x27;DIS&#x27;, &#x27;TAX&#x27;,\n",
              "                                  &#x27;PTRATIO&#x27;, &#x27;LSTAT&#x27;]),\n",
              "                                (&#x27;num_scaled&#x27;, StandardScaler(), [&#x27;RM&#x27;]),\n",
              "                                (&#x27;num_polynomial&#x27;, PolynomialFeatures(),\n",
              "                                 [&#x27;CRIM&#x27;, &#x27;B&#x27;]),\n",
              "                                (&#x27;cat_1hot&#x27;, OneHotEncoder(), [&#x27;CHAS&#x27;, &#x27;RAD&#x27;]),\n",
              "                                (&#x27;zn_cat&#x27;,\n",
              "                                 Pipeline(steps=[(&#x27;zntransformer&#x27;,\n",
              "                                                  ZNTransformer(col_type=&#x27;cat&#x27;)),\n",
              "                                                 (&#x27;onehotencoder&#x27;,\n",
              "                                                  OneHotEncoder())]),\n",
              "                                 [&#x27;ZN&#x27;]),\n",
              "                                (&#x27;zn_num&#x27;,\n",
              "                                 Pipeline(steps=[(&#x27;zntransformer&#x27;,\n",
              "                                                  ZNTransformer()),\n",
              "                                                 (&#x27;simpleimputer&#x27;,\n",
              "                                                  SimpleImputer()),\n",
              "                                                 (&#x27;quantiletransformer&#x27;,\n",
              "                                                  QuantileTransformer(n_quantiles=5,\n",
              "                                                                      output_distribution=&#x27;normal&#x27;,\n",
              "                                                                      random_state=42))]),\n",
              "                                 [&#x27;ZN&#x27;])])</pre></div></div></div><div class=\"sk-parallel\"><div class=\"sk-parallel-item\"><div class=\"sk-item\"><div class=\"sk-label-container\"><div class=\"sk-label sk-toggleable\"><input class=\"sk-toggleable__control sk-hidden--visually\" id=\"48a50315-568f-4ca4-98bb-1b68fb16874d\" type=\"checkbox\" ><label for=\"48a50315-568f-4ca4-98bb-1b68fb16874d\" class=\"sk-toggleable__label sk-toggleable__label-arrow\">num_qt_scaled</label><div class=\"sk-toggleable__content\"><pre>[&#x27;INDUS&#x27;, &#x27;NOX&#x27;, &#x27;AGE&#x27;, &#x27;DIS&#x27;, &#x27;TAX&#x27;, &#x27;PTRATIO&#x27;, &#x27;LSTAT&#x27;]</pre></div></div></div><div class=\"sk-serial\"><div class=\"sk-item\"><div class=\"sk-serial\"><div class=\"sk-item\"><div class=\"sk-estimator sk-toggleable\"><input class=\"sk-toggleable__control sk-hidden--visually\" id=\"722d5a97-998a-4e00-a6c0-9a3b0a56309b\" type=\"checkbox\" ><label for=\"722d5a97-998a-4e00-a6c0-9a3b0a56309b\" class=\"sk-toggleable__label sk-toggleable__label-arrow\">QuantileTransformer</label><div class=\"sk-toggleable__content\"><pre>QuantileTransformer(n_quantiles=10, output_distribution=&#x27;normal&#x27;,\n",
              "                    random_state=42)</pre></div></div></div><div class=\"sk-item\"><div class=\"sk-estimator sk-toggleable\"><input class=\"sk-toggleable__control sk-hidden--visually\" id=\"80fd1877-7df7-48b6-9af8-f79557d634e8\" type=\"checkbox\" ><label for=\"80fd1877-7df7-48b6-9af8-f79557d634e8\" class=\"sk-toggleable__label sk-toggleable__label-arrow\">StandardScaler</label><div class=\"sk-toggleable__content\"><pre>StandardScaler()</pre></div></div></div></div></div></div></div></div><div class=\"sk-parallel-item\"><div class=\"sk-item\"><div class=\"sk-label-container\"><div class=\"sk-label sk-toggleable\"><input class=\"sk-toggleable__control sk-hidden--visually\" id=\"1d561ea1-47db-47ff-945a-94afe0426b27\" type=\"checkbox\" ><label for=\"1d561ea1-47db-47ff-945a-94afe0426b27\" class=\"sk-toggleable__label sk-toggleable__label-arrow\">num_scaled</label><div class=\"sk-toggleable__content\"><pre>[&#x27;RM&#x27;]</pre></div></div></div><div class=\"sk-serial\"><div class=\"sk-item\"><div class=\"sk-estimator sk-toggleable\"><input class=\"sk-toggleable__control sk-hidden--visually\" id=\"3e330810-cbdb-42a7-8f68-c0dcbaebf68e\" type=\"checkbox\" ><label for=\"3e330810-cbdb-42a7-8f68-c0dcbaebf68e\" class=\"sk-toggleable__label sk-toggleable__label-arrow\">StandardScaler</label><div class=\"sk-toggleable__content\"><pre>StandardScaler()</pre></div></div></div></div></div></div><div class=\"sk-parallel-item\"><div class=\"sk-item\"><div class=\"sk-label-container\"><div class=\"sk-label sk-toggleable\"><input class=\"sk-toggleable__control sk-hidden--visually\" id=\"3c0a93e2-fced-4957-8964-3a037ddc6f92\" type=\"checkbox\" ><label for=\"3c0a93e2-fced-4957-8964-3a037ddc6f92\" class=\"sk-toggleable__label sk-toggleable__label-arrow\">num_polynomial</label><div class=\"sk-toggleable__content\"><pre>[&#x27;CRIM&#x27;, &#x27;B&#x27;]</pre></div></div></div><div class=\"sk-serial\"><div class=\"sk-item\"><div class=\"sk-estimator sk-toggleable\"><input class=\"sk-toggleable__control sk-hidden--visually\" id=\"6a357273-3a66-433a-bd20-8b27a0c22f92\" type=\"checkbox\" ><label for=\"6a357273-3a66-433a-bd20-8b27a0c22f92\" class=\"sk-toggleable__label sk-toggleable__label-arrow\">PolynomialFeatures</label><div class=\"sk-toggleable__content\"><pre>PolynomialFeatures()</pre></div></div></div></div></div></div><div class=\"sk-parallel-item\"><div class=\"sk-item\"><div class=\"sk-label-container\"><div class=\"sk-label sk-toggleable\"><input class=\"sk-toggleable__control sk-hidden--visually\" id=\"6430af37-7351-4f9c-af33-7c22aec483bf\" type=\"checkbox\" ><label for=\"6430af37-7351-4f9c-af33-7c22aec483bf\" class=\"sk-toggleable__label sk-toggleable__label-arrow\">cat_1hot</label><div class=\"sk-toggleable__content\"><pre>[&#x27;CHAS&#x27;, &#x27;RAD&#x27;]</pre></div></div></div><div class=\"sk-serial\"><div class=\"sk-item\"><div class=\"sk-estimator sk-toggleable\"><input class=\"sk-toggleable__control sk-hidden--visually\" id=\"a73f1c82-d845-48d2-8f5d-51a25cdfb887\" type=\"checkbox\" ><label for=\"a73f1c82-d845-48d2-8f5d-51a25cdfb887\" class=\"sk-toggleable__label sk-toggleable__label-arrow\">OneHotEncoder</label><div class=\"sk-toggleable__content\"><pre>OneHotEncoder()</pre></div></div></div></div></div></div><div class=\"sk-parallel-item\"><div class=\"sk-item\"><div class=\"sk-label-container\"><div class=\"sk-label sk-toggleable\"><input class=\"sk-toggleable__control sk-hidden--visually\" id=\"720debbc-5297-4848-acf2-2892148f9b6b\" type=\"checkbox\" ><label for=\"720debbc-5297-4848-acf2-2892148f9b6b\" class=\"sk-toggleable__label sk-toggleable__label-arrow\">zn_cat</label><div class=\"sk-toggleable__content\"><pre>[&#x27;ZN&#x27;]</pre></div></div></div><div class=\"sk-serial\"><div class=\"sk-item\"><div class=\"sk-serial\"><div class=\"sk-item\"><div class=\"sk-estimator sk-toggleable\"><input class=\"sk-toggleable__control sk-hidden--visually\" id=\"20a8d6c6-380f-46bb-a515-1198a46ea987\" type=\"checkbox\" ><label for=\"20a8d6c6-380f-46bb-a515-1198a46ea987\" class=\"sk-toggleable__label sk-toggleable__label-arrow\">ZNTransformer</label><div class=\"sk-toggleable__content\"><pre>ZNTransformer(col_type=&#x27;cat&#x27;)</pre></div></div></div><div class=\"sk-item\"><div class=\"sk-estimator sk-toggleable\"><input class=\"sk-toggleable__control sk-hidden--visually\" id=\"ee9def74-24e5-4663-b715-18a0d4db8df1\" type=\"checkbox\" ><label for=\"ee9def74-24e5-4663-b715-18a0d4db8df1\" class=\"sk-toggleable__label sk-toggleable__label-arrow\">OneHotEncoder</label><div class=\"sk-toggleable__content\"><pre>OneHotEncoder()</pre></div></div></div></div></div></div></div></div><div class=\"sk-parallel-item\"><div class=\"sk-item\"><div class=\"sk-label-container\"><div class=\"sk-label sk-toggleable\"><input class=\"sk-toggleable__control sk-hidden--visually\" id=\"7b06e71c-c925-40f5-a512-5ead55c44cc1\" type=\"checkbox\" ><label for=\"7b06e71c-c925-40f5-a512-5ead55c44cc1\" class=\"sk-toggleable__label sk-toggleable__label-arrow\">zn_num</label><div class=\"sk-toggleable__content\"><pre>[&#x27;ZN&#x27;]</pre></div></div></div><div class=\"sk-serial\"><div class=\"sk-item\"><div class=\"sk-serial\"><div class=\"sk-item\"><div class=\"sk-estimator sk-toggleable\"><input class=\"sk-toggleable__control sk-hidden--visually\" id=\"2d006c50-c2d3-4366-8522-194e833d4f1a\" type=\"checkbox\" ><label for=\"2d006c50-c2d3-4366-8522-194e833d4f1a\" class=\"sk-toggleable__label sk-toggleable__label-arrow\">ZNTransformer</label><div class=\"sk-toggleable__content\"><pre>ZNTransformer()</pre></div></div></div><div class=\"sk-item\"><div class=\"sk-estimator sk-toggleable\"><input class=\"sk-toggleable__control sk-hidden--visually\" id=\"74b962fc-93e9-4cd4-87bc-b751cd2f8cce\" type=\"checkbox\" ><label for=\"74b962fc-93e9-4cd4-87bc-b751cd2f8cce\" class=\"sk-toggleable__label sk-toggleable__label-arrow\">SimpleImputer</label><div class=\"sk-toggleable__content\"><pre>SimpleImputer()</pre></div></div></div><div class=\"sk-item\"><div class=\"sk-estimator sk-toggleable\"><input class=\"sk-toggleable__control sk-hidden--visually\" id=\"05d4fab4-56b7-476d-86a0-c4424a9e9b77\" type=\"checkbox\" ><label for=\"05d4fab4-56b7-476d-86a0-c4424a9e9b77\" class=\"sk-toggleable__label sk-toggleable__label-arrow\">QuantileTransformer</label><div class=\"sk-toggleable__content\"><pre>QuantileTransformer(n_quantiles=5, output_distribution=&#x27;normal&#x27;,\n",
              "                    random_state=42)</pre></div></div></div></div></div></div></div></div></div></div><div class=\"sk-item\"><div class=\"sk-estimator sk-toggleable\"><input class=\"sk-toggleable__control sk-hidden--visually\" id=\"650ea2f2-3643-49f4-a443-8b4683015e05\" type=\"checkbox\" ><label for=\"650ea2f2-3643-49f4-a443-8b4683015e05\" class=\"sk-toggleable__label sk-toggleable__label-arrow\">GradientBoostingRegressor</label><div class=\"sk-toggleable__content\"><pre>GradientBoostingRegressor(random_state=42)</pre></div></div></div></div></div></div></div></div></div></div></div></div>"
            ]
          },
          "metadata": {},
          "execution_count": 149
        }
      ]
    },
    {
      "cell_type": "code",
      "source": [
        "grid_search.best_params_"
      ],
      "metadata": {
        "colab": {
          "base_uri": "https://localhost:8080/"
        },
        "id": "IFc0DxBC6H6b",
        "outputId": "7e324aea-9709-44e8-b08f-643fd4580893"
      },
      "execution_count": null,
      "outputs": [
        {
          "output_type": "execute_result",
          "data": {
            "text/plain": [
              "{'gbr__n_estimators': 150,\n",
              " 'preprocessing__num_polynomial__degree': 5,\n",
              " 'preprocessing__num_qt_scaled__quantiletransformer__n_quantiles': 15}"
            ]
          },
          "metadata": {},
          "execution_count": 150
        }
      ]
    },
    {
      "cell_type": "code",
      "source": [
        "cv_res = pd.DataFrame(grid_search.cv_results_)\n",
        "cv_res.sort_values(by='mean_test_score', ascending=False, inplace=True)\n",
        "\n",
        "# extra code to change the sign on score columns\n",
        "score_cols = [\"split0_test_score\", \"split1_test_score\", \"split2_test_score\", \"mean_test_score\"]\n",
        "cv_res[score_cols] = -cv_res[score_cols].round(2)\n",
        "\n",
        "cv_res.head()"
      ],
      "metadata": {
        "colab": {
          "base_uri": "https://localhost:8080/",
          "height": 444
        },
        "id": "ESRndOJ2MfTB",
        "outputId": "69842a79-6194-4ac6-c63d-6d50e786df9e"
      },
      "execution_count": null,
      "outputs": [
        {
          "output_type": "execute_result",
          "data": {
            "text/plain": [
              "    mean_fit_time  std_fit_time  mean_score_time  std_score_time  \\\n",
              "29       0.478695      0.008434         0.030759        0.002112   \n",
              "31       0.375208      0.078936         0.025041        0.005959   \n",
              "30       0.472121      0.001281         0.031084        0.002347   \n",
              "28       0.378073      0.072875         0.027450        0.003783   \n",
              "9        0.189283      0.003866         0.019926        0.000095   \n",
              "\n",
              "   param_gbr__n_estimators param_preprocessing__num_polynomial__degree  \\\n",
              "29                     150                                           5   \n",
              "31                     150                                           5   \n",
              "30                     150                                           5   \n",
              "28                     150                                           5   \n",
              "9                      100                                           4   \n",
              "\n",
              "   param_preprocessing__num_qt_scaled__quantiletransformer__n_quantiles  \\\n",
              "29                                                 15                     \n",
              "31                                                100                     \n",
              "30                                                 50                     \n",
              "28                                                  5                     \n",
              "9                                                  15                     \n",
              "\n",
              "                                               params  split0_test_score  \\\n",
              "29  {'gbr__n_estimators': 150, 'preprocessing__num...               3.29   \n",
              "31  {'gbr__n_estimators': 150, 'preprocessing__num...               3.29   \n",
              "30  {'gbr__n_estimators': 150, 'preprocessing__num...               3.29   \n",
              "28  {'gbr__n_estimators': 150, 'preprocessing__num...               3.29   \n",
              "9   {'gbr__n_estimators': 100, 'preprocessing__num...               3.28   \n",
              "\n",
              "    split1_test_score  split2_test_score  mean_test_score  std_test_score  \\\n",
              "29               3.42               3.07             3.26        0.145668   \n",
              "31               3.43               3.07             3.26        0.146545   \n",
              "30               3.43               3.07             3.27        0.145485   \n",
              "28               3.45               3.07             3.27        0.153343   \n",
              "9                3.35               3.18             3.27        0.070154   \n",
              "\n",
              "    rank_test_score  \n",
              "29                1  \n",
              "31                2  \n",
              "30                3  \n",
              "28                4  \n",
              "9                 5  "
            ],
            "text/html": [
              "\n",
              "  <div id=\"df-3c46e6b6-51db-4d67-a0c9-37bb40e46629\">\n",
              "    <div class=\"colab-df-container\">\n",
              "      <div>\n",
              "<style scoped>\n",
              "    .dataframe tbody tr th:only-of-type {\n",
              "        vertical-align: middle;\n",
              "    }\n",
              "\n",
              "    .dataframe tbody tr th {\n",
              "        vertical-align: top;\n",
              "    }\n",
              "\n",
              "    .dataframe thead th {\n",
              "        text-align: right;\n",
              "    }\n",
              "</style>\n",
              "<table border=\"1\" class=\"dataframe\">\n",
              "  <thead>\n",
              "    <tr style=\"text-align: right;\">\n",
              "      <th></th>\n",
              "      <th>mean_fit_time</th>\n",
              "      <th>std_fit_time</th>\n",
              "      <th>mean_score_time</th>\n",
              "      <th>std_score_time</th>\n",
              "      <th>param_gbr__n_estimators</th>\n",
              "      <th>param_preprocessing__num_polynomial__degree</th>\n",
              "      <th>param_preprocessing__num_qt_scaled__quantiletransformer__n_quantiles</th>\n",
              "      <th>params</th>\n",
              "      <th>split0_test_score</th>\n",
              "      <th>split1_test_score</th>\n",
              "      <th>split2_test_score</th>\n",
              "      <th>mean_test_score</th>\n",
              "      <th>std_test_score</th>\n",
              "      <th>rank_test_score</th>\n",
              "    </tr>\n",
              "  </thead>\n",
              "  <tbody>\n",
              "    <tr>\n",
              "      <th>29</th>\n",
              "      <td>0.478695</td>\n",
              "      <td>0.008434</td>\n",
              "      <td>0.030759</td>\n",
              "      <td>0.002112</td>\n",
              "      <td>150</td>\n",
              "      <td>5</td>\n",
              "      <td>15</td>\n",
              "      <td>{'gbr__n_estimators': 150, 'preprocessing__num...</td>\n",
              "      <td>3.29</td>\n",
              "      <td>3.42</td>\n",
              "      <td>3.07</td>\n",
              "      <td>3.26</td>\n",
              "      <td>0.145668</td>\n",
              "      <td>1</td>\n",
              "    </tr>\n",
              "    <tr>\n",
              "      <th>31</th>\n",
              "      <td>0.375208</td>\n",
              "      <td>0.078936</td>\n",
              "      <td>0.025041</td>\n",
              "      <td>0.005959</td>\n",
              "      <td>150</td>\n",
              "      <td>5</td>\n",
              "      <td>100</td>\n",
              "      <td>{'gbr__n_estimators': 150, 'preprocessing__num...</td>\n",
              "      <td>3.29</td>\n",
              "      <td>3.43</td>\n",
              "      <td>3.07</td>\n",
              "      <td>3.26</td>\n",
              "      <td>0.146545</td>\n",
              "      <td>2</td>\n",
              "    </tr>\n",
              "    <tr>\n",
              "      <th>30</th>\n",
              "      <td>0.472121</td>\n",
              "      <td>0.001281</td>\n",
              "      <td>0.031084</td>\n",
              "      <td>0.002347</td>\n",
              "      <td>150</td>\n",
              "      <td>5</td>\n",
              "      <td>50</td>\n",
              "      <td>{'gbr__n_estimators': 150, 'preprocessing__num...</td>\n",
              "      <td>3.29</td>\n",
              "      <td>3.43</td>\n",
              "      <td>3.07</td>\n",
              "      <td>3.27</td>\n",
              "      <td>0.145485</td>\n",
              "      <td>3</td>\n",
              "    </tr>\n",
              "    <tr>\n",
              "      <th>28</th>\n",
              "      <td>0.378073</td>\n",
              "      <td>0.072875</td>\n",
              "      <td>0.027450</td>\n",
              "      <td>0.003783</td>\n",
              "      <td>150</td>\n",
              "      <td>5</td>\n",
              "      <td>5</td>\n",
              "      <td>{'gbr__n_estimators': 150, 'preprocessing__num...</td>\n",
              "      <td>3.29</td>\n",
              "      <td>3.45</td>\n",
              "      <td>3.07</td>\n",
              "      <td>3.27</td>\n",
              "      <td>0.153343</td>\n",
              "      <td>4</td>\n",
              "    </tr>\n",
              "    <tr>\n",
              "      <th>9</th>\n",
              "      <td>0.189283</td>\n",
              "      <td>0.003866</td>\n",
              "      <td>0.019926</td>\n",
              "      <td>0.000095</td>\n",
              "      <td>100</td>\n",
              "      <td>4</td>\n",
              "      <td>15</td>\n",
              "      <td>{'gbr__n_estimators': 100, 'preprocessing__num...</td>\n",
              "      <td>3.28</td>\n",
              "      <td>3.35</td>\n",
              "      <td>3.18</td>\n",
              "      <td>3.27</td>\n",
              "      <td>0.070154</td>\n",
              "      <td>5</td>\n",
              "    </tr>\n",
              "  </tbody>\n",
              "</table>\n",
              "</div>\n",
              "      <button class=\"colab-df-convert\" onclick=\"convertToInteractive('df-3c46e6b6-51db-4d67-a0c9-37bb40e46629')\"\n",
              "              title=\"Convert this dataframe to an interactive table.\"\n",
              "              style=\"display:none;\">\n",
              "        \n",
              "  <svg xmlns=\"http://www.w3.org/2000/svg\" height=\"24px\"viewBox=\"0 0 24 24\"\n",
              "       width=\"24px\">\n",
              "    <path d=\"M0 0h24v24H0V0z\" fill=\"none\"/>\n",
              "    <path d=\"M18.56 5.44l.94 2.06.94-2.06 2.06-.94-2.06-.94-.94-2.06-.94 2.06-2.06.94zm-11 1L8.5 8.5l.94-2.06 2.06-.94-2.06-.94L8.5 2.5l-.94 2.06-2.06.94zm10 10l.94 2.06.94-2.06 2.06-.94-2.06-.94-.94-2.06-.94 2.06-2.06.94z\"/><path d=\"M17.41 7.96l-1.37-1.37c-.4-.4-.92-.59-1.43-.59-.52 0-1.04.2-1.43.59L10.3 9.45l-7.72 7.72c-.78.78-.78 2.05 0 2.83L4 21.41c.39.39.9.59 1.41.59.51 0 1.02-.2 1.41-.59l7.78-7.78 2.81-2.81c.8-.78.8-2.07 0-2.86zM5.41 20L4 18.59l7.72-7.72 1.47 1.35L5.41 20z\"/>\n",
              "  </svg>\n",
              "      </button>\n",
              "      \n",
              "  <style>\n",
              "    .colab-df-container {\n",
              "      display:flex;\n",
              "      flex-wrap:wrap;\n",
              "      gap: 12px;\n",
              "    }\n",
              "\n",
              "    .colab-df-convert {\n",
              "      background-color: #E8F0FE;\n",
              "      border: none;\n",
              "      border-radius: 50%;\n",
              "      cursor: pointer;\n",
              "      display: none;\n",
              "      fill: #1967D2;\n",
              "      height: 32px;\n",
              "      padding: 0 0 0 0;\n",
              "      width: 32px;\n",
              "    }\n",
              "\n",
              "    .colab-df-convert:hover {\n",
              "      background-color: #E2EBFA;\n",
              "      box-shadow: 0px 1px 2px rgba(60, 64, 67, 0.3), 0px 1px 3px 1px rgba(60, 64, 67, 0.15);\n",
              "      fill: #174EA6;\n",
              "    }\n",
              "\n",
              "    [theme=dark] .colab-df-convert {\n",
              "      background-color: #3B4455;\n",
              "      fill: #D2E3FC;\n",
              "    }\n",
              "\n",
              "    [theme=dark] .colab-df-convert:hover {\n",
              "      background-color: #434B5C;\n",
              "      box-shadow: 0px 1px 3px 1px rgba(0, 0, 0, 0.15);\n",
              "      filter: drop-shadow(0px 1px 2px rgba(0, 0, 0, 0.3));\n",
              "      fill: #FFFFFF;\n",
              "    }\n",
              "  </style>\n",
              "\n",
              "      <script>\n",
              "        const buttonEl =\n",
              "          document.querySelector('#df-3c46e6b6-51db-4d67-a0c9-37bb40e46629 button.colab-df-convert');\n",
              "        buttonEl.style.display =\n",
              "          google.colab.kernel.accessAllowed ? 'block' : 'none';\n",
              "\n",
              "        async function convertToInteractive(key) {\n",
              "          const element = document.querySelector('#df-3c46e6b6-51db-4d67-a0c9-37bb40e46629');\n",
              "          const dataTable =\n",
              "            await google.colab.kernel.invokeFunction('convertToInteractive',\n",
              "                                                     [key], {});\n",
              "          if (!dataTable) return;\n",
              "\n",
              "          const docLinkHtml = 'Like what you see? Visit the ' +\n",
              "            '<a target=\"_blank\" href=https://colab.research.google.com/notebooks/data_table.ipynb>data table notebook</a>'\n",
              "            + ' to learn more about interactive tables.';\n",
              "          element.innerHTML = '';\n",
              "          dataTable['output_type'] = 'display_data';\n",
              "          await google.colab.output.renderOutput(dataTable, element);\n",
              "          const docLink = document.createElement('div');\n",
              "          docLink.innerHTML = docLinkHtml;\n",
              "          element.appendChild(docLink);\n",
              "        }\n",
              "      </script>\n",
              "    </div>\n",
              "  </div>\n",
              "  "
            ]
          },
          "metadata": {},
          "execution_count": 151
        }
      ]
    },
    {
      "cell_type": "markdown",
      "source": [
        "#### Compiling Final Model"
      ],
      "metadata": {
        "id": "n5ETvtgRo6Zd"
      }
    },
    {
      "cell_type": "code",
      "source": [
        "final_model = grid_search.best_estimator_\n",
        "final_model['gbr'].feature_importances_\n",
        "\n",
        "# cannot get feature names out because \n",
        "# zntransformer doesn't provide get_feature_names_out() method"
      ],
      "metadata": {
        "colab": {
          "base_uri": "https://localhost:8080/"
        },
        "id": "su_cno-aNoRy",
        "outputId": "53e93939-35d1-4537-f45f-a37d8f0595bf"
      },
      "execution_count": null,
      "outputs": [
        {
          "output_type": "execute_result",
          "data": {
            "text/plain": [
              "array([1.53905066e-03, 3.22865339e-02, 7.29182008e-03, 5.99412648e-02,\n",
              "       1.18110230e-02, 5.58201272e-02, 4.61579768e-01, 3.27653300e-01,\n",
              "       0.00000000e+00, 4.67830584e-03, 2.80377623e-03, 1.37891385e-03,\n",
              "       2.12739296e-03, 1.40981273e-03, 1.89911258e-03, 2.16640306e-04,\n",
              "       6.81608131e-04, 9.51819332e-04, 2.28328187e-03, 1.34965880e-03,\n",
              "       3.99534887e-04, 2.09113762e-03, 2.20413279e-03, 4.45471250e-04,\n",
              "       5.33831522e-03, 5.86908587e-04, 1.98373972e-04, 6.76160405e-03,\n",
              "       1.51885459e-03, 1.21919373e-04, 3.31897315e-05, 8.42045303e-04,\n",
              "       9.72511282e-06, 3.71932316e-05, 3.24010356e-04, 0.00000000e+00,\n",
              "       1.41831155e-04, 1.85001864e-04, 2.82513996e-05, 0.00000000e+00,\n",
              "       1.29510481e-04, 1.03481741e-05, 8.89430180e-04])"
            ]
          },
          "metadata": {},
          "execution_count": 154
        }
      ]
    },
    {
      "cell_type": "markdown",
      "source": [
        "#### Evaluating on the Test Set"
      ],
      "metadata": {
        "id": "piTylQUno8lA"
      }
    },
    {
      "cell_type": "code",
      "source": [
        "boston_test_data = test_set.drop('MEDV', axis=1)\n",
        "boston_test_target = test_set['MEDV'].copy()"
      ],
      "metadata": {
        "id": "ft3UyNwvo-xi"
      },
      "execution_count": null,
      "outputs": []
    },
    {
      "cell_type": "code",
      "source": [
        "final_predictions = final_model.predict(boston_test_data)"
      ],
      "metadata": {
        "id": "HSKCd5zSppql"
      },
      "execution_count": null,
      "outputs": []
    },
    {
      "cell_type": "code",
      "source": [
        "# calculate the root mean squared error on test set\n",
        "final_rmse = mean_squared_error(boston_test_target, final_predictions, squared=False)\n",
        "print(f'Final RMSE: {final_rmse.round(2)}')"
      ],
      "metadata": {
        "colab": {
          "base_uri": "https://localhost:8080/"
        },
        "id": "wc3mlG5vpvS4",
        "outputId": "a1ecf63d-49cc-4905-8232-0afbd516fb63"
      },
      "execution_count": null,
      "outputs": [
        {
          "output_type": "stream",
          "name": "stdout",
          "text": [
            "Final RMSE: 2.51\n"
          ]
        }
      ]
    },
    {
      "cell_type": "markdown",
      "source": [
        "##### Confidence Interval on Generalization Error"
      ],
      "metadata": {
        "id": "5cjzCRf7qPph"
      }
    },
    {
      "cell_type": "code",
      "source": [
        "from scipy import stats\n",
        "\n",
        "confidence = 0.95\n",
        "squared_errors = (final_predictions - boston_test_target) ** 2\n",
        "np.sqrt(\n",
        "    stats.t.interval(\n",
        "        confidence,\n",
        "        len(squared_errors) - 1,\n",
        "        loc=squared_errors.mean(),\n",
        "        scale=stats.sem(squared_errors)\n",
        "    ) \n",
        ")\n",
        "\n",
        "# at 95% confidence\n",
        "# the model's true performance \n",
        "# in the population would land between 1.9 and 3.0 RMSE "
      ],
      "metadata": {
        "colab": {
          "base_uri": "https://localhost:8080/"
        },
        "id": "BO3VaQdOqN-j",
        "outputId": "8f6ea344-c110-4f2a-f12d-26258052110a"
      },
      "execution_count": null,
      "outputs": [
        {
          "output_type": "execute_result",
          "data": {
            "text/plain": [
              "array([1.90031031, 3.00337124])"
            ]
          },
          "metadata": {},
          "execution_count": 162
        }
      ]
    },
    {
      "cell_type": "markdown",
      "source": [
        "### Launch Model"
      ],
      "metadata": {
        "id": "J-Bsoyf8r9Nb"
      }
    },
    {
      "cell_type": "markdown",
      "source": [
        "#### Saving your model"
      ],
      "metadata": {
        "id": "JNULRq8YsAhG"
      }
    },
    {
      "cell_type": "code",
      "source": [
        "import joblib\n",
        "\n",
        "joblib.dump(final_model, path + 'my_boston_housing_model_v1.pkl')"
      ],
      "metadata": {
        "colab": {
          "base_uri": "https://localhost:8080/"
        },
        "id": "GAcBhgHhqXfw",
        "outputId": "f0f12d41-19bf-4d02-ac81-0d2ae2428b73"
      },
      "execution_count": null,
      "outputs": [
        {
          "output_type": "execute_result",
          "data": {
            "text/plain": [
              "['/content/drive/MyDrive/Colab Notebooks/ml project #2 2023-02-24/my_boston_housing_model_v1.pkl']"
            ]
          },
          "metadata": {},
          "execution_count": 163
        }
      ]
    }
  ]
}